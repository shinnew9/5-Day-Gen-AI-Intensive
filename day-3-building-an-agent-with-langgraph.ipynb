{
 "cells": [
  {
   "cell_type": "code",
   "execution_count": 1,
   "id": "ed854e4f",
   "metadata": {
    "_cell_guid": "b1076dfc-b9ad-4769-8c92-a6c4dae69d19",
    "_uuid": "8f2839f25d086af736a60e9eeb907d3b93b6e0e5",
    "execution": {
     "iopub.execute_input": "2025-04-03T07:06:27.836464Z",
     "iopub.status.busy": "2025-04-03T07:06:27.836009Z",
     "iopub.status.idle": "2025-04-03T07:06:27.842077Z",
     "shell.execute_reply": "2025-04-03T07:06:27.840994Z"
    },
    "papermill": {
     "duration": 0.01117,
     "end_time": "2025-04-03T07:06:27.843976",
     "exception": false,
     "start_time": "2025-04-03T07:06:27.832806",
     "status": "completed"
    },
    "tags": []
   },
   "outputs": [],
   "source": [
    "# @title Licensed under the Apache License, Version 2.0 (the \"License\");\n",
    "# you may not use this file except in compliance with the License.\n",
    "# You may obtain a copy of the License at\n",
    "#\n",
    "# https://www.apache.org/licenses/LICENSE-2.0\n",
    "#\n",
    "# Unless required by applicable law or agreed to in writing, software\n",
    "# distributed under the License is distributed on an \"AS IS\" BASIS,\n",
    "# WITHOUT WARRANTIES OR CONDITIONS OF ANY KIND, either express or implied.\n",
    "# See the License for the specific language governing permissions and\n",
    "# limitations under the License."
   ]
  },
  {
   "cell_type": "markdown",
   "id": "e4795510",
   "metadata": {
    "papermill": {
     "duration": 0.001341,
     "end_time": "2025-04-03T07:06:27.847191",
     "exception": false,
     "start_time": "2025-04-03T07:06:27.845850",
     "status": "completed"
    },
    "tags": []
   },
   "source": [
    "# Day 3 - Building an agent with LangGraph and the Gemini API\n",
    "\n",
    "Welcome back to the kaggle 5-day Generative AI Course!\n",
    "\n",
    "In this notebook, you will use [LangGraph](https://www.langchain.com/langgraph) to define a stateful graph-based application built on the top of the Gemini API.\n",
    "\n",
    "You will build a simulated cafe ordering system, called BaristaBot. It will provide a looping chat interface to customers where they can order cafe beverages using natural language, and you will build nodes to represent the cafe's live menu and the \"back room\"ordering system.\n",
    "\n",
    "BaristaBot is used in other Gemini API demos, so if you are looking to explore something with a more minimal implementation, check out the [BaristaBot function calling example](https://github.com/google-gemini/cookbook/blob/main/examples/Agents_Function_Calling_Barista_Bot.ipynb) that implements a similar system using only the Gemini API Python SDK and function calling.\n",
    "\n",
    "## **IMPORTANT!**\n",
    "\n",
    "([Python's `input`](https://docs.python.org/3/library/functions.html#input))."
   ]
  }
 ],
 "metadata": {
  "kaggle": {
   "accelerator": "none",
   "dataSources": [],
   "isGpuEnabled": false,
   "isInternetEnabled": true,
   "language": "python",
   "sourceType": "notebook"
  },
  "kernelspec": {
   "display_name": "Python 3",
   "language": "python",
   "name": "python3"
  },
  "language_info": {
   "codemirror_mode": {
    "name": "ipython",
    "version": 3
   },
   "file_extension": ".py",
   "mimetype": "text/x-python",
   "name": "python",
   "nbconvert_exporter": "python",
   "pygments_lexer": "ipython3",
   "version": "3.10.12"
  },
  "papermill": {
   "default_parameters": {},
   "duration": 3.421527,
   "end_time": "2025-04-03T07:06:28.368944",
   "environment_variables": {},
   "exception": null,
   "input_path": "__notebook__.ipynb",
   "output_path": "__notebook__.ipynb",
   "parameters": {},
   "start_time": "2025-04-03T07:06:24.947417",
   "version": "2.6.0"
  }
 },
 "nbformat": 4,
 "nbformat_minor": 5
}
