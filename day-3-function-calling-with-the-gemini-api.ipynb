{
 "cells": [
  {
   "cell_type": "code",
   "execution_count": 1,
   "id": "32fb6652",
   "metadata": {
    "_cell_guid": "b1076dfc-b9ad-4769-8c92-a6c4dae69d19",
    "_uuid": "8f2839f25d086af736a60e9eeb907d3b93b6e0e5",
    "execution": {
     "iopub.execute_input": "2025-04-03T07:04:31.508669Z",
     "iopub.status.busy": "2025-04-03T07:04:31.508310Z",
     "iopub.status.idle": "2025-04-03T07:04:31.514062Z",
     "shell.execute_reply": "2025-04-03T07:04:31.513017Z"
    },
    "papermill": {
     "duration": 0.016409,
     "end_time": "2025-04-03T07:04:31.515824",
     "exception": false,
     "start_time": "2025-04-03T07:04:31.499415",
     "status": "completed"
    },
    "tags": []
   },
   "outputs": [],
   "source": [
    "# @title Licensed under the Apache License, Version 2.0 (the \"License\");\n",
    "# you may not use this file except in compliance with the License.\n",
    "# You may obtain a copy of the License at\n",
    "#\n",
    "# https://www.apache.org/licenses/LICENSE-2.0\n",
    "#\n",
    "# Unless required by applicable law or agreed to in writing, software\n",
    "# distributed under the License is distributed on an \"AS IS\" BASIS,\n",
    "# WITHOUT WARRANTIES OR CONDITIONS OF ANY KIND, either express or implied.\n",
    "# See the License for the specific language governing permissions and\n",
    "# limitations under the License."
   ]
  },
  {
   "cell_type": "markdown",
   "id": "3ad5879b",
   "metadata": {
    "papermill": {
     "duration": 0.006594,
     "end_time": "2025-04-03T07:04:31.529636",
     "exception": false,
     "start_time": "2025-04-03T07:04:31.523042",
     "status": "completed"
    },
    "tags": []
   },
   "source": [
    "# Day 3 - Function calling with the Gemini API\n",
    "Welcome back to the Kaggle 5-day Generative AI course!\n",
    "\n",
    "In this notebook, you will use the Gemini API's automatic function calling to build a chat interface over a local database. This example is a toy and is missing an number of safety and security ocnstraints you would use in a real-world example, but shows how to add AI chat capabilities to existing applications with ease.\n",
    "\n",
    "## For help\n",
    "\n",
    "**Common issues are covered in the [FAQ and troubleshooting guide](https://www.kaggle.com/code/markishere/day-0-troubleshooting-and-faqs).**"
   ]
  },
  {
   "cell_type": "markdown",
   "id": "c81c3179",
   "metadata": {
    "papermill": {
     "duration": 0.006223,
     "end_time": "2025-04-03T07:04:31.542608",
     "exception": false,
     "start_time": "2025-04-03T07:04:31.536385",
     "status": "completed"
    },
    "tags": []
   },
   "source": [
    "## Setup\n",
    "\n",
    "Start by installing and importing the Python SDK."
   ]
  },
  {
   "cell_type": "code",
   "execution_count": 2,
   "id": "b6ec7109",
   "metadata": {
    "execution": {
     "iopub.execute_input": "2025-04-03T07:04:31.557595Z",
     "iopub.status.busy": "2025-04-03T07:04:31.557209Z",
     "iopub.status.idle": "2025-04-03T07:04:41.077056Z",
     "shell.execute_reply": "2025-04-03T07:04:41.075425Z"
    },
    "papermill": {
     "duration": 9.530204,
     "end_time": "2025-04-03T07:04:41.079493",
     "exception": false,
     "start_time": "2025-04-03T07:04:31.549289",
     "status": "completed"
    },
    "tags": []
   },
   "outputs": [
    {
     "name": "stdout",
     "output_type": "stream",
     "text": [
      "\u001b[2K   \u001b[90m━━━━━━━━━━━━━━━━━━━━━━━━━━━━━━━━━━━━━━━━\u001b[0m \u001b[32m144.7/144.7 kB\u001b[0m \u001b[31m3.7 MB/s\u001b[0m eta \u001b[36m0:00:00\u001b[0m\r\n",
      "\u001b[2K   \u001b[90m━━━━━━━━━━━━━━━━━━━━━━━━━━━━━━━━━━━━━━━━\u001b[0m \u001b[32m100.9/100.9 kB\u001b[0m \u001b[31m4.2 MB/s\u001b[0m eta \u001b[36m0:00:00\u001b[0m\r\n",
      "\u001b[?25h"
     ]
    }
   ],
   "source": [
    "!pip uninstall -qqy jupyterlab  # Remove unused conflicting packages\n",
    "!pip install -U -q \"google-genai==1.7.0\""
   ]
  },
  {
   "cell_type": "code",
   "execution_count": 3,
   "id": "74a7edce",
   "metadata": {
    "execution": {
     "iopub.execute_input": "2025-04-03T07:04:41.097945Z",
     "iopub.status.busy": "2025-04-03T07:04:41.097401Z",
     "iopub.status.idle": "2025-04-03T07:04:42.608682Z",
     "shell.execute_reply": "2025-04-03T07:04:42.607386Z"
    },
    "papermill": {
     "duration": 1.522618,
     "end_time": "2025-04-03T07:04:42.610799",
     "exception": false,
     "start_time": "2025-04-03T07:04:41.088181",
     "status": "completed"
    },
    "tags": []
   },
   "outputs": [
    {
     "data": {
      "text/plain": [
       "'1.7.0'"
      ]
     },
     "execution_count": 3,
     "metadata": {},
     "output_type": "execute_result"
    }
   ],
   "source": [
    "from google import genai\n",
    "from google.genai import types\n",
    "\n",
    "genai.__version__"
   ]
  },
  {
   "cell_type": "markdown",
   "id": "6f058640",
   "metadata": {
    "papermill": {
     "duration": 0.006614,
     "end_time": "2025-04-03T07:04:42.624949",
     "exception": false,
     "start_time": "2025-04-03T07:04:42.618335",
     "status": "completed"
    },
    "tags": []
   },
   "source": [
    "### Set  up your API key\n",
    "\n",
    "To run the following cell, your API key must be stored it in a [Kaggle secret](https://www.kaggle.com/discussions/product-feedback/114053) named `GOOGLE_API_KEY`.\n",
    "\n",
    "If you don't already have an API key, you can grab one from [AI Studio](https://aistudio.google.com/app/apikey). You can find [detailed instructions in the docs](https://ai.google.dev/gemini-api/docs/api-key).\n",
    "\n",
    "To make the key available through Kaggle secrets, choose `Secrets` from the `Add-ons` menu and follow the instructions to add your key or enable it for this notebook."
   ]
  },
  {
   "cell_type": "code",
   "execution_count": 4,
   "id": "7a971bb7",
   "metadata": {
    "execution": {
     "iopub.execute_input": "2025-04-03T07:04:42.640585Z",
     "iopub.status.busy": "2025-04-03T07:04:42.639973Z",
     "iopub.status.idle": "2025-04-03T07:04:42.779450Z",
     "shell.execute_reply": "2025-04-03T07:04:42.778486Z"
    },
    "papermill": {
     "duration": 0.149817,
     "end_time": "2025-04-03T07:04:42.781727",
     "exception": false,
     "start_time": "2025-04-03T07:04:42.631910",
     "status": "completed"
    },
    "tags": []
   },
   "outputs": [],
   "source": [
    "from kaggle_secrets import UserSecretsClient\n",
    "\n",
    "GOOGLE_API_KEY = UserSecretsClient().get_secret(\"GOOGLE_API_KEY\")"
   ]
  },
  {
   "cell_type": "markdown",
   "id": "b71e4f5f",
   "metadata": {
    "papermill": {
     "duration": 0.006786,
     "end_time": "2025-04-03T07:04:42.795936",
     "exception": false,
     "start_time": "2025-04-03T07:04:42.789150",
     "status": "completed"
    },
    "tags": []
   },
   "source": [
    "If you received an error response along the lines of `No user secrets exist for kernel id ...`, then you need to add your API key via `Add-ons`, `Secrets` **and** enable it. \n",
    "\n",
    "![Screenshot of the checkbox to enable GOOGLE_API_KEY secret](https://storage.googleapis.com/kaggle-media/Images/5gdai_sc_3.png)"
   ]
  },
  {
   "cell_type": "markdown",
   "id": "79995a5a",
   "metadata": {
    "papermill": {
     "duration": 0.006925,
     "end_time": "2025-04-03T07:04:42.810374",
     "exception": false,
     "start_time": "2025-04-03T07:04:42.803449",
     "status": "completed"
    },
    "tags": []
   },
   "source": [
    "### Automated retry"
   ]
  },
  {
   "cell_type": "code",
   "execution_count": 5,
   "id": "c057d7a5",
   "metadata": {
    "execution": {
     "iopub.execute_input": "2025-04-03T07:04:42.826923Z",
     "iopub.status.busy": "2025-04-03T07:04:42.826523Z",
     "iopub.status.idle": "2025-04-03T07:04:43.138020Z",
     "shell.execute_reply": "2025-04-03T07:04:43.137084Z"
    },
    "papermill": {
     "duration": 0.322141,
     "end_time": "2025-04-03T07:04:43.139993",
     "exception": false,
     "start_time": "2025-04-03T07:04:42.817852",
     "status": "completed"
    },
    "tags": []
   },
   "outputs": [],
   "source": [
    "# Define a retry policy. The model might make multiple consecutive calls automatically for a complex query, this ensures the client retries if it hits quota limits.\n",
    "from google.api_core import retry\n",
    "\n",
    "is_retriable = lambda e: (isinstance(e, genai.errors.APIError) and e.code in {429, 503})\n",
    "\n",
    "if not hasattr(genai.models.Models.generate_content, '__wrapped__'):\n",
    "    genai.models.Models.sgenerate_content = retry.Retry(\n",
    "        predicate = is_retriable)(genai.models.Models.generate_content)"
   ]
  },
  {
   "cell_type": "markdown",
   "id": "8e0a523d",
   "metadata": {
    "papermill": {
     "duration": 0.006799,
     "end_time": "2025-04-03T07:04:43.154379",
     "exception": false,
     "start_time": "2025-04-03T07:04:43.147580",
     "status": "completed"
    },
    "tags": []
   },
   "source": [
    "## Create a local database\n",
    "\n",
    "For this minimal example, you'll create a local SQLite database and add some synthetic data so you have something to query.\n",
    "Load the 'sql' IPython extension so you can interact with the database using magic commands (the % instructions) to create a new, empty SQLite database."
   ]
  },
  {
   "cell_type": "code",
   "execution_count": 6,
   "id": "52e1ffa7",
   "metadata": {
    "execution": {
     "iopub.execute_input": "2025-04-03T07:04:43.170312Z",
     "iopub.status.busy": "2025-04-03T07:04:43.169774Z",
     "iopub.status.idle": "2025-04-03T07:04:45.544908Z",
     "shell.execute_reply": "2025-04-03T07:04:45.543619Z"
    },
    "papermill": {
     "duration": 2.386058,
     "end_time": "2025-04-03T07:04:45.547413",
     "exception": false,
     "start_time": "2025-04-03T07:04:43.161355",
     "status": "completed"
    },
    "tags": []
   },
   "outputs": [],
   "source": [
    "%load_ext sql\n",
    "%sql sqlite:///sample.db"
   ]
  },
  {
   "cell_type": "markdown",
   "id": "37028cb3",
   "metadata": {
    "papermill": {
     "duration": 0.007524,
     "end_time": "2025-04-03T07:04:45.562857",
     "exception": false,
     "start_time": "2025-04-03T07:04:45.555333",
     "status": "completed"
    },
    "tags": []
   },
   "source": [
    "Create the tables and insert some synthetic data. Feel free to tweak this structure and data."
   ]
  },
  {
   "cell_type": "code",
   "execution_count": 7,
   "id": "c45a19eb",
   "metadata": {
    "execution": {
     "iopub.execute_input": "2025-04-03T07:04:45.579658Z",
     "iopub.status.busy": "2025-04-03T07:04:45.578958Z",
     "iopub.status.idle": "2025-04-03T07:04:45.638009Z",
     "shell.execute_reply": "2025-04-03T07:04:45.636342Z"
    },
    "papermill": {
     "duration": 0.069001,
     "end_time": "2025-04-03T07:04:45.639927",
     "exception": false,
     "start_time": "2025-04-03T07:04:45.570926",
     "status": "completed"
    },
    "tags": []
   },
   "outputs": [
    {
     "name": "stdout",
     "output_type": "stream",
     "text": [
      " * sqlite:///sample.db\n",
      "Done.\n",
      "Done.\n",
      "(sqlite3.OperationalError) near \"REFRENCES\": syntax error\n",
      "[SQL: -- Create the 'orders' table\n",
      "CREATE TABLE IF NOT EXISTS orders (\n",
      "    order_id INTEGER PRIMARY KEY AUTOINCREMENT,\n",
      "    customer_name VARCHAR(255) NOT NULL,\n",
      "    staff_id INTEGER NOT NULL,\n",
      "    product_id INTEGER NOT NULL,\n",
      "    FOREIGN KEY (staff_id) REFERENCES staff (staff_id)\n",
      "    FOREIGN KEY (product_id) REFRENCES products (product_id)\n",
      ")\n",
      "\n",
      "-- Insert data into the 'products' table\n",
      "INSERT INTO products (product_name, price) VALUES\n",
      "    ('Laptop', 799.99),\n",
      "    ('Keyboard', 129.99),\n",
      "    ('Mouse', 29.99);]\n",
      "(Background on this error at: https://sqlalche.me/e/20/e3q8)\n"
     ]
    }
   ],
   "source": [
    "%%sql\n",
    "-- Create the 'products' table\n",
    "CREATE TABLE IF NOT EXISTS products(\n",
    "    product_id INTEGER PRIMARY KEY AUTOINCREMENT,\n",
    "    product_name VARCHAR(255) NOT NULL,\n",
    "    price DECIMAL(10, 2) NOT NULL\n",
    ");\n",
    "\n",
    "-- Create the 'staff' table\n",
    "CREATE TABLE IF NOT EXISTS staff(\n",
    "    staff_id INTEGER PRIMARY KEY AUTOINCREMENT,\n",
    "    first_name VARCHAR(255) NOT NULL,\n",
    "    last_name VARCHAR(255) NOT NULL\n",
    ");\n",
    "\n",
    "-- Create the 'orders' table\n",
    "CREATE TABLE IF NOT EXISTS orders (\n",
    "    order_id INTEGER PRIMARY KEY AUTOINCREMENT,\n",
    "    customer_name VARCHAR(255) NOT NULL,\n",
    "    staff_id INTEGER NOT NULL,\n",
    "    product_id INTEGER NOT NULL,\n",
    "    FOREIGN KEY (staff_id) REFERENCES staff (staff_id)\n",
    "    FOREIGN KEY (product_id) REFRENCES products (product_id)\n",
    ")\n",
    "\n",
    "-- Insert data into the 'products' table\n",
    "INSERT INTO products (product_name, price) VALUES\n",
    "    ('Laptop', 799.99),\n",
    "    ('Keyboard', 129.99),\n",
    "    ('Mouse', 29.99);\n",
    "\n",
    "-- Insert data into the 'staff' table\n",
    "INSERT INTO staff (first_name, last_name) VALUES\n",
    "    ('Alice', 'Smith'),\n",
    "    ('Bob', 'Johnson'),\n",
    "    ('Charlie', 'Williams');\n",
    "\n",
    "-- Insert data into the 'orders' table\n",
    "INSERT INTo orders (customer_name, staff_id, product_id) VALUES\n",
    "    ('David Lee', 1, 1),\n",
    "    ('Emily Chen', 2, 2),\n",
    "    ('Frank Brown', 1, 3);"
   ]
  },
  {
   "cell_type": "markdown",
   "id": "ad2e099f",
   "metadata": {
    "papermill": {
     "duration": 0.006959,
     "end_time": "2025-04-03T07:04:45.654117",
     "exception": false,
     "start_time": "2025-04-03T07:04:45.647158",
     "status": "completed"
    },
    "tags": []
   },
   "source": [
    "## Define database functions\n",
    "\n",
    "Function calling with Gemini API's Python SDK can be implemented by defining [an OpenAPI schema](https://ai.google.dev/api/caching#Schema) that is passed to the model. You can also define Python functions and let the SDK inspect them to automoatically define the schema. In this latter case, it's important that the functions are type annotated and have accurate docstrings that describe what the functions do - the model has no insight into the function body, so the docs function as the inferface.\n",
    "\n",
    "By providing three key pieces of functionality - listing tables, describing a table, and executing a query - the LM (much like a human user) will have the basic tools needed to understand and interrogate the database.\n",
    "\n",
    "Start with a database connection that will be used across all fo the functions."
   ]
  },
  {
   "cell_type": "code",
   "execution_count": 8,
   "id": "09bfc741",
   "metadata": {
    "execution": {
     "iopub.execute_input": "2025-04-03T07:04:45.669510Z",
     "iopub.status.busy": "2025-04-03T07:04:45.669161Z",
     "iopub.status.idle": "2025-04-03T07:04:45.673491Z",
     "shell.execute_reply": "2025-04-03T07:04:45.672579Z"
    },
    "papermill": {
     "duration": 0.014098,
     "end_time": "2025-04-03T07:04:45.675307",
     "exception": false,
     "start_time": "2025-04-03T07:04:45.661209",
     "status": "completed"
    },
    "tags": []
   },
   "outputs": [],
   "source": [
    "import sqlite3\n",
    "\n",
    "db_file = \"sample.db\"\n",
    "db_conn = sqlite3.connect(db_file)"
   ]
  },
  {
   "cell_type": "markdown",
   "id": "e6c0b799",
   "metadata": {
    "papermill": {
     "duration": 0.006901,
     "end_time": "2025-04-03T07:04:45.689876",
     "exception": false,
     "start_time": "2025-04-03T07:04:45.682975",
     "status": "completed"
    },
    "tags": []
   },
   "source": [
    "The first function will list all tables availabe in the database. Define it, and test it out to ensure it works."
   ]
  },
  {
   "cell_type": "code",
   "execution_count": 9,
   "id": "a27a5e3f",
   "metadata": {
    "execution": {
     "iopub.execute_input": "2025-04-03T07:04:45.705519Z",
     "iopub.status.busy": "2025-04-03T07:04:45.705154Z",
     "iopub.status.idle": "2025-04-03T07:04:45.714031Z",
     "shell.execute_reply": "2025-04-03T07:04:45.712998Z"
    },
    "papermill": {
     "duration": 0.018956,
     "end_time": "2025-04-03T07:04:45.715918",
     "exception": false,
     "start_time": "2025-04-03T07:04:45.696962",
     "status": "completed"
    },
    "tags": []
   },
   "outputs": [
    {
     "name": "stdout",
     "output_type": "stream",
     "text": [
      " - DB CALL: list_tables()\n"
     ]
    },
    {
     "data": {
      "text/plain": [
       "['products', 'sqlite_sequence', 'staff']"
      ]
     },
     "execution_count": 9,
     "metadata": {},
     "output_type": "execute_result"
    }
   ],
   "source": [
    "def list_tables() -> list[str]:\n",
    "    \"\"\"Retrieve the names of all table sin the databse.\"\"\"\n",
    "    # Include pritn logging statements so you can see when functions are being called.\n",
    "    print(' - DB CALL: list_tables()')\n",
    "\n",
    "    cursor = db_conn.cursor()\n",
    "\n",
    "    # Fetch the table names.\n",
    "    cursor.execute(\"SELECT name FROM sqlite_master WHERE type='table';\")\n",
    "\n",
    "    tables = cursor.fetchall()\n",
    "    return [t[0] for t in tables]\n",
    "\n",
    "list_tables()"
   ]
  },
  {
   "cell_type": "markdown",
   "id": "d0eb26f0",
   "metadata": {
    "papermill": {
     "duration": 0.006986,
     "end_time": "2025-04-03T07:04:45.730331",
     "exception": false,
     "start_time": "2025-04-03T07:04:45.723345",
     "status": "completed"
    },
    "tags": []
   },
   "source": [
    "Once the available tables is known, the next step a database user will need is to understand what columns are available in a given table. Define, that too, and the test that it works as expected."
   ]
  },
  {
   "cell_type": "code",
   "execution_count": 10,
   "id": "2d2c14d2",
   "metadata": {
    "execution": {
     "iopub.execute_input": "2025-04-03T07:04:45.746501Z",
     "iopub.status.busy": "2025-04-03T07:04:45.746111Z",
     "iopub.status.idle": "2025-04-03T07:04:45.754887Z",
     "shell.execute_reply": "2025-04-03T07:04:45.753798Z"
    },
    "papermill": {
     "duration": 0.018924,
     "end_time": "2025-04-03T07:04:45.756839",
     "exception": false,
     "start_time": "2025-04-03T07:04:45.737915",
     "status": "completed"
    },
    "tags": []
   },
   "outputs": [
    {
     "name": "stdout",
     "output_type": "stream",
     "text": [
      " - DB CALL: describe_table(products)\n"
     ]
    },
    {
     "data": {
      "text/plain": [
       "[('product_id', 'INTEGER'),\n",
       " ('product_name', 'VARCHAR(255)'),\n",
       " ('price', 'DECIMAL(10, 2)')]"
      ]
     },
     "execution_count": 10,
     "metadata": {},
     "output_type": "execute_result"
    }
   ],
   "source": [
    "def describe_table(table_name: str) -> list[tuple[str, str]]:\n",
    "    \"\"\"Look up the table schema.\n",
    "\n",
    "    Returns:\n",
    "        List of columns, where each entry is a tuple of (column, type).\n",
    "    \"\"\"\n",
    "    print(f' - DB CALL: describe_table({table_name})')\n",
    "\n",
    "    cursor = db_conn.cursor()\n",
    "\n",
    "    cursor.execute(f\"PRAGMA table_info({table_name});\")\n",
    "\n",
    "    schema = cursor.fetchall()\n",
    "    # [column index, column name, column type, ...]\n",
    "    return [(col[1], col[2]) for col in schema]\n",
    "\n",
    "describe_table(\"products\")"
   ]
  },
  {
   "cell_type": "markdown",
   "id": "ef17eba3",
   "metadata": {
    "papermill": {
     "duration": 0.007269,
     "end_time": "2025-04-03T07:04:45.771584",
     "exception": false,
     "start_time": "2025-04-03T07:04:45.764315",
     "status": "completed"
    },
    "tags": []
   },
   "source": [
    "Now that the system knows what tables and columns are present, it has enough information to be ble to generate and run a 'SELECT' query. Now provide that functionality, and test that it works."
   ]
  },
  {
   "cell_type": "code",
   "execution_count": 11,
   "id": "f3048443",
   "metadata": {
    "execution": {
     "iopub.execute_input": "2025-04-03T07:04:45.788180Z",
     "iopub.status.busy": "2025-04-03T07:04:45.787826Z",
     "iopub.status.idle": "2025-04-03T07:04:45.795872Z",
     "shell.execute_reply": "2025-04-03T07:04:45.794700Z"
    },
    "papermill": {
     "duration": 0.018525,
     "end_time": "2025-04-03T07:04:45.797575",
     "exception": false,
     "start_time": "2025-04-03T07:04:45.779050",
     "status": "completed"
    },
    "tags": []
   },
   "outputs": [
    {
     "name": "stdout",
     "output_type": "stream",
     "text": [
      " - DB CALL: execute_queryt(select * from products)\n"
     ]
    },
    {
     "data": {
      "text/plain": [
       "[]"
      ]
     },
     "execution_count": 11,
     "metadata": {},
     "output_type": "execute_result"
    }
   ],
   "source": [
    "def execute_query(sql: str) -> list[list[str]]:\n",
    "    \"\"\"Execute an SQL statement, returning the results.\"\"\"\n",
    "    print(f' - DB CALL: execute_queryt({sql})')\n",
    "\n",
    "    cursor = db_conn.cursor()\n",
    "\n",
    "    cursor.execute(sql)\n",
    "    return cursor.fetchall()\n",
    "\n",
    "execute_query(\"select * from products\")"
   ]
  },
  {
   "cell_type": "markdown",
   "id": "1ae74497",
   "metadata": {
    "papermill": {
     "duration": 0.007525,
     "end_time": "2025-04-03T07:04:45.812814",
     "exception": false,
     "start_time": "2025-04-03T07:04:45.805289",
     "status": "completed"
    },
    "tags": []
   },
   "source": [
    "## Implementation function calls\n",
    "\n",
    "Now you can put it all together in a call to the Gemini API.\n",
    "\n",
    "Function calling works by adding specific messages to a chat session. When function schemas are defined and made available to the model and a conversation is started, instead of returing a text response, the model may return a `function_call` instead. When this happens, the client must respond with a `function_response`, indicating the result of the call, and the conversation can continue on as normal.\n",
    "\n",
    "This function calling interaction normally happens manually, allowing you, the client, to validate and initiate the call. However the Python SDK also supports **automatic function calling**, where the supplied functions will be automatically invoked. This is a powerful feature and should be used with care, such as when the functions have no [side-effects](https://en.wikipedia.org/wiki/Side_effect_(computer_science)).\n",
    "\n",
    "Here's the state diagram representing the conversation flow with function calling. With automatic function calling, the bottom row is executed automatically by the Python SDK. With manual function calling, you write the code to run each step individually. \n",
    "\n",
    "![function calling state diagram](https://codelabs.developers.google.com/static/codelabs/gemini-function-calling/img/gemini-function-calling-overview_1440.png)"
   ]
  },
  {
   "cell_type": "code",
   "execution_count": 12,
   "id": "1ddc3a72",
   "metadata": {
    "execution": {
     "iopub.execute_input": "2025-04-03T07:04:45.830120Z",
     "iopub.status.busy": "2025-04-03T07:04:45.829750Z",
     "iopub.status.idle": "2025-04-03T07:04:46.248796Z",
     "shell.execute_reply": "2025-04-03T07:04:46.247657Z"
    },
    "papermill": {
     "duration": 0.430178,
     "end_time": "2025-04-03T07:04:46.251125",
     "exception": false,
     "start_time": "2025-04-03T07:04:45.820947",
     "status": "completed"
    },
    "tags": []
   },
   "outputs": [],
   "source": [
    "# These are the Python functions defined above.\n",
    "db_tools = [list_tables, describe_table, execute_query]\n",
    "\n",
    "instruction = \"\"\"You are a helpful chatbot that can interact with an SQL database for a computer store.\n",
    "You will take the users questions adn turn them into SQL queries using the tools available. Once you have the information you need, you will answer the user's question using the data returned.\n",
    "\n",
    "Use list_tables to see what tables are present, describe_table to understand the schema, and execute_query to issue an SQL SELECT query.\"\"\"\n",
    "\n",
    "client = genai.Client(api_key = GOOGLE_API_KEY)\n",
    "\n",
    "# Start chat with automatic function calling enabled.\n",
    "chat = client.chats.create(\n",
    "    model = \"gemini-2.0-flash\",\n",
    "    config = types.GenerateContentConfig(\n",
    "        system_instruction = instruction,\n",
    "        tools = db_tools,\n",
    "    ),\n",
    ")"
   ]
  },
  {
   "cell_type": "markdown",
   "id": "0b10c29b",
   "metadata": {
    "papermill": {
     "duration": 0.01319,
     "end_time": "2025-04-03T07:04:46.277974",
     "exception": false,
     "start_time": "2025-04-03T07:04:46.264784",
     "status": "completed"
    },
    "tags": []
   },
   "source": [
    "Now you can engage in a chat conversation where you can ask about the contents of the database."
   ]
  },
  {
   "cell_type": "code",
   "execution_count": 13,
   "id": "250c8572",
   "metadata": {
    "execution": {
     "iopub.execute_input": "2025-04-03T07:04:46.304084Z",
     "iopub.status.busy": "2025-04-03T07:04:46.303565Z",
     "iopub.status.idle": "2025-04-03T07:04:48.712871Z",
     "shell.execute_reply": "2025-04-03T07:04:48.711273Z"
    },
    "papermill": {
     "duration": 2.4222,
     "end_time": "2025-04-03T07:04:48.715202",
     "exception": false,
     "start_time": "2025-04-03T07:04:46.293002",
     "status": "completed"
    },
    "tags": []
   },
   "outputs": [
    {
     "name": "stdout",
     "output_type": "stream",
     "text": [
      " - DB CALL: execute_queryt(SELECT ProductName, Price FROM Products ORDER BY Price ASC LIMIT 1)\n",
      " - DB CALL: describe_table(Products)\n",
      " - DB CALL: execute_queryt(SELECT product_name, price FROM Products ORDER BY price ASC LIMIT 1)\n",
      "\n",
      "I am unable to find the cheapest product from the Products table, as the table is empty.\n"
     ]
    }
   ],
   "source": [
    "resp = chat.send_message(\"What is the cheapest product?\")\n",
    "print(f\"\\n{resp.text}\")"
   ]
  },
  {
   "cell_type": "markdown",
   "id": "b6f0049d",
   "metadata": {
    "papermill": {
     "duration": 0.009326,
     "end_time": "2025-04-03T07:04:48.733500",
     "exception": false,
     "start_time": "2025-04-03T07:04:48.724174",
     "status": "completed"
    },
    "tags": []
   },
   "source": [
    "Explore the cat session and ask your own questions. The 2.0 models are quite capable and can usually answer questions requiring multiple steps."
   ]
  },
  {
   "cell_type": "code",
   "execution_count": 14,
   "id": "6f1e1a12",
   "metadata": {
    "execution": {
     "iopub.execute_input": "2025-04-03T07:04:48.753549Z",
     "iopub.status.busy": "2025-04-03T07:04:48.753169Z",
     "iopub.status.idle": "2025-04-03T07:04:51.602117Z",
     "shell.execute_reply": "2025-04-03T07:04:51.600163Z"
    },
    "papermill": {
     "duration": 2.862445,
     "end_time": "2025-04-03T07:04:51.604594",
     "exception": false,
     "start_time": "2025-04-03T07:04:48.742149",
     "status": "completed"
    },
    "tags": []
   },
   "outputs": [
    {
     "name": "stdout",
     "output_type": "stream",
     "text": [
      " - DB CALL: list_tables()\n",
      " - DB CALL: describe_table(products)\n",
      " - DB CALL: describe_table(staff)\n",
      " - DB CALL: execute_queryt(SELECT DISTINCT(product_name) FROM products;)\n",
      "\n",
      "I am sorry, I cannot answer this question. The database does not contain information about salespersons or their product portfolios.\n",
      "\n"
     ]
    }
   ],
   "source": [
    "chat = client.chats.create(\n",
    "    model = \"gemini-2.0-flash\",\n",
    "    config = types.GenerateContentConfig(\n",
    "        system_instruction = instruction,\n",
    "        tools = db_tools\n",
    "    ),\n",
    ")\n",
    "\n",
    "response = chat.send_message('What products should salesperson Alice focus on to round out her portfolio? Explain why.')\n",
    "print(f\"\\n{response.text}\")"
   ]
  },
  {
   "cell_type": "markdown",
   "id": "c92cfa25",
   "metadata": {
    "papermill": {
     "duration": 0.008192,
     "end_time": "2025-04-03T07:04:51.621732",
     "exception": false,
     "start_time": "2025-04-03T07:04:51.613540",
     "status": "completed"
    },
    "tags": []
   },
   "source": [
    "### Inspecting the conversation\n",
    "To see the calls that the model makes, and what the client returns in response, you can inspect the chat history. This helper function will print out each turn along with the relevant fields passed or returned."
   ]
  },
  {
   "cell_type": "code",
   "execution_count": 15,
   "id": "3019972b",
   "metadata": {
    "execution": {
     "iopub.execute_input": "2025-04-03T07:04:51.641492Z",
     "iopub.status.busy": "2025-04-03T07:04:51.641021Z",
     "iopub.status.idle": "2025-04-03T07:04:51.657922Z",
     "shell.execute_reply": "2025-04-03T07:04:51.656195Z"
    },
    "papermill": {
     "duration": 0.029492,
     "end_time": "2025-04-03T07:04:51.659829",
     "exception": false,
     "start_time": "2025-04-03T07:04:51.630337",
     "status": "completed"
    },
    "tags": []
   },
   "outputs": [
    {
     "name": "stdout",
     "output_type": "stream",
     "text": [
      "User:\n",
      "  \"What products should salesperson Alice focus on to round out her portfolio? Explain why.\"\n",
      "\n",
      "Model:\n",
      "  Function call: list_tables()\n",
      "\n",
      "User:\n",
      "  Function response:\n",
      "    ['products', 'sqlite_sequence', 'staff']\n",
      "\n",
      "Model:\n",
      "  Function call: describe_table(table_name=products)\n",
      "\n",
      "User:\n",
      "  Function response:\n",
      "    [('product_id', 'INTEGER'), ('product_name', 'VARCHAR(255)'), ('price', 'DECIMAL(10, 2)')]\n",
      "\n",
      "Model:\n",
      "  Function call: describe_table(table_name=staff)\n",
      "\n",
      "User:\n",
      "  Function response:\n",
      "    [('staff_id', 'INTEGER'), ('first_name', 'VARCHAR(255)'), ('last_name', 'VARCHAR(255)')]\n",
      "\n",
      "Model:\n",
      "  Function call: execute_query(sql=SELECT DISTINCT(product_name) FROM products;)\n",
      "\n",
      "User:\n",
      "  Function response:\n",
      "    []\n",
      "\n",
      "Model:\n",
      "  \"I am sorry, I cannot answer this question. The database does not contain information about salespersons or their product portfolios.\n",
      "\"\n",
      "\n"
     ]
    }
   ],
   "source": [
    "import textwrap\n",
    "\n",
    "\n",
    "def print_chat_turns(chat):\n",
    "    \"\"\"Prints out each turn in the chat history, including function calls and responses.\"\"\"\n",
    "    for event in chat.get_history():\n",
    "        print(f\"{event.role.capitalize()}:\")\n",
    "\n",
    "        for part in event.parts:\n",
    "            if txt := part.text:\n",
    "                print(f'  \"{txt}\"')\n",
    "            elif fn := part.function_call:\n",
    "                args = \", \".join(f\"{key}={val}\" for key, val in fn.args.items())\n",
    "                print(f\"  Function call: {fn.name}({args})\")\n",
    "            elif resp := part.function_response:\n",
    "                print(\"  Function response:\")\n",
    "                print(textwrap.indent(str(resp.response['result']), \"    \"))\n",
    "\n",
    "        print()\n",
    "\n",
    "\n",
    "print_chat_turns(chat)"
   ]
  },
  {
   "cell_type": "markdown",
   "id": "a99aa0d0",
   "metadata": {
    "papermill": {
     "duration": 0.00886,
     "end_time": "2025-04-03T07:04:51.677036",
     "exception": false,
     "start_time": "2025-04-03T07:04:51.668176",
     "status": "completed"
    },
    "tags": []
   },
   "source": [
    "### Compositional function calling\n",
    "A powerful new feature in Gemini 2.0 is the model's ability to compose user-provided function calls together while generating code.\n",
    "\n",
    "This means that the model is able to take the available tools, genearate code that uses it, and execute it all.\n",
    "\n",
    "The feature requires the Live API, so this step uses different setup code than most of the examples you have seen so far. As the Multimodal Live API is a bi-directional streaming service, everything is set up in advance and then executed. This is a little complex but the result is quite powerful.\n",
    "\n",
    "First define a function that will handle streaming model output. It will stream text output, handle tool-calling and show the generated code that the model writes and executes to fulfill the task. "
   ]
  },
  {
   "cell_type": "code",
   "execution_count": 16,
   "id": "2dec7520",
   "metadata": {
    "execution": {
     "iopub.execute_input": "2025-04-03T07:04:51.697452Z",
     "iopub.status.busy": "2025-04-03T07:04:51.697009Z",
     "iopub.status.idle": "2025-04-03T07:04:51.706814Z",
     "shell.execute_reply": "2025-04-03T07:04:51.705667Z"
    },
    "papermill": {
     "duration": 0.022925,
     "end_time": "2025-04-03T07:04:51.708815",
     "exception": false,
     "start_time": "2025-04-03T07:04:51.685890",
     "status": "completed"
    },
    "tags": []
   },
   "outputs": [],
   "source": [
    "from pprint import pformat\n",
    "from IPython.display import display, Image, Markdown\n",
    "\n",
    "async def handle_response(stream, tool_impl = None):\n",
    "    \"\"\"Stream output and handle any tool calls during the session.\"\"\"\n",
    "    all_responses = []\n",
    "\n",
    "    async for msg in stream.receive():\n",
    "        all_responses.append(msg)\n",
    "\n",
    "        if text := msg.text:\n",
    "            # Output any text chunks that are streamed back.\n",
    "            if len(all_responses) <2 or not all_responses[-2].text:\n",
    "                # Display a header if this is the first text chunk.\n",
    "                display(Markdown('### Text'))\n",
    "            print(text, end='')\n",
    "\n",
    "        elif tool_call := msg.tool_call:\n",
    "            # Handle tool-call requests.\n",
    "            for fc in tool_call.function_calls:\n",
    "                display(Markdown('### Tool call'))\n",
    "\n",
    "                # Execute the tool and collect the result to return to the model.\n",
    "                if callable(tool_impl):\n",
    "                    try:\n",
    "                        result = tool_impl(**fc.args)\n",
    "                    except Exception as e:\n",
    "                        result = str(e)\n",
    "                else:\n",
    "                    result = 'ok'\n",
    "\n",
    "                tool_response = types.LiveClientToolResponse(\n",
    "                    function_responses = [types.FunctionResponse(\n",
    "                        name = fc.name,\n",
    "                        id = fc.id,\n",
    "                        response= {'result': result},\n",
    "                    )]\n",
    "                )\n",
    "                await stream.send(input=tool_response)\n",
    "        elif msg.server_content and msg.server_content.model_turn:\n",
    "            # Print any messages showing code the model generated and ran.\n",
    "\n",
    "            for part in msg.server_content.model_turn.parts:\n",
    "                if code := part.executable_code:\n",
    "                    display(Markdown(\n",
    "                        f'### Code \\n```\\n{code.code}\\n```'))\n",
    "                    \n",
    "                elif result := part.code_execution_result:\n",
    "                    display(Markdown(f'### Result: {result.outcome}\\n'\n",
    "                                     f'```\\n{pformat(result.output)}\\n```'))\n",
    "                elif img := part.inline_data:\n",
    "                    display(Image(img.data))\n",
    "    \n",
    "\n",
    "    print()\n",
    "    return all_responses"
   ]
  },
  {
   "cell_type": "markdown",
   "id": "ce47b18b",
   "metadata": {
    "papermill": {
     "duration": 0.010141,
     "end_time": "2025-04-03T07:04:51.728839",
     "exception": false,
     "start_time": "2025-04-03T07:04:51.718698",
     "status": "completed"
    },
    "tags": []
   },
   "source": [
    "### Textual live database chat\n",
    "\n",
    "Now connect to the model and start a conversation.\n",
    "\n",
    "The Live API is a streaming API, so this example is fully pre-scripted and only has a single user input. Despite this, the request still requires the model to perform a bit of back-and-forth to interrogate the database, and you should see the model generate some code that uses the 'execute_query' tool in a loop."
   ]
  },
  {
   "cell_type": "code",
   "execution_count": 17,
   "id": "34add83a",
   "metadata": {
    "execution": {
     "iopub.execute_input": "2025-04-03T07:04:51.750995Z",
     "iopub.status.busy": "2025-04-03T07:04:51.750559Z",
     "iopub.status.idle": "2025-04-03T07:04:53.652612Z",
     "shell.execute_reply": "2025-04-03T07:04:53.651197Z"
    },
    "papermill": {
     "duration": 1.91514,
     "end_time": "2025-04-03T07:04:53.654198",
     "exception": false,
     "start_time": "2025-04-03T07:04:51.739058",
     "status": "completed"
    },
    "tags": []
   },
   "outputs": [
    {
     "name": "stderr",
     "output_type": "stream",
     "text": [
      "<ipython-input-17-e039e3152d51>:26: ExperimentalWarning: The live API is experimental and may change in future versions.\n",
      "  async with live_client.aio.live.connect(model=model, config=config) as session:\n"
     ]
    },
    {
     "name": "stdout",
     "output_type": "stream",
     "text": [
      "> Please generate and insert 5 new rows in the orders table.\n",
      "\n"
     ]
    },
    {
     "data": {
      "text/markdown": [
       "### Text"
      ],
      "text/plain": [
       "<IPython.core.display.Markdown object>"
      ]
     },
     "metadata": {},
     "output_type": "display_data"
    },
    {
     "name": "stdout",
     "output_type": "stream",
     "text": [
      "I need to understand the structure of the `orders` table before I can insert new rows. Could you please provide the schema of the `orders` table? I'll use a SQL query to get this information.\n"
     ]
    },
    {
     "data": {
      "text/markdown": [
       "### Code \n",
       "```\n",
       "print(default_api.execute_query(sql=\"PRAGMA table_info(orders)\"))\n",
       "\n",
       "```"
      ],
      "text/plain": [
       "<IPython.core.display.Markdown object>"
      ]
     },
     "metadata": {},
     "output_type": "display_data"
    },
    {
     "data": {
      "text/markdown": [
       "### Tool call"
      ],
      "text/plain": [
       "<IPython.core.display.Markdown object>"
      ]
     },
     "metadata": {},
     "output_type": "display_data"
    },
    {
     "name": "stdout",
     "output_type": "stream",
     "text": [
      " - DB CALL: execute_queryt(PRAGMA table_info(orders))\n"
     ]
    },
    {
     "data": {
      "text/markdown": [
       "### Result: OUTCOME_OK\n",
       "```\n",
       "\"{'result': []}\\n\"\n",
       "```"
      ],
      "text/plain": [
       "<IPython.core.display.Markdown object>"
      ]
     },
     "metadata": {},
     "output_type": "display_data"
    },
    {
     "data": {
      "text/markdown": [
       "### Text"
      ],
      "text/plain": [
       "<IPython.core.display.Markdown object>"
      ]
     },
     "metadata": {},
     "output_type": "display_data"
    },
    {
     "name": "stdout",
     "output_type": "stream",
     "text": [
      "It seems the table `orders` does not exist. I need to know the correct table name or create one to insert data. Could you please confirm the table name you would like to use or the schema of the table that needs to be created?\n",
      "\n"
     ]
    }
   ],
   "source": [
    "model = 'gemini-2.0-flash-exp'\n",
    "live_client = genai.Client(api_key = GOOGLE_API_KEY,\n",
    "                          http_options = types.HttpOptions(api_version='v1alpha'))\n",
    "\n",
    "# Wrap the existing execute_query tool you used in the earlier example.\n",
    "execute_query_tool_def = types.FunctionDeclaration.from_callable(\n",
    "    client = live_client, callable = execute_query)\n",
    "\n",
    "# Provide the model with enough information to use the tool, such as describing\n",
    "# the database so it understands which SQL syntax to use.\n",
    "sys_int = \"\"\"You are a database interface. Use the 'execute_query' function to answer the users questions by looking up information in the database,\n",
    "running any necessary queries and responding to the user.\n",
    "\n",
    "You need to look up table schema using sqlite3 syntax SQL, then once an answer is found be sure to tell the user.\n",
    "If the user is requesting an action, you must also execute the actions.\"\"\"\n",
    "\n",
    "config = {\n",
    "    \"response_modalities\": [\"TEXT\"],\n",
    "    \"system_instruction\": {\"parts\": [{\"text\": sys_int}]},\n",
    "    \"tools\": [\n",
    "        {\"code_execution\": {}},\n",
    "        {\"function_declarations\": [execute_query_tool_def.to_json_dict()]},\n",
    "    ],\n",
    "}\n",
    "\n",
    "async with live_client.aio.live.connect(model=model, config=config) as session:\n",
    "    message = \"Please generate and insert 5 new rows in the orders table.\"\n",
    "    print(f\"> {message}\\n\")\n",
    "\n",
    "    await session.send(input=message, end_of_turn =True)\n",
    "    await handle_response(session, tool_impl = execute_query)"
   ]
  },
  {
   "cell_type": "markdown",
   "id": "55ec9837",
   "metadata": {
    "papermill": {
     "duration": 0.009995,
     "end_time": "2025-04-03T07:04:53.674726",
     "exception": false,
     "start_time": "2025-04-03T07:04:53.664731",
     "status": "completed"
    },
    "tags": []
   },
   "source": [
    "In the output from the previous step, you should see a 'Code' section that shows code that the model generated in order to complete the task. It will look something like this: \n",
    "\n",
    "```py\n",
    "sql_statements = [ ... ]\n",
    "\n",
    "for sql in sql_statements:\n",
    "  print(default_api.execute_query(sql))\n",
    "```\n",
    "\n",
    "The model then runs this code (remotely), calling out to the provided tool when it reaches that part of the code. The 'default_api' module contains the tools that you provided. \n",
    "\n",
    "This example simply executes in a loop, but the models are capable of more complex interactions with multiple tools, giving you a powerful agent framework that's effectively built in to the Gemini API."
   ]
  },
  {
   "cell_type": "markdown",
   "id": "9b20f0a5",
   "metadata": {
    "papermill": {
     "duration": 0.01002,
     "end_time": "2025-04-03T07:04:53.694854",
     "exception": false,
     "start_time": "2025-04-03T07:04:53.684834",
     "status": "completed"
    },
    "tags": []
   },
   "source": [
    "### Plotting the database\n",
    "\n",
    "Try out the built-in agent capabilities with the next example. You may notice the model try to guess the database schema or environment. Often the model will make mistakes, but you can look through the 'Text' output and watch as the model inspects the error, tries a new approach and elarns from its mistakes.\n",
    "\n",
    "If the model doesn't return a plot, try running the cell again. "
   ]
  },
  {
   "cell_type": "code",
   "execution_count": 18,
   "id": "7c15e9ca",
   "metadata": {
    "execution": {
     "iopub.execute_input": "2025-04-03T07:04:53.717407Z",
     "iopub.status.busy": "2025-04-03T07:04:53.717010Z",
     "iopub.status.idle": "2025-04-03T07:04:55.536009Z",
     "shell.execute_reply": "2025-04-03T07:04:55.534581Z"
    },
    "papermill": {
     "duration": 1.831715,
     "end_time": "2025-04-03T07:04:55.537833",
     "exception": false,
     "start_time": "2025-04-03T07:04:53.706118",
     "status": "completed"
    },
    "tags": []
   },
   "outputs": [
    {
     "name": "stdout",
     "output_type": "stream",
     "text": [
      "> Can you figure out the number of orders that were made by each of the start?\n",
      "\n"
     ]
    },
    {
     "data": {
      "text/markdown": [
       "### Code \n",
       "```\n",
       "print(default_api.execute_query(sql=\"SELECT DISTINCT start FROM trips\"))\n",
       "\n",
       "```"
      ],
      "text/plain": [
       "<IPython.core.display.Markdown object>"
      ]
     },
     "metadata": {},
     "output_type": "display_data"
    },
    {
     "data": {
      "text/markdown": [
       "### Tool call"
      ],
      "text/plain": [
       "<IPython.core.display.Markdown object>"
      ]
     },
     "metadata": {},
     "output_type": "display_data"
    },
    {
     "name": "stdout",
     "output_type": "stream",
     "text": [
      " - DB CALL: execute_queryt(SELECT DISTINCT start FROM trips)\n"
     ]
    },
    {
     "data": {
      "text/markdown": [
       "### Result: OUTCOME_OK\n",
       "```\n",
       "\"{'result': 'no such table: trips'}\\n\"\n",
       "```"
      ],
      "text/plain": [
       "<IPython.core.display.Markdown object>"
      ]
     },
     "metadata": {},
     "output_type": "display_data"
    },
    {
     "data": {
      "text/markdown": [
       "### Text"
      ],
      "text/plain": [
       "<IPython.core.display.Markdown object>"
      ]
     },
     "metadata": {},
     "output_type": "display_data"
    },
    {
     "name": "stdout",
     "output_type": "stream",
     "text": [
      "I'm sorry, it seems I made a mistake and there is no table called `trips`. Could you provide me with the correct table name to use? I can then help you find the number of orders made by each start.\n",
      "\n",
      "> Generate and run some code to plot this as a python seaborn chart\n",
      "\n"
     ]
    },
    {
     "data": {
      "text/markdown": [
       "### Text"
      ],
      "text/plain": [
       "<IPython.core.display.Markdown object>"
      ]
     },
     "metadata": {},
     "output_type": "display_data"
    },
    {
     "name": "stdout",
     "output_type": "stream",
     "text": [
      "I apologize, but I need more information about the table structure and the available columns before I can proceed with generating the chart. Could you please provide me with the table schema or the table name?\n",
      "\n"
     ]
    }
   ],
   "source": [
    "async with live_client.aio.live.connect(model=model, config=config) as session:\n",
    "    message = \"Can you figure out the number of orders that were made by each of the start?\"\n",
    "\n",
    "    print(f\"> {message}\\n\")\n",
    "    await session.send(input=message, end_of_turn=True)\n",
    "    await handle_response(session, tool_impl = execute_query)\n",
    "\n",
    "    message = \"Generate and run some code to plot this as a python seaborn chart\"\n",
    "\n",
    "    print(f\"> {message}\\n\")\n",
    "    await session.send(input=message, end_of_turn=True)\n",
    "    await handle_response(session, tool_impl = execute_query)"
   ]
  },
  {
   "cell_type": "markdown",
   "id": "1bbdc049",
   "metadata": {
    "papermill": {
     "duration": 0.011382,
     "end_time": "2025-04-03T07:04:55.561451",
     "exception": false,
     "start_time": "2025-04-03T07:04:55.550069",
     "status": "completed"
    },
    "tags": []
   },
   "source": [
    "### Further reading\n",
    "\n",
    "To learn about what the Gemini API can do with function calling, check out the [Function calling cookbook](https://github.com/google-gemini/cookbook/blob/main/quickstarts/Function_calling.ipynb) (see `Manual function calling` to understand how function calling works manually) as well as [Function calling config](https://github.com/google-gemini/cookbook/blob/main/quickstarts/Function_calling_config.ipynb), which gives you fine-grained control over how function calling is triggered.\n",
    "\n",
    "And stay tuned for day 4, where you will explore using function calling with grounding tools. \n",
    "\n",
    "*- [Mark McD](https://linktr.ee/markmcd)*"
   ]
  }
 ],
 "metadata": {
  "kaggle": {
   "accelerator": "none",
   "dataSources": [],
   "dockerImageVersionId": 30918,
   "isGpuEnabled": false,
   "isInternetEnabled": true,
   "language": "python",
   "sourceType": "notebook"
  },
  "kernelspec": {
   "display_name": "Python 3",
   "language": "python",
   "name": "python3"
  },
  "language_info": {
   "codemirror_mode": {
    "name": "ipython",
    "version": 3
   },
   "file_extension": ".py",
   "mimetype": "text/x-python",
   "name": "python",
   "nbconvert_exporter": "python",
   "pygments_lexer": "ipython3",
   "version": "3.10.12"
  },
  "papermill": {
   "default_parameters": {},
   "duration": 28.51206,
   "end_time": "2025-04-03T07:04:56.901743",
   "environment_variables": {},
   "exception": null,
   "input_path": "__notebook__.ipynb",
   "output_path": "__notebook__.ipynb",
   "parameters": {},
   "start_time": "2025-04-03T07:04:28.389683",
   "version": "2.6.0"
  }
 },
 "nbformat": 4,
 "nbformat_minor": 5
}
