{
 "cells": [
  {
   "cell_type": "code",
   "execution_count": 1,
   "id": "461a83ae",
   "metadata": {
    "_cell_guid": "b1076dfc-b9ad-4769-8c92-a6c4dae69d19",
    "_uuid": "8f2839f25d086af736a60e9eeb907d3b93b6e0e5",
    "execution": {
     "iopub.execute_input": "2025-04-03T07:00:18.889382Z",
     "iopub.status.busy": "2025-04-03T07:00:18.889100Z",
     "iopub.status.idle": "2025-04-03T07:00:18.893825Z",
     "shell.execute_reply": "2025-04-03T07:00:18.892882Z"
    },
    "papermill": {
     "duration": 0.012089,
     "end_time": "2025-04-03T07:00:18.895292",
     "exception": false,
     "start_time": "2025-04-03T07:00:18.883203",
     "status": "completed"
    },
    "tags": []
   },
   "outputs": [],
   "source": [
    "# @title Licensed under the Apache License, Version 2.0 (the \"License\");\n",
    "# you may not use this file except in compliance with the License.\n",
    "# You may obtain a copy of the License at\n",
    "#\n",
    "# https://www.apache.org/licenses/LICENSE-2.0\n",
    "#\n",
    "# Unless required by applicable law or agreed to in writing, software\n",
    "# distributed under the License is distributed on an \"AS IS\" BASIS,\n",
    "# WITHOUT WARRANTIES OR CONDITIONS OF ANY KIND, either express or implied.\n",
    "# See the License for the specific language governing permissions and\n",
    "# limitations under the License."
   ]
  },
  {
   "cell_type": "markdown",
   "id": "4d195bf9",
   "metadata": {
    "papermill": {
     "duration": 0.004419,
     "end_time": "2025-04-03T07:00:18.903971",
     "exception": false,
     "start_time": "2025-04-03T07:00:18.899552",
     "status": "completed"
    },
    "tags": []
   },
   "source": [
    "# Day 2 - Document Q&A with RAG using Chroma\n",
    "\n",
    "Welcome back to the Kaggle 5-day Generative AI Course!\n",
    "\n",
    "**NOTE**: The Day 1 notebook contains lots of information for getting set up with Kaggle Notebooks. If you are having any issues, please [check out the troubleshooting steps there](https://www.kaggle.com/code/markishere/day-1-prompting#Get-started-with-Kaggle-notebooks).\n",
    "\n",
    "Two big limitations of LLMs are 1) that the only \"know\" the information that they were trained on, and 2) that they have limited input context windows. A way to address both of these limitations is to use a technique called Retrieval Augmented Generation, or RAG. A RAG system has three stages:\n",
    "\n",
    "1. Indexing\n",
    "2. Retrieval\n",
    "3. Generation\n",
    "\n",
    "Indexing happens ahead of time, and allows you to quickly look up relevant information at query-time. When a query comes in, you retrieve relevant documents, combine them with your instructions adn the user's query, and have the LLM generate a tailored answer in natural language using the supplied information. This allows you to provide information that the model hasn't seen before, such as product-specific knowledge or live weather updates.\n",
    "\n",
    "In this notebook you will use the Gemini API to create a vector database, retrieve answers to questions from the database and generate a final answer. You will use [Chroma](https://docs.trychroma.com/), an open-source vector database. With Chroma, you can stroe embeddings alongside metadata, embed documents and queries, and search your documents.\n",
    "\n",
    "## For help\n",
    "**Common issues are covered in the [FAQ and troubleshooting guide](https://www.kaggle.com/code/markishere/day-0-troubleshooting-and-faqs).**"
   ]
  },
  {
   "cell_type": "markdown",
   "id": "5d47ecae",
   "metadata": {
    "papermill": {
     "duration": 0.003754,
     "end_time": "2025-04-03T07:00:18.911669",
     "exception": false,
     "start_time": "2025-04-03T07:00:18.907915",
     "status": "completed"
    },
    "tags": []
   },
   "source": [
    "## Setup\n",
    "\n",
    "First, install ChromaDB and the Gemini API Python SDK."
   ]
  },
  {
   "cell_type": "code",
   "execution_count": 2,
   "id": "66cde14e",
   "metadata": {
    "execution": {
     "iopub.execute_input": "2025-04-03T07:00:18.920468Z",
     "iopub.status.busy": "2025-04-03T07:00:18.920209Z",
     "iopub.status.idle": "2025-04-03T07:00:52.919761Z",
     "shell.execute_reply": "2025-04-03T07:00:52.918583Z"
    },
    "papermill": {
     "duration": 34.005759,
     "end_time": "2025-04-03T07:00:52.921406",
     "exception": false,
     "start_time": "2025-04-03T07:00:18.915647",
     "status": "completed"
    },
    "tags": []
   },
   "outputs": [
    {
     "name": "stdout",
     "output_type": "stream",
     "text": [
      "\u001b[33mWARNING: Skipping kfp as it is not installed.\u001b[0m\u001b[33m\r\n",
      "\u001b[2K     \u001b[90m━━━━━━━━━━━━━━━━━━━━━━━━━━━━━━━━━━━━━━━━\u001b[0m \u001b[32m67.3/67.3 kB\u001b[0m \u001b[31m4.0 MB/s\u001b[0m eta \u001b[36m0:00:00\u001b[0m\r\n",
      "\u001b[?25h  Installing build dependencies ... \u001b[?25l\u001b[?25hdone\r\n",
      "  Getting requirements to build wheel ... \u001b[?25l\u001b[?25hdone\r\n",
      "  Preparing metadata (pyproject.toml) ... \u001b[?25l\u001b[?25hdone\r\n",
      "\u001b[2K   \u001b[90m━━━━━━━━━━━━━━━━━━━━━━━━━━━━━━━━━━━━━━━━\u001b[0m \u001b[32m144.7/144.7 kB\u001b[0m \u001b[31m6.4 MB/s\u001b[0m eta \u001b[36m0:00:00\u001b[0m\r\n",
      "\u001b[2K   \u001b[90m━━━━━━━━━━━━━━━━━━━━━━━━━━━━━━━━━━━━━━━━\u001b[0m \u001b[32m611.1/611.1 kB\u001b[0m \u001b[31m20.4 MB/s\u001b[0m eta \u001b[36m0:00:00\u001b[0m\r\n",
      "\u001b[2K   \u001b[90m━━━━━━━━━━━━━━━━━━━━━━━━━━━━━━━━━━━━━━━━\u001b[0m \u001b[32m2.4/2.4 MB\u001b[0m \u001b[31m51.2 MB/s\u001b[0m eta \u001b[36m0:00:00\u001b[0m\r\n",
      "\u001b[2K   \u001b[90m━━━━━━━━━━━━━━━━━━━━━━━━━━━━━━━━━━━━━━━━\u001b[0m \u001b[32m100.9/100.9 kB\u001b[0m \u001b[31m7.5 MB/s\u001b[0m eta \u001b[36m0:00:00\u001b[0m\r\n",
      "\u001b[2K   \u001b[90m━━━━━━━━━━━━━━━━━━━━━━━━━━━━━━━━━━━━━━━━\u001b[0m \u001b[32m284.2/284.2 kB\u001b[0m \u001b[31m21.1 MB/s\u001b[0m eta \u001b[36m0:00:00\u001b[0m\r\n",
      "\u001b[2K   \u001b[90m━━━━━━━━━━━━━━━━━━━━━━━━━━━━━━━━━━━━━━━━\u001b[0m \u001b[32m95.2/95.2 kB\u001b[0m \u001b[31m7.6 MB/s\u001b[0m eta \u001b[36m0:00:00\u001b[0m\r\n",
      "\u001b[2K   \u001b[90m━━━━━━━━━━━━━━━━━━━━━━━━━━━━━━━━━━━━━━━━\u001b[0m \u001b[32m2.0/2.0 MB\u001b[0m \u001b[31m71.5 MB/s\u001b[0m eta \u001b[36m0:00:00\u001b[0m\r\n",
      "\u001b[2K   \u001b[90m━━━━━━━━━━━━━━━━━━━━━━━━━━━━━━━━━━━━━━━━\u001b[0m \u001b[32m99.2/99.2 kB\u001b[0m \u001b[31m8.3 MB/s\u001b[0m eta \u001b[36m0:00:00\u001b[0m\r\n",
      "\u001b[2K   \u001b[90m━━━━━━━━━━━━━━━━━━━━━━━━━━━━━━━━━━━━━━━━\u001b[0m \u001b[32m16.0/16.0 MB\u001b[0m \u001b[31m80.4 MB/s\u001b[0m eta \u001b[36m0:00:00\u001b[0m\r\n",
      "\u001b[2K   \u001b[90m━━━━━━━━━━━━━━━━━━━━━━━━━━━━━━━━━━━━━━━━\u001b[0m \u001b[32m55.9/55.9 kB\u001b[0m \u001b[31m4.0 MB/s\u001b[0m eta \u001b[36m0:00:00\u001b[0m\r\n",
      "\u001b[2K   \u001b[90m━━━━━━━━━━━━━━━━━━━━━━━━━━━━━━━━━━━━━━━━\u001b[0m \u001b[32m183.4/183.4 kB\u001b[0m \u001b[31m14.5 MB/s\u001b[0m eta \u001b[36m0:00:00\u001b[0m\r\n",
      "\u001b[2K   \u001b[90m━━━━━━━━━━━━━━━━━━━━━━━━━━━━━━━━━━━━━━━━\u001b[0m \u001b[32m65.2/65.2 kB\u001b[0m \u001b[31m5.1 MB/s\u001b[0m eta \u001b[36m0:00:00\u001b[0m\r\n",
      "\u001b[2K   \u001b[90m━━━━━━━━━━━━━━━━━━━━━━━━━━━━━━━━━━━━━━━━\u001b[0m \u001b[32m118.9/118.9 kB\u001b[0m \u001b[31m9.5 MB/s\u001b[0m eta \u001b[36m0:00:00\u001b[0m\r\n",
      "\u001b[2K   \u001b[90m━━━━━━━━━━━━━━━━━━━━━━━━━━━━━━━━━━━━━━━━\u001b[0m \u001b[32m85.0/85.0 kB\u001b[0m \u001b[31m6.5 MB/s\u001b[0m eta \u001b[36m0:00:00\u001b[0m\r\n",
      "\u001b[2K   \u001b[90m━━━━━━━━━━━━━━━━━━━━━━━━━━━━━━━━━━━━━━━━\u001b[0m \u001b[32m62.3/62.3 kB\u001b[0m \u001b[31m4.8 MB/s\u001b[0m eta \u001b[36m0:00:00\u001b[0m\r\n",
      "\u001b[2K   \u001b[90m━━━━━━━━━━━━━━━━━━━━━━━━━━━━━━━━━━━━━━━━\u001b[0m \u001b[32m442.1/442.1 kB\u001b[0m \u001b[31m28.5 MB/s\u001b[0m eta \u001b[36m0:00:00\u001b[0m\r\n",
      "\u001b[2K   \u001b[90m━━━━━━━━━━━━━━━━━━━━━━━━━━━━━━━━━━━━━━━━\u001b[0m \u001b[32m319.7/319.7 kB\u001b[0m \u001b[31m19.3 MB/s\u001b[0m eta \u001b[36m0:00:00\u001b[0m\r\n",
      "\u001b[2K   \u001b[90m━━━━━━━━━━━━━━━━━━━━━━━━━━━━━━━━━━━━━━━━\u001b[0m \u001b[32m72.0/72.0 kB\u001b[0m \u001b[31m5.7 MB/s\u001b[0m eta \u001b[36m0:00:00\u001b[0m\r\n",
      "\u001b[2K   \u001b[90m━━━━━━━━━━━━━━━━━━━━━━━━━━━━━━━━━━━━━━━━\u001b[0m \u001b[32m3.8/3.8 MB\u001b[0m \u001b[31m84.6 MB/s\u001b[0m eta \u001b[36m0:00:00\u001b[0m\r\n",
      "\u001b[2K   \u001b[90m━━━━━━━━━━━━━━━━━━━━━━━━━━━━━━━━━━━━━━━━\u001b[0m \u001b[32m452.9/452.9 kB\u001b[0m \u001b[31m30.3 MB/s\u001b[0m eta \u001b[36m0:00:00\u001b[0m\r\n",
      "\u001b[2K   \u001b[90m━━━━━━━━━━━━━━━━━━━━━━━━━━━━━━━━━━━━━━━━\u001b[0m \u001b[32m46.0/46.0 kB\u001b[0m \u001b[31m3.2 MB/s\u001b[0m eta \u001b[36m0:00:00\u001b[0m\r\n",
      "\u001b[2K   \u001b[90m━━━━━━━━━━━━━━━━━━━━━━━━━━━━━━━━━━━━━━━━\u001b[0m \u001b[32m86.8/86.8 kB\u001b[0m \u001b[31m6.8 MB/s\u001b[0m eta \u001b[36m0:00:00\u001b[0m\r\n",
      "\u001b[?25h  Building wheel for pypika (pyproject.toml) ... \u001b[?25l\u001b[?25hdone\r\n",
      "\u001b[31mERROR: pip's dependency resolver does not currently take into account all the packages that are installed. This behaviour is the source of the following dependency conflicts.\r\n",
      "google-api-core 1.34.1 requires protobuf!=3.20.0,!=3.20.1,!=4.21.0,!=4.21.1,!=4.21.2,!=4.21.3,!=4.21.4,!=4.21.5,<4.0.0dev,>=3.19.5, but you have protobuf 5.29.4 which is incompatible.\r\n",
      "google-cloud-bigtable 2.27.0 requires google-api-core[grpc]<3.0.0dev,>=2.16.0, but you have google-api-core 1.34.1 which is incompatible.\r\n",
      "google-cloud-translate 3.12.1 requires protobuf!=3.20.0,!=3.20.1,!=4.21.0,!=4.21.1,!=4.21.2,!=4.21.3,!=4.21.4,!=4.21.5,<5.0.0dev,>=3.19.5, but you have protobuf 5.29.4 which is incompatible.\r\n",
      "pandas-gbq 0.25.0 requires google-api-core<3.0.0dev,>=2.10.2, but you have google-api-core 1.34.1 which is incompatible.\r\n",
      "tensorflow 2.17.1 requires protobuf!=4.21.0,!=4.21.1,!=4.21.2,!=4.21.3,!=4.21.4,!=4.21.5,<5.0.0dev,>=3.20.3, but you have protobuf 5.29.4 which is incompatible.\r\n",
      "tensorflow-decision-forests 1.10.0 requires tensorflow==2.17.0, but you have tensorflow 2.17.1 which is incompatible.\r\n",
      "tensorflow-metadata 1.13.1 requires protobuf<5,>=3.20.3, but you have protobuf 5.29.4 which is incompatible.\u001b[0m\u001b[31m\r\n",
      "\u001b[0m"
     ]
    }
   ],
   "source": [
    "!pip uninstall -qqy jupyterlab kfp  # Remove unused conflicting packages\n",
    "!pip install -qU \"google-genai==1.7.0\" \"chromadb==0.6.3\""
   ]
  },
  {
   "cell_type": "code",
   "execution_count": 3,
   "id": "92204935",
   "metadata": {
    "execution": {
     "iopub.execute_input": "2025-04-03T07:00:52.934216Z",
     "iopub.status.busy": "2025-04-03T07:00:52.933887Z",
     "iopub.status.idle": "2025-04-03T07:00:54.002960Z",
     "shell.execute_reply": "2025-04-03T07:00:54.002006Z"
    },
    "papermill": {
     "duration": 1.076891,
     "end_time": "2025-04-03T07:00:54.004421",
     "exception": false,
     "start_time": "2025-04-03T07:00:52.927530",
     "status": "completed"
    },
    "tags": []
   },
   "outputs": [
    {
     "data": {
      "text/plain": [
       "'1.7.0'"
      ]
     },
     "execution_count": 3,
     "metadata": {},
     "output_type": "execute_result"
    }
   ],
   "source": [
    "from google import genai\n",
    "from google.genai import types\n",
    "\n",
    "from IPython.display import Markdown\n",
    "\n",
    "genai.__version__"
   ]
  },
  {
   "cell_type": "markdown",
   "id": "3ff400e5",
   "metadata": {
    "papermill": {
     "duration": 0.005621,
     "end_time": "2025-04-03T07:00:54.016026",
     "exception": false,
     "start_time": "2025-04-03T07:00:54.010405",
     "status": "completed"
    },
    "tags": []
   },
   "source": [
    "### Set up your API key\n",
    "\n",
    "To run the following cell, your API key must be stored it in a [Kaggle secret](https://www.kaggle.com/discussions/product-feedback/114053) named `GOOGLE_API_KEY`.\n",
    "\n",
    "If you don't alreday have an API key, you can grab one from [AI Studio](https://aistudio.google.com/app/apikey). You can [detailed instructions in the docs](https://ai.google.dev/gemini-api/docs/api-key).\n",
    "\n",
    "To make the key available through Kaggle secrets, choose `Secrets` from the `Add-ons` menu and follow the instructions to add your key or enable it for this notebook."
   ]
  },
  {
   "cell_type": "code",
   "execution_count": 4,
   "id": "27bc407f",
   "metadata": {
    "execution": {
     "iopub.execute_input": "2025-04-03T07:00:54.028278Z",
     "iopub.status.busy": "2025-04-03T07:00:54.027942Z",
     "iopub.status.idle": "2025-04-03T07:00:54.095727Z",
     "shell.execute_reply": "2025-04-03T07:00:54.095060Z"
    },
    "papermill": {
     "duration": 0.075255,
     "end_time": "2025-04-03T07:00:54.097119",
     "exception": false,
     "start_time": "2025-04-03T07:00:54.021864",
     "status": "completed"
    },
    "tags": []
   },
   "outputs": [],
   "source": [
    "from kaggle_secrets import UserSecretsClient\n",
    "\n",
    "GOOGLE_API_KEY = UserSecretsClient().get_secret(\"GOOGLE_API_KEY\")"
   ]
  },
  {
   "cell_type": "markdown",
   "id": "a18f425a",
   "metadata": {
    "papermill": {
     "duration": 0.005658,
     "end_time": "2025-04-03T07:00:54.108412",
     "exception": false,
     "start_time": "2025-04-03T07:00:54.102754",
     "status": "completed"
    },
    "tags": []
   },
   "source": [
    "If you received an error response along the lines of `No user secrets exist for kernel id ...`, then you need to add your API key via `Add-ons`, `Secrets` **and** enable it.\n",
    "\n",
    "![Screenshot of the checkbox to enable GOOGLE_API_KEY secret](https://storage.googleapis.com/kaggle-media/Images/5gdai_sc_3.png)"
   ]
  },
  {
   "cell_type": "markdown",
   "id": "e674943a",
   "metadata": {
    "papermill": {
     "duration": 0.005521,
     "end_time": "2025-04-03T07:00:54.119429",
     "exception": false,
     "start_time": "2025-04-03T07:00:54.113908",
     "status": "completed"
    },
    "tags": []
   },
   "source": [
    "### Explore available models\n",
    "\n",
    "You will be using the [`embedContent`](https://ai.google.dev/api/embeddings#method:-models.embedcontent) API method to calculate embeddings in this guide. Find a model that supports it through the [`models.list`](https://ai.google.dev/api/models#method:-models.list) endpoint.You can also fidn more information about the embedding models on [the models page](https://ai.google.dev/gemini-api/docs/models/gemini#text-embedding).\n",
    "\n",
    "'text_embedding-004' is the most recent generally-available embedding model, so you will use if for this exercise, but try out the experimental 'gemini-embedding-exp-03-07' model too."
   ]
  },
  {
   "cell_type": "code",
   "execution_count": 5,
   "id": "7ea8214c",
   "metadata": {
    "execution": {
     "iopub.execute_input": "2025-04-03T07:00:54.131290Z",
     "iopub.status.busy": "2025-04-03T07:00:54.131080Z",
     "iopub.status.idle": "2025-04-03T07:00:54.505993Z",
     "shell.execute_reply": "2025-04-03T07:00:54.505035Z"
    },
    "papermill": {
     "duration": 0.382237,
     "end_time": "2025-04-03T07:00:54.507330",
     "exception": false,
     "start_time": "2025-04-03T07:00:54.125093",
     "status": "completed"
    },
    "tags": []
   },
   "outputs": [
    {
     "name": "stdout",
     "output_type": "stream",
     "text": [
      "models/embedding-001\n",
      "models/text-embedding-004\n",
      "models/gemini-embedding-exp-03-07\n",
      "models/gemini-embedding-exp\n"
     ]
    }
   ],
   "source": [
    "client = genai.Client(api_key = GOOGLE_API_KEY)\n",
    "\n",
    "for m in client.models.list():\n",
    "    if \"embedContent\" in m.supported_actions:\n",
    "        print(m.name)"
   ]
  },
  {
   "cell_type": "markdown",
   "id": "8b833654",
   "metadata": {
    "papermill": {
     "duration": 0.00597,
     "end_time": "2025-04-03T07:00:54.519353",
     "exception": false,
     "start_time": "2025-04-03T07:00:54.513383",
     "status": "completed"
    },
    "tags": []
   },
   "source": [
    "### Data\n",
    "\n",
    "Here is a small set of documents you will use to create an embedding database."
   ]
  },
  {
   "cell_type": "code",
   "execution_count": 6,
   "id": "8d201a3e",
   "metadata": {
    "execution": {
     "iopub.execute_input": "2025-04-03T07:00:54.531680Z",
     "iopub.status.busy": "2025-04-03T07:00:54.531409Z",
     "iopub.status.idle": "2025-04-03T07:00:54.535291Z",
     "shell.execute_reply": "2025-04-03T07:00:54.534350Z"
    },
    "papermill": {
     "duration": 0.011684,
     "end_time": "2025-04-03T07:00:54.536718",
     "exception": false,
     "start_time": "2025-04-03T07:00:54.525034",
     "status": "completed"
    },
    "tags": []
   },
   "outputs": [],
   "source": [
    "DOCUMENT1 = \"Operating the Climate Control System  Your Googlecar has a climate control system that allows you to adjust the temperature and airflow in the car. To operate the climate control system, use the buttons and knobs located on the center console.  Temperature: The temperature knob controls the temeperature inside the car. Turn the knob clockwise to increase the temperature or counterclockwise to decrease the temperature. Airflow: The airflow knob controls the amount of airflow inside the car. Turn the knob clockwise to increase the airflow or counterclockwise to decrease the airflow. Fan speed: The fan spped knob controls the speed of the fan. Turn the knob clockwise to increase the fan speed or counterclockwise to decrease the fan speed. Mode: The mode button allows you to select the desired mode. The available modes are: Auto: The car will automatically adjust the temperature and airflow to maintain a comfortable level. Cool: The car will blow cool air into the car. Heat: The car will blow warm air into the car. Defrost: The car will blow warm air onto the windshield to defrost it.\" \n",
    "DOCUMENT2 = 'Your Googlecar has a large touchscreen display that provides access to a variety of features, including navigation, entertainment, and climate control. To use the touchscreen display, simply touch the desired icon. For example, you can touch the \"Navigation\" icon to get directions to your destination or touch the \"Music\" icon to play your favorite songs.'\n",
    "DOCUMENT3 = \"Shifting Gears Your Googlecar has an automatic transmission. To shift gears, simply move the shift lever to the desired position. Park: This position is used when you are parked. The wheels are locked and the car cannot move. Reverse: This position is used to back up. Neutral: This position is used when you are stopped at a light or in traffic. The car is not in gear and will not move unless you press the gas pedal. Drive: This position is used to drive forward. Low: This position is used for driving in snow or other slippery conditions.\"\n",
    "\n",
    "documents = [DOCUMENT1, DOCUMENT2, DOCUMENT3]"
   ]
  },
  {
   "cell_type": "markdown",
   "id": "0e32bca2",
   "metadata": {
    "papermill": {
     "duration": 0.005707,
     "end_time": "2025-04-03T07:00:54.548164",
     "exception": false,
     "start_time": "2025-04-03T07:00:54.542457",
     "status": "completed"
    },
    "tags": []
   },
   "source": [
    "## Creating the embedding database with ChromaDB\n",
    "\n",
    "Create a [custom function](https://docs.trychroma.com/guides/embeddings#custom-embedding-functions) to generate embeddings with the Gemini API. In this task, you are implmenting a retrieval system, so the `task_type` for generating the *document* embeddings is `retrieval_document`. Later, you will use `retrieval_query` for the *query* embeddings. Check out the [API reference](https://ai.google.dev/api/embeddings#v1beta.TaskType) for the full list of supported tasks.\n",
    "\n",
    "Key words: Documents are the items that are in the database. They are inserted first, and later retrieved. Queries are the textual search terms and can be simple keywords or textual descriptions of the desired documents. "
   ]
  },
  {
   "cell_type": "code",
   "execution_count": 7,
   "id": "cd1be499",
   "metadata": {
    "execution": {
     "iopub.execute_input": "2025-04-03T07:00:54.560494Z",
     "iopub.status.busy": "2025-04-03T07:00:54.560267Z",
     "iopub.status.idle": "2025-04-03T07:00:55.348482Z",
     "shell.execute_reply": "2025-04-03T07:00:55.347812Z"
    },
    "papermill": {
     "duration": 0.796068,
     "end_time": "2025-04-03T07:00:55.349988",
     "exception": false,
     "start_time": "2025-04-03T07:00:54.553920",
     "status": "completed"
    },
    "tags": []
   },
   "outputs": [],
   "source": [
    "from chromadb import Documents, EmbeddingFunction, Embeddings\n",
    "from google.api_core import retry\n",
    "\n",
    "from google.genai import types\n",
    "\n",
    "# Define a helper to retry when per-minute quota is reached.\n",
    "is_retriable = lambda e: (isinstance(e, genai.error.APIError) and e.code in {429, 503})\n",
    "\n",
    "class GeminiEmbeddingFunction(EmbeddingFunction):\n",
    "    # Specify whether to generate embeddings for documents, or queries\n",
    "    document_mode = True\n",
    "\n",
    "    @retry.Retry(predicate=is_retriable)\n",
    "    def __call__(self, input:Documents) -> Embeddings:\n",
    "        if self.document_mode:\n",
    "            embedding_task = \"retrieval_document\"\n",
    "        else:\n",
    "            embedding_task = \"retrieval_query\"\n",
    "\n",
    "        response = client.models.embed_content(\n",
    "            model = \"models/text-embedding-004\",\n",
    "            contents = input,\n",
    "            config = types.EmbedContentConfig(\n",
    "                task_type = embedding_task,\n",
    "            ),\n",
    "        )\n",
    "\n",
    "        return [e.values for e in response.embeddings]"
   ]
  },
  {
   "cell_type": "markdown",
   "id": "60343870",
   "metadata": {
    "papermill": {
     "duration": 0.005567,
     "end_time": "2025-04-03T07:00:55.361968",
     "exception": false,
     "start_time": "2025-04-03T07:00:55.356401",
     "status": "completed"
    },
    "tags": []
   },
   "source": [
    "Now create a [Chroma database client](https://docs.trychroma.com/getting-started) that uses the `GeminiEmbeddingFunction` and populate the database with the documents you defined above."
   ]
  },
  {
   "cell_type": "code",
   "execution_count": 8,
   "id": "805d5452",
   "metadata": {
    "execution": {
     "iopub.execute_input": "2025-04-03T07:00:55.374963Z",
     "iopub.status.busy": "2025-04-03T07:00:55.374516Z",
     "iopub.status.idle": "2025-04-03T07:00:56.381732Z",
     "shell.execute_reply": "2025-04-03T07:00:56.381097Z"
    },
    "papermill": {
     "duration": 1.0152,
     "end_time": "2025-04-03T07:00:56.383413",
     "exception": false,
     "start_time": "2025-04-03T07:00:55.368213",
     "status": "completed"
    },
    "tags": []
   },
   "outputs": [],
   "source": [
    "import chromadb\n",
    "\n",
    "DB_NAME = \"googlecardb\"\n",
    "\n",
    "embed_fn = GeminiEmbeddingFunction()\n",
    "embed_fn.document_mode = True\n",
    "\n",
    "chroma_client = chromadb.Client()\n",
    "db = chroma_client.get_or_create_collection(name=DB_NAME, embedding_function=embed_fn)\n",
    "\n",
    "db.add(documents=documents, ids=[str(i) for i in range(len(documents))])"
   ]
  },
  {
   "cell_type": "markdown",
   "id": "d338e82f",
   "metadata": {
    "papermill": {
     "duration": 0.005659,
     "end_time": "2025-04-03T07:00:56.395392",
     "exception": false,
     "start_time": "2025-04-03T07:00:56.389733",
     "status": "completed"
    },
    "tags": []
   },
   "source": [
    "Confirm that the data was inserted by looking at the database."
   ]
  },
  {
   "cell_type": "code",
   "execution_count": 9,
   "id": "20c5f009",
   "metadata": {
    "execution": {
     "iopub.execute_input": "2025-04-03T07:00:56.407992Z",
     "iopub.status.busy": "2025-04-03T07:00:56.407707Z",
     "iopub.status.idle": "2025-04-03T07:00:56.425084Z",
     "shell.execute_reply": "2025-04-03T07:00:56.424145Z"
    },
    "papermill": {
     "duration": 0.025206,
     "end_time": "2025-04-03T07:00:56.426485",
     "exception": false,
     "start_time": "2025-04-03T07:00:56.401279",
     "status": "completed"
    },
    "tags": []
   },
   "outputs": [
    {
     "data": {
      "text/plain": [
       "{'ids': ['0'],\n",
       " 'embeddings': array([[ 1.55884949e-02,  5.96502237e-03, -2.68214867e-02,\n",
       "         -5.89913270e-03, -8.98281392e-03, -1.63596142e-02,\n",
       "          2.73518376e-02,  7.81276822e-03, -7.08353613e-03,\n",
       "          3.61314639e-02, -8.35937783e-02,  7.74094164e-02,\n",
       "          8.46921429e-02,  1.10602072e-02, -1.83886883e-03,\n",
       "         -1.04227692e-01, -6.05406065e-04, -9.54329502e-03,\n",
       "         -6.50501996e-02,  4.69937513e-04, -2.92441044e-02,\n",
       "          2.81623024e-02, -4.54414301e-02, -2.11251713e-02,\n",
       "         -4.03531492e-02, -3.95058729e-02,  4.59781699e-02,\n",
       "          4.14768830e-02, -5.36612459e-02, -3.27226543e-03,\n",
       "          1.09639630e-01,  2.79744193e-02, -4.61403280e-03,\n",
       "         -2.98272595e-02,  3.76507826e-02,  9.74040385e-03,\n",
       "         -7.64225610e-03, -4.40755561e-02, -1.38038481e-02,\n",
       "         -7.48703927e-02, -8.55323598e-02,  1.44460332e-02,\n",
       "          1.57720223e-02,  4.77365181e-02,  3.25074117e-03,\n",
       "         -3.12219262e-02, -4.50368077e-02,  6.06852435e-02,\n",
       "          3.20504308e-02, -3.66538092e-02,  3.36963087e-02,\n",
       "          5.40863583e-03, -2.64461208e-02,  3.87165286e-02,\n",
       "          3.03233392e-03,  2.18690000e-02, -3.43586467e-02,\n",
       "         -1.22689921e-02,  3.74834687e-02,  1.24706086e-02,\n",
       "         -3.87946889e-02,  1.42665161e-02, -4.20402363e-02,\n",
       "          2.82455012e-02,  1.57999583e-02, -5.37436977e-02,\n",
       "         -1.40660731e-02, -4.64992896e-02, -1.40451477e-03,\n",
       "         -1.52110215e-02,  4.68213297e-02,  4.93780747e-02,\n",
       "         -1.69885010e-02,  2.65647359e-02, -4.49350215e-02,\n",
       "         -3.02464198e-02, -3.36258151e-02, -1.46803865e-02,\n",
       "          1.64849572e-02,  4.96625155e-02, -2.62670517e-02,\n",
       "          7.07459748e-02,  6.37428090e-02,  3.34000289e-02,\n",
       "         -9.46182385e-03, -1.77637320e-02,  6.91405758e-02,\n",
       "          1.84250735e-02, -7.59260282e-02, -4.07018559e-03,\n",
       "          7.31957033e-02,  9.71717574e-03, -2.12715510e-02,\n",
       "          2.99298465e-02,  7.15269372e-02,  1.64170843e-02,\n",
       "         -1.17602803e-01, -8.03291351e-02,  5.52192479e-02,\n",
       "          7.56243989e-02,  2.68978663e-02,  5.52467667e-02,\n",
       "         -1.02093099e-02, -5.12300767e-02,  1.92494206e-02,\n",
       "          2.68909074e-02,  8.28921050e-03, -2.47252639e-03,\n",
       "         -5.12577184e-02,  5.28947972e-02,  2.02499591e-02,\n",
       "         -5.40192835e-02,  1.73616931e-02,  3.28241475e-02,\n",
       "          2.62974668e-02, -2.42081806e-02, -4.27581854e-02,\n",
       "          4.35477085e-02,  1.13873128e-02, -7.22609274e-03,\n",
       "         -3.18173431e-02, -1.61784124e-02, -1.71187408e-02,\n",
       "          4.05898690e-02,  4.38810810e-02,  1.85925439e-02,\n",
       "          6.64632097e-02,  1.81282889e-02, -4.42049699e-03,\n",
       "         -7.65619203e-02,  1.23304909e-03, -5.00065722e-02,\n",
       "         -1.84489693e-02,  4.24020961e-02, -2.97034532e-02,\n",
       "          4.59248200e-02,  6.50063828e-02,  1.67765096e-02,\n",
       "          3.12865824e-02, -1.46652013e-02,  1.00763310e-02,\n",
       "         -1.19900005e-02, -7.50213340e-02,  8.26567784e-03,\n",
       "         -2.25947220e-02,  5.90769248e-03,  2.46992689e-02,\n",
       "         -2.35102586e-02, -5.26578799e-02,  2.85648331e-02,\n",
       "          2.92237382e-02,  1.74386259e-02,  7.10669952e-03,\n",
       "          3.32591757e-02,  2.82901656e-02, -1.67819504e-02,\n",
       "         -7.48110004e-03, -1.27100898e-02,  5.59796803e-02,\n",
       "          4.01929133e-02,  1.15510643e-01, -1.83008760e-02,\n",
       "         -5.68519172e-04,  4.08228524e-02, -4.24952582e-02,\n",
       "          8.10896605e-02, -4.60167299e-04, -4.59647737e-02,\n",
       "         -1.67102478e-02, -5.76152205e-02, -1.52937090e-02,\n",
       "         -5.14844507e-02,  2.43691020e-02, -7.19609708e-02,\n",
       "          1.05151860e-02, -1.00090327e-02, -2.70540919e-02,\n",
       "         -3.55528258e-02, -2.45150886e-02,  1.76904388e-02,\n",
       "          9.84598100e-02, -3.61163467e-02, -9.53716692e-03,\n",
       "         -3.67867984e-02,  4.78684530e-03,  7.78421108e-03,\n",
       "         -2.21035648e-02,  1.95877906e-02,  4.45014574e-02,\n",
       "          1.91113744e-02,  4.06057015e-02,  4.65644784e-02,\n",
       "          4.25643213e-02,  4.88933781e-03,  5.31744445e-03,\n",
       "          1.59495138e-02,  4.64362949e-02, -3.83453281e-03,\n",
       "          2.52319444e-02, -3.98073718e-02,  2.70810034e-02,\n",
       "          2.14353818e-02, -2.36716140e-02, -6.53254427e-03,\n",
       "         -7.77356029e-02,  7.40115112e-03, -4.79700509e-04,\n",
       "         -7.74777606e-02, -6.22217543e-03,  8.46336689e-03,\n",
       "          1.48137985e-02, -8.63250252e-03, -2.66069714e-02,\n",
       "         -2.89520714e-02, -6.42677173e-02,  1.70603693e-02,\n",
       "          2.16279496e-02, -3.14912423e-02,  2.94267405e-02,\n",
       "         -3.76764126e-02,  8.29405338e-03, -5.92911392e-02,\n",
       "          1.30846739e-01,  4.85076895e-03,  3.28141153e-02,\n",
       "          2.25540977e-02, -4.03375030e-02,  1.20406970e-02,\n",
       "         -4.20057103e-02, -1.56426523e-03, -3.68776335e-03,\n",
       "          2.65690312e-02, -1.83129199e-02,  4.33578296e-03,\n",
       "         -1.05191218e-02,  4.87625040e-02,  5.40101454e-02,\n",
       "         -3.78550179e-02,  3.14636640e-02,  7.91487191e-03,\n",
       "          2.57078949e-02,  4.77001034e-02,  4.42372188e-02,\n",
       "          2.18401235e-02,  1.45901404e-02, -1.83959212e-02,\n",
       "          6.43695891e-02,  1.80198047e-02, -4.49325405e-02,\n",
       "         -8.18825737e-02, -3.57382670e-02, -3.64686251e-02,\n",
       "         -2.18604039e-02,  1.54401746e-03, -3.00221518e-02,\n",
       "         -2.17799712e-02, -2.39982666e-03,  3.34952734e-02,\n",
       "          3.18168849e-02, -1.84232332e-02,  2.77226698e-02,\n",
       "          4.13334183e-02, -3.27005461e-02,  2.71218666e-03,\n",
       "          2.17442624e-02, -1.10077001e-01, -3.78559306e-02,\n",
       "          1.03076072e-02, -5.32156751e-02, -2.27871146e-02,\n",
       "          2.36909408e-02,  3.11670429e-03,  2.48540449e-03,\n",
       "         -2.04028916e-02, -1.06834099e-02,  1.44879771e-02,\n",
       "         -6.02615438e-02, -1.49394916e-02, -7.19932420e-03,\n",
       "         -1.24135930e-02,  3.72588336e-02,  5.07427864e-02,\n",
       "          2.07273345e-02, -3.95176001e-02,  3.28734219e-02,\n",
       "         -4.25045379e-02,  7.95920007e-03,  3.07791494e-03,\n",
       "         -5.95126674e-02,  1.97710260e-03,  3.91550288e-02,\n",
       "         -1.32393492e-02, -3.57071273e-02, -4.61113788e-02,\n",
       "          5.36068901e-02, -1.13623943e-02,  4.79817875e-02,\n",
       "          1.08154789e-02,  1.51044186e-02, -4.24677990e-02,\n",
       "          1.49727659e-02,  5.03491126e-02,  7.23839365e-03,\n",
       "          2.79535167e-02,  4.23875637e-02, -4.45632003e-02,\n",
       "          4.58404189e-03, -2.77815592e-02, -8.16370361e-03,\n",
       "         -2.80693988e-03, -1.83662064e-02,  1.78060364e-02,\n",
       "         -1.51321944e-02, -1.74233951e-02,  1.39086181e-02,\n",
       "          4.16419990e-02, -1.27024248e-01,  1.99474841e-02,\n",
       "         -4.40066606e-06, -1.52570195e-02,  3.18336040e-02,\n",
       "         -3.97112183e-02, -3.28778550e-02, -6.86561223e-03,\n",
       "          2.81547159e-02,  1.79372579e-02, -2.13761013e-02,\n",
       "         -9.68809181e-04,  1.91400554e-02, -5.79354241e-02,\n",
       "          4.86679608e-04, -2.83728000e-02, -8.37051123e-02,\n",
       "         -8.75789486e-03, -6.92205429e-02,  3.36146764e-02,\n",
       "         -1.73709132e-02,  3.76946889e-02,  7.01898895e-03,\n",
       "          3.18908989e-02,  1.68594718e-02,  6.95774257e-02,\n",
       "          6.86053652e-03,  2.18306929e-02, -5.68500608e-02,\n",
       "         -9.16462392e-04,  3.51726227e-02,  4.89467792e-02,\n",
       "          1.99052226e-02, -1.25939595e-02,  3.57097723e-02,\n",
       "          3.42692435e-02,  4.40946966e-02,  1.32436957e-02,\n",
       "         -2.54656095e-03, -5.00819907e-02,  5.33729456e-02,\n",
       "         -1.82101559e-02,  4.66886461e-02, -3.19222100e-02,\n",
       "         -1.52326683e-02,  2.31022462e-02,  5.22764924e-04,\n",
       "         -1.00896666e-02,  1.15634361e-02, -2.83383969e-02,\n",
       "          2.72961501e-02, -6.91326382e-03,  1.85072590e-02,\n",
       "          1.64237395e-02, -9.39060375e-03,  2.46047582e-02,\n",
       "          2.91178413e-02,  1.75047535e-02,  6.33794442e-03,\n",
       "          3.76530364e-02, -1.38582522e-02,  1.14348205e-02,\n",
       "         -6.82986993e-03, -4.55659255e-02, -1.61871463e-02,\n",
       "         -5.46743684e-02,  3.24186087e-02, -7.30791315e-03,\n",
       "          1.55411903e-02,  5.64291738e-02, -5.88003732e-02,\n",
       "          4.70161857e-03,  3.26278210e-02,  2.06810478e-02,\n",
       "         -2.84712762e-02,  1.63971260e-02, -1.76923331e-02,\n",
       "          2.29360051e-02, -1.80625878e-02,  2.04717417e-05,\n",
       "         -8.44837204e-02,  2.29187645e-02, -2.73280602e-04,\n",
       "         -3.74767594e-02, -3.19047878e-03, -4.12948206e-02,\n",
       "          4.29291651e-02, -7.01184943e-02,  7.06170127e-03,\n",
       "          4.69154976e-02, -4.94429609e-04,  1.49977980e-02,\n",
       "          8.21526814e-03,  1.07797869e-02, -5.19789336e-03,\n",
       "         -2.72562113e-02,  7.73388473e-03,  5.26823290e-03,\n",
       "         -1.27377976e-02, -2.48210263e-02,  6.87557533e-02,\n",
       "          4.67680916e-02,  2.34923083e-02, -6.78708106e-02,\n",
       "          5.91224665e-03,  5.11423126e-02,  6.08930960e-02,\n",
       "          2.30996124e-02, -1.08930049e-02, -3.12801190e-02,\n",
       "         -2.87404992e-02,  3.42572108e-02, -1.45941395e-02,\n",
       "          4.02772240e-02,  9.64085571e-03,  3.96744199e-02,\n",
       "         -6.07221089e-02,  8.49620625e-03,  1.51351057e-02,\n",
       "         -4.23450842e-02, -3.41744046e-03, -2.79895756e-02,\n",
       "          8.08278844e-03, -1.65180098e-02, -3.47541347e-02,\n",
       "          2.14143768e-02,  6.96209371e-02,  5.23179723e-03,\n",
       "         -1.88186206e-02,  3.64085361e-02, -3.34950127e-02,\n",
       "         -1.73033997e-02, -4.23044786e-02,  1.53827434e-02,\n",
       "         -2.12214813e-02, -1.90653745e-02,  3.80762517e-02,\n",
       "          3.75915542e-02, -1.52811706e-02, -1.15431948e-02,\n",
       "          7.76080778e-05,  5.63595705e-02,  4.50616293e-02,\n",
       "         -2.17353664e-02,  1.51566956e-02, -3.81722599e-02,\n",
       "          2.68124677e-02, -6.76873699e-03,  3.38574573e-02,\n",
       "          1.49442134e-02,  3.04685533e-02, -4.27099094e-02,\n",
       "          2.08002813e-02, -3.27546261e-02,  5.53215481e-02,\n",
       "         -4.04863469e-02,  5.62091134e-02,  4.12470102e-02,\n",
       "         -5.77488840e-02, -8.03617761e-03,  5.53121865e-02,\n",
       "         -9.23621561e-03, -3.68767641e-02,  6.49747252e-03,\n",
       "         -1.19515844e-02,  5.67865334e-02,  4.14504670e-02,\n",
       "         -8.87048058e-03,  7.04244524e-02,  1.94086116e-02,\n",
       "         -7.50012919e-02,  4.15655449e-02,  1.23664159e-02,\n",
       "          1.97973773e-02,  3.31943482e-03,  2.42525004e-02,\n",
       "          2.67539714e-02, -1.35885002e-02, -3.31386365e-03,\n",
       "          1.86801758e-02,  5.06298356e-02, -4.68020886e-02,\n",
       "         -5.22365458e-02,  1.09648695e-02,  6.15037568e-02,\n",
       "          1.50557887e-02, -6.72038943e-02, -4.03924845e-02,\n",
       "         -1.30698048e-02,  3.07836384e-02, -4.19877209e-02,\n",
       "         -2.10482161e-02, -2.93869618e-03,  7.09390342e-02,\n",
       "         -1.26669575e-02, -2.40763947e-02, -3.35873589e-02,\n",
       "         -2.35113539e-02, -2.60616257e-03, -1.60311554e-02,\n",
       "         -4.13288139e-02,  5.22415042e-02,  3.80050652e-02,\n",
       "          2.03861054e-02, -5.57955392e-02,  2.24010348e-02,\n",
       "          5.19685261e-03,  4.42227572e-02, -5.40624708e-02,\n",
       "          2.68181413e-02,  4.52980027e-02,  1.72883086e-02,\n",
       "          1.83444470e-02, -2.20065154e-02, -5.50962910e-02,\n",
       "          6.40723780e-02,  2.99663488e-02,  5.11110425e-02,\n",
       "          3.02118436e-02,  1.11710373e-02, -3.45597565e-02,\n",
       "          4.82953973e-02,  1.31371655e-02,  1.33488383e-02,\n",
       "          3.81961428e-02, -3.75676155e-02,  1.87889133e-02,\n",
       "          1.32641653e-02,  2.86872853e-02,  2.50053629e-02,\n",
       "          3.07696331e-02, -1.41995326e-02,  4.77104634e-03,\n",
       "          6.53751567e-02, -2.20292732e-02, -5.35141416e-02,\n",
       "          4.77329008e-02,  3.29932868e-02, -5.38583063e-02,\n",
       "         -9.92177427e-03,  2.82178372e-02, -1.26598002e-02,\n",
       "         -6.95774937e-03,  1.98084507e-02,  1.20604541e-02,\n",
       "         -1.77489500e-03, -1.85525343e-02, -1.54383108e-02,\n",
       "          2.26437971e-02,  1.56102376e-03,  6.74776137e-02,\n",
       "         -1.76066603e-03, -3.54650207e-02, -4.25395410e-04,\n",
       "         -4.38410649e-03, -7.56854042e-02, -1.24298187e-03,\n",
       "         -5.70850121e-03, -2.07662974e-02,  2.92110331e-02,\n",
       "         -1.22399861e-02, -1.76253822e-02, -2.14792974e-02,\n",
       "         -2.44380273e-02, -2.95710918e-02,  8.52533150e-03,\n",
       "          2.99535543e-02,  1.32715711e-02,  4.95557226e-02,\n",
       "          3.15869525e-02,  7.61772040e-03,  1.97764672e-02,\n",
       "          7.22730383e-02,  1.53596292e-03, -1.48118883e-02,\n",
       "         -3.35291959e-02, -2.21658703e-02, -9.11562983e-03,\n",
       "          1.52490390e-02, -4.57775965e-03, -7.72992820e-02,\n",
       "          1.14368526e-02, -1.76011510e-02, -1.77014731e-02,\n",
       "         -2.08293889e-02, -1.42043279e-02,  8.43277350e-02,\n",
       "          6.68519875e-03,  2.14793049e-02, -1.89026985e-02,\n",
       "         -1.24958688e-02, -4.42098714e-02, -4.57003787e-02,\n",
       "          2.52192784e-02,  1.74184777e-02,  8.93205684e-03,\n",
       "          4.47204662e-03, -3.31792682e-02, -4.41021882e-02,\n",
       "         -8.89247749e-03, -4.85034026e-02,  2.25739125e-02,\n",
       "          8.30120780e-03, -6.68527558e-03, -1.67586785e-02,\n",
       "          2.98733655e-02,  9.36805457e-02,  5.00622159e-03,\n",
       "         -2.28598025e-02, -3.05463299e-02,  6.68263761e-03,\n",
       "          2.86634397e-02, -2.47109104e-02, -3.17525826e-02,\n",
       "          3.81636294e-03,  5.08561097e-02,  4.03078161e-02,\n",
       "         -4.32957374e-02, -2.90846173e-02, -6.56030625e-02,\n",
       "         -1.16245421e-02, -4.54538269e-03,  4.28973138e-02,\n",
       "         -7.97092617e-02, -3.76840942e-02, -2.52965540e-02,\n",
       "         -1.48403896e-02, -2.16198247e-03, -5.72849363e-02,\n",
       "         -1.99747533e-02,  4.92449198e-03, -3.22504831e-03,\n",
       "          2.39682812e-02, -3.68389226e-02, -3.89902331e-02,\n",
       "          5.50265461e-02, -1.87124554e-02, -7.67583307e-03,\n",
       "         -7.52742495e-03,  2.12036446e-02, -2.91875359e-02,\n",
       "          3.44583392e-02, -1.53278466e-03, -1.23414695e-02,\n",
       "         -1.69910770e-02, -5.12608737e-02,  9.63207893e-03,\n",
       "          2.52103657e-02,  2.84138508e-02,  2.88246647e-02,\n",
       "         -1.06050717e-02,  3.00244708e-02,  8.08884948e-03,\n",
       "         -3.47373337e-02, -1.74275395e-02,  8.07740446e-03,\n",
       "         -5.10558747e-02,  2.71309493e-03, -7.98913911e-02,\n",
       "         -1.54734543e-02,  2.34977473e-02, -1.86780971e-02,\n",
       "          5.87533973e-03, -8.73346440e-03,  9.25589446e-03,\n",
       "          3.25275622e-02,  2.32145600e-02, -9.07937344e-03,\n",
       "          3.94831337e-02, -1.31693771e-02,  5.26836254e-02,\n",
       "         -1.65915079e-02,  1.42515833e-02,  5.70869446e-02,\n",
       "          1.25109525e-02, -4.93575670e-02, -2.86953826e-03,\n",
       "          5.51959164e-02,  2.41397358e-02,  4.73980866e-02,\n",
       "         -7.13639893e-03,  2.72540525e-02, -4.09080945e-02,\n",
       "         -9.11323912e-03,  5.65349609e-02, -2.07023602e-02,\n",
       "         -6.09336719e-02, -6.21111542e-02,  1.03698643e-02,\n",
       "          3.62970121e-02,  5.69365360e-02,  1.70260165e-02,\n",
       "         -2.07252819e-02, -1.53262122e-03, -3.44571918e-02,\n",
       "         -2.73721289e-05,  3.64446416e-02,  2.59477627e-02,\n",
       "          1.83316357e-02,  2.20175553e-02,  4.30404171e-02,\n",
       "         -6.74126595e-02, -2.80868094e-02,  1.17367152e-02,\n",
       "         -6.94074854e-02,  1.10715991e-02, -2.22752038e-02,\n",
       "          3.04663926e-02,  4.93101068e-02,  1.93018652e-02,\n",
       "         -6.39600158e-02, -3.20209339e-02, -3.01601198e-02,\n",
       "          7.65383467e-02,  5.08186445e-02, -3.23912464e-02,\n",
       "          1.40378568e-02, -2.53162952e-03, -2.67212093e-02,\n",
       "         -8.26058257e-03, -1.31942686e-02,  2.35012416e-02,\n",
       "          1.63116900e-03, -2.44381092e-03, -1.27963694e-02,\n",
       "          4.43276465e-02, -9.06061903e-02,  6.18925765e-02,\n",
       "         -8.67732987e-03,  8.35782569e-03,  7.26120397e-02,\n",
       "         -1.59798749e-02, -1.53866606e-02, -1.88958980e-02,\n",
       "         -2.19460148e-02, -1.58952326e-02,  2.20988858e-02,\n",
       "          2.58729178e-02,  1.95576977e-02, -5.57802664e-03,\n",
       "         -6.89626625e-03,  1.40543319e-02, -1.74961444e-02,\n",
       "          9.57280863e-03, -2.26950627e-02, -1.33763961e-02,\n",
       "         -1.03636002e-02, -4.18965146e-02, -2.60744654e-02,\n",
       "          9.12640430e-03,  3.00326720e-02,  1.07487915e-02]]),\n",
       " 'documents': ['Operating the Climate Control System  Your Googlecar has a climate control system that allows you to adjust the temperature and airflow in the car. To operate the climate control system, use the buttons and knobs located on the center console.  Temperature: The temperature knob controls the temeperature inside the car. Turn the knob clockwise to increase the temperature or counterclockwise to decrease the temperature. Airflow: The airflow knob controls the amount of airflow inside the car. Turn the knob clockwise to increase the airflow or counterclockwise to decrease the airflow. Fan speed: The fan spped knob controls the speed of the fan. Turn the knob clockwise to increase the fan speed or counterclockwise to decrease the fan speed. Mode: The mode button allows you to select the desired mode. The available modes are: Auto: The car will automatically adjust the temperature and airflow to maintain a comfortable level. Cool: The car will blow cool air into the car. Heat: The car will blow warm air into the car. Defrost: The car will blow warm air onto the windshield to defrost it.'],\n",
       " 'uris': None,\n",
       " 'data': None,\n",
       " 'metadatas': [None],\n",
       " 'included': [<IncludeEnum.embeddings: 'embeddings'>,\n",
       "  <IncludeEnum.documents: 'documents'>,\n",
       "  <IncludeEnum.metadatas: 'metadatas'>]}"
      ]
     },
     "execution_count": 9,
     "metadata": {},
     "output_type": "execute_result"
    }
   ],
   "source": [
    "db.count()\n",
    "# You can peek the data too.\n",
    "db.peek(1)"
   ]
  },
  {
   "cell_type": "markdown",
   "id": "891898de",
   "metadata": {
    "papermill": {
     "duration": 0.006351,
     "end_time": "2025-04-03T07:00:56.439281",
     "exception": false,
     "start_time": "2025-04-03T07:00:56.432930",
     "status": "completed"
    },
    "tags": []
   },
   "source": [
    "## Retrieval: Find relevant documents\n",
    "\n",
    "To search the Chroma database, call the 'query' method. Note that you also switch to the 'retrieval_query' mode of embedding generation."
   ]
  },
  {
   "cell_type": "code",
   "execution_count": 10,
   "id": "da71896d",
   "metadata": {
    "execution": {
     "iopub.execute_input": "2025-04-03T07:00:56.452757Z",
     "iopub.status.busy": "2025-04-03T07:00:56.452500Z",
     "iopub.status.idle": "2025-04-03T07:00:56.920970Z",
     "shell.execute_reply": "2025-04-03T07:00:56.920063Z"
    },
    "papermill": {
     "duration": 0.476525,
     "end_time": "2025-04-03T07:00:56.922296",
     "exception": false,
     "start_time": "2025-04-03T07:00:56.445771",
     "status": "completed"
    },
    "tags": []
   },
   "outputs": [
    {
     "data": {
      "text/markdown": [
       "Your Googlecar has a large touchscreen display that provides access to a variety of features, including navigation, entertainment, and climate control. To use the touchscreen display, simply touch the desired icon. For example, you can touch the \"Navigation\" icon to get directions to your destination or touch the \"Music\" icon to play your favorite songs."
      ],
      "text/plain": [
       "<IPython.core.display.Markdown object>"
      ]
     },
     "execution_count": 10,
     "metadata": {},
     "output_type": "execute_result"
    }
   ],
   "source": [
    "from IPython.display import Markdown\n",
    "\n",
    "# Switch to query mode when generating embeddings.\n",
    "embed_fn.document_mode = False\n",
    "\n",
    "# Search the Chroma DB using the specified query.\n",
    "query = \"How do you use the touchscreen to play music?\"\n",
    "\n",
    "result = db.query(query_texts=[query], n_results=1)\n",
    "[all_passages] = result[\"documents\"]\n",
    "\n",
    "Markdown(all_passages[0])"
   ]
  },
  {
   "cell_type": "markdown",
   "id": "60da2343",
   "metadata": {
    "papermill": {
     "duration": 0.006134,
     "end_time": "2025-04-03T07:00:56.934784",
     "exception": false,
     "start_time": "2025-04-03T07:00:56.928650",
     "status": "completed"
    },
    "tags": []
   },
   "source": [
    "## Augmented generation: Answer the question\n",
    "\n",
    "Now that you have found a relevant passage from the set of documents (the retrieval step), you can now assemble a generation prompt to have the Gemini API generate a final answer. Note that in this example only a single passage was retrieved. In practice, especially when the size of your underlying data is large, you will want to retrieve more than one result and let the Gemini model determine what passages are relevant in answering the question. FOr this reason it's OK if some retrieved passages are not directly related to teh question - this generation step should ignore them."
   ]
  },
  {
   "cell_type": "code",
   "execution_count": 11,
   "id": "9230c5d1",
   "metadata": {
    "execution": {
     "iopub.execute_input": "2025-04-03T07:00:56.948002Z",
     "iopub.status.busy": "2025-04-03T07:00:56.947764Z",
     "iopub.status.idle": "2025-04-03T07:00:56.952830Z",
     "shell.execute_reply": "2025-04-03T07:00:56.951914Z"
    },
    "papermill": {
     "duration": 0.012963,
     "end_time": "2025-04-03T07:00:56.954227",
     "exception": false,
     "start_time": "2025-04-03T07:00:56.941264",
     "status": "completed"
    },
    "tags": []
   },
   "outputs": [
    {
     "name": "stdout",
     "output_type": "stream",
     "text": [
      "You are a helpful and informative bot that answers questions using text from the refrence passage included below.\n",
      "Be sure to respond in a complete sentence, being comprehensive, including all relevant background information.\n",
      "However, you are talking to a non-technical audience, so be sure to break down complicated concepts and strike a friendly and conversational tone. If the passage is irrelevant to the answer, you may ignore it.\n",
      "\n",
      "QUESTION: How do you use the touchscreen to play music?\n",
      "PASSAGE: Your Googlecar has a large touchscreen display that provides access to a variety of features, including navigation, entertainment, and climate control. To use the touchscreen display, simply touch the desired icon. For example, you can touch the \"Navigation\" icon to get directions to your destination or touch the \"Music\" icon to play your favorite songs.\n",
      "\n"
     ]
    }
   ],
   "source": [
    "query_oneline = query.replace(\"\\n\", \" \")\n",
    "\n",
    "# This prompt is where ytou can specify any guidance on tone, or what topics that model should stick to, or avoid.\n",
    "prompt = f\"\"\"You are a helpful and informative bot that answers questions using text from the refrence passage included below.\n",
    "Be sure to respond in a complete sentence, being comprehensive, including all relevant background information.\n",
    "However, you are talking to a non-technical audience, so be sure to break down complicated concepts and strike a friendly and conversational tone. If the passage is irrelevant to the answer, you may ignore it.\n",
    "\n",
    "QUESTION: {query_oneline}\n",
    "\"\"\"\n",
    "\n",
    "# Add the retrieved documents to the prompt.\n",
    "for passage in all_passages:\n",
    "    passage_oneline = passage.replace(\"\\n\", \" \")\n",
    "    prompt += f\"PASSAGE: {passage_oneline}\\n\"\n",
    "\n",
    "print(prompt)"
   ]
  },
  {
   "cell_type": "markdown",
   "id": "7e671995",
   "metadata": {
    "papermill": {
     "duration": 0.006272,
     "end_time": "2025-04-03T07:00:56.967030",
     "exception": false,
     "start_time": "2025-04-03T07:00:56.960758",
     "status": "completed"
    },
    "tags": []
   },
   "source": [
    "Now use the `generate_content` method to generae an answer to the question."
   ]
  },
  {
   "cell_type": "code",
   "execution_count": 12,
   "id": "9bb42074",
   "metadata": {
    "execution": {
     "iopub.execute_input": "2025-04-03T07:00:56.980607Z",
     "iopub.status.busy": "2025-04-03T07:00:56.980414Z",
     "iopub.status.idle": "2025-04-03T07:00:57.517557Z",
     "shell.execute_reply": "2025-04-03T07:00:57.516723Z"
    },
    "papermill": {
     "duration": 0.545761,
     "end_time": "2025-04-03T07:00:57.519019",
     "exception": false,
     "start_time": "2025-04-03T07:00:56.973258",
     "status": "completed"
    },
    "tags": []
   },
   "outputs": [
    {
     "data": {
      "text/markdown": [
       "To play your favorite songs, simply touch the \"Music\" icon on the large touchscreen display in your Googlecar, which also gives you access to navigation, entertainment, and climate control.\n"
      ],
      "text/plain": [
       "<IPython.core.display.Markdown object>"
      ]
     },
     "execution_count": 12,
     "metadata": {},
     "output_type": "execute_result"
    }
   ],
   "source": [
    "answer = client.models.generate_content(\n",
    "    model=\"gemini-2.0-flash\",\n",
    "    contents = prompt\n",
    ")\n",
    "\n",
    "Markdown(answer.text)"
   ]
  },
  {
   "cell_type": "markdown",
   "id": "7be67abd",
   "metadata": {
    "papermill": {
     "duration": 0.006473,
     "end_time": "2025-04-03T07:00:57.532355",
     "exception": false,
     "start_time": "2025-04-03T07:00:57.525882",
     "status": "completed"
    },
    "tags": []
   },
   "source": [
    "## Next steps\n",
    "\n",
    "Congrats on building a Retrieval-Augmented Generation app!\n",
    "\n",
    "To learn more about using embeddings in the Gemini API, check out the [Intro to embeddings](https://ai.google.dev/gemini-api/docs/embeddings) or to learn more fundamentals, study the [embeddings chapter](https://developers.google.com/machine-learning/crash-course/embeddings) of the Machine Learning Crash Course.\n",
    "\n",
    "For a hosted RAG system, check out the [Semantic Retrieval service](https://ai.google.dev/gemini-api/docs/semantic_retrieval) in the Gemini API. You can implement question-answering on your own documents in a single request, or host a databse for even faster responses.\n",
    "\n",
    "*- [Mark McD](https://linktr.ee/markmcd)*"
   ]
  }
 ],
 "metadata": {
  "kaggle": {
   "accelerator": "nvidiaTeslaT4",
   "dataSources": [],
   "dockerImageVersionId": 30919,
   "isGpuEnabled": true,
   "isInternetEnabled": true,
   "language": "python",
   "sourceType": "notebook"
  },
  "kernelspec": {
   "display_name": "Python 3",
   "language": "python",
   "name": "python3"
  },
  "language_info": {
   "codemirror_mode": {
    "name": "ipython",
    "version": 3
   },
   "file_extension": ".py",
   "mimetype": "text/x-python",
   "name": "python",
   "nbconvert_exporter": "python",
   "pygments_lexer": "ipython3",
   "version": "3.10.12"
  },
  "papermill": {
   "default_parameters": {},
   "duration": 42.08304,
   "end_time": "2025-04-03T07:00:58.256918",
   "environment_variables": {},
   "exception": null,
   "input_path": "__notebook__.ipynb",
   "output_path": "__notebook__.ipynb",
   "parameters": {},
   "start_time": "2025-04-03T07:00:16.173878",
   "version": "2.6.0"
  }
 },
 "nbformat": 4,
 "nbformat_minor": 5
}
