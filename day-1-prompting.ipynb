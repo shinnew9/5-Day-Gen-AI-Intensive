{
 "cells": [
  {
   "cell_type": "markdown",
   "id": "61898f9d",
   "metadata": {
    "id": "jkxRSYjzA1oX",
    "papermill": {
     "duration": 0.01373,
     "end_time": "2025-04-03T06:00:13.808486",
     "exception": false,
     "start_time": "2025-04-03T06:00:13.794756",
     "status": "completed"
    },
    "tags": []
   },
   "source": [
    "##### Copyright 2025 Google LLC."
   ]
  },
  {
   "cell_type": "code",
   "execution_count": 1,
   "id": "5c9397db",
   "metadata": {
    "cellView": "form",
    "execution": {
     "iopub.execute_input": "2025-04-03T06:00:13.836410Z",
     "iopub.status.busy": "2025-04-03T06:00:13.835870Z",
     "iopub.status.idle": "2025-04-03T06:00:13.841677Z",
     "shell.execute_reply": "2025-04-03T06:00:13.840645Z"
    },
    "id": "5u5OZ2ShA3BA",
    "jupyter": {
     "source_hidden": true
    },
    "papermill": {
     "duration": 0.022908,
     "end_time": "2025-04-03T06:00:13.843882",
     "exception": false,
     "start_time": "2025-04-03T06:00:13.820974",
     "status": "completed"
    },
    "tags": []
   },
   "outputs": [],
   "source": [
    "# @title Licensed under the Apache License, Version 2.0 (the \"License\");\n",
    "# you may not use this file except in compliance with the License.\n",
    "# You may obtain a copy of the License at\n",
    "#\n",
    "# https://www.apache.org/licenses/LICENSE-2.0\n",
    "#\n",
    "# Unless required by applicable law or agreed to in writing, software\n",
    "# distributed under the License is distributed on an \"AS IS\" BASIS,\n",
    "# WITHOUT WARRANTIES OR CONDITIONS OF ANY KIND, either express or implied.\n",
    "# See the License for the specific language governing permissions and\n",
    "# limitations under the License."
   ]
  },
  {
   "cell_type": "markdown",
   "id": "7c918ef1",
   "metadata": {
    "id": "csNPnkuCobmG",
    "papermill": {
     "duration": 0.012079,
     "end_time": "2025-04-03T06:00:13.868556",
     "exception": false,
     "start_time": "2025-04-03T06:00:13.856477",
     "status": "completed"
    },
    "tags": []
   },
   "source": [
    "# Day 1 - Prompting\n",
    "\n",
    "Welcome to the Kaggle 5-day Generative AI course!\n",
    "\n",
    "This notebook will show you how to get started with the Gemini API and walk you through some of the example prompts and techniques that you can also read about in the Prompting whitepaper. You don't need to read the whitepaper to use this notebook, but the papers will give you some theoretical context and background to complement this interactive notebook.\n",
    "\n",
    "\n",
    "## Before you begin\n",
    "\n",
    "In this notebook, you'll start exploring prompting using the Python SDK and AI Studio. For some inspiration, you might enjoy exploring some apps that have been built using the Gemini family of models. Here are a few that we like, and we think you will too.\n",
    "\n",
    "* [TextFX](https://textfx.withgoogle.com/) is a suite of AI-powered tools for rappers, made in collaboration with Lupe Fiasco,\n",
    "* [SQL Talk](https://sql-talk-r5gdynozbq-uc.a.run.app/) shows how you can talk directly to a database using the Gemini API,\n",
    "* [NotebookLM](https://notebooklm.google/) uses Gemini models to build your own personal AI research assistant.\n",
    "\n",
    "\n",
    "## For help\n",
    "\n",
    "**Common issues are covered in the [FAQ and troubleshooting guide](https://www.kaggle.com/code/markishere/day-0-troubleshooting-and-faqs).**\n",
    "\n",
    "## New for Gemini 2.0!\n",
    "\n",
    "This course material was first launched in November 2024. The AI and LLM space is moving incredibly fast, so we have made some updates to use the latest models and capabilities.\n",
    "\n",
    "* These codelabs have been updated to use the Gemini 2.0 family of models.\n",
    "* The Python SDK has been updated from `google-generativeai` to the new, unified [`google-genai`](https://pypi.org/project/google-genai) SDK.\n",
    "  * This new SDK works with both the developer Gemini API as well as Google Cloud Vertex AI, and switching is [as simple as changing some fields](https://pypi.org/project/google-genai/#:~:text=.Client%28%29-,API%20Selection,-By%20default%2C%20the).\n",
    "* New model capabilities have been added to the relevant codelabs, such as \"thinking mode\" in this lab.\n",
    "* Day 1 includes a new [Evaluation codelab](https://www.kaggle.com/code/markishere/day-1-evaluation-and-structured-output)."
   ]
  },
  {
   "attachments": {
    "d8299597-f771-4195-ac94-1d6f658ef2bd.png": {
     "image/png": "[encoded data removed]"
    },
    "ed25e346-2e15-4ab0-bc22-503eb1845e66.png": {
     "image/png": "[encoded data removed]"
    }
   },
   "cell_type": "markdown",
   "id": "db4a3f19",
   "metadata": {
    "id": "f00ea7c99e44",
    "papermill": {
     "duration": 0.012775,
     "end_time": "2025-04-03T06:00:13.893585",
     "exception": false,
     "start_time": "2025-04-03T06:00:13.880810",
     "status": "completed"
    },
    "tags": []
   },
   "source": [
    "## Get started with Kaggle notebooks\n",
    "\n",
    "If this is your first time using a Kaggle notebook, welcome! You can read about how to use Kaggle notebooks [in the docs](https://www.kaggle.com/docs/notebooks).\n",
    "\n",
    "First, you will need to phone verify your account at kaggle.com/settings.\n",
    "\n",
    "![](https://storage.googleapis.com/kaggle-media/Images/5dgai_0.png)"
   ]
  },
  {
   "cell_type": "markdown",
   "id": "ca3d3d2b",
   "metadata": {
    "papermill": {
     "duration": 0.012118,
     "end_time": "2025-04-03T06:00:13.919038",
     "exception": false,
     "start_time": "2025-04-03T06:00:13.906920",
     "status": "completed"
    },
    "tags": []
   },
   "source": [
    "To run this notebook, as well as the others in this course, you will need to make a copy, or fork, the notebook. Look for the `Copy and Edit` button in the top-right, and **click it** to make an editable, private copy of the notebook. It should look like this one:\n",
    "\n",
    "![Copy and Edit button](https://storage.googleapis.com/kaggle-media/Images/5gdai_sc_1.png)\n",
    "\n",
    "Your copy will now have a ▶️ **Run** button next to each code cell that you can press to execute that cell. These notebooks are expected to be run in order from top-to-bottom, but you are encouraged to add new cells, run your own code and explore. If you get stuck, you can try the `Factory reset` option in the `Run` menu, or head back to the original notebook and make a fresh copy.\n",
    "\n",
    "![Run cell button](https://storage.googleapis.com/kaggle-media/Images/5gdai_sc_2.png)\n",
    "\n",
    "### Problems?\n",
    "\n",
    "If you have any problems, head over to the [Kaggle Discord](https://discord.com/invite/kaggle), find the [`#5dgai-q-and-a` channel](https://discord.com/channels/1101210829807956100/1303438695143178251) and ask for help."
   ]
  },
  {
   "cell_type": "markdown",
   "id": "a9edfe83",
   "metadata": {
    "id": "ExkOXcPxtTb5",
    "papermill": {
     "duration": 0.01196,
     "end_time": "2025-04-03T06:00:13.943467",
     "exception": false,
     "start_time": "2025-04-03T06:00:13.931507",
     "status": "completed"
    },
    "tags": []
   },
   "source": [
    "## Get started with the Gemini API\n",
    "\n",
    "All of the exercises in this notebook will use the [Gemini API](https://ai.google.dev/gemini-api/) by way of the [Python SDK](https://pypi.org/project/google-genai/). Each of these prompts can be accessed directly in [Google AI Studio](https://aistudio.google.com/) too, so if you would rather use a web interface and skip the code for this activity, look for the <img src=\"https://ai.google.dev/site-assets/images/marketing/home/icon-ais.png\" style=\"height: 24px\" height=24/> AI Studio link on each prompt."
   ]
  },
  {
   "cell_type": "markdown",
   "id": "614cf5a7",
   "metadata": {
    "papermill": {
     "duration": 0.012005,
     "end_time": "2025-04-03T06:00:13.967771",
     "exception": false,
     "start_time": "2025-04-03T06:00:13.955766",
     "status": "completed"
    },
    "tags": []
   },
   "source": [
    "Next, you will need to add your API key to your Kaggle Notebook as a Kaggle User Secret.\n",
    "\n",
    "![](https://storage.googleapis.com/kaggle-media/Images/5dgai_1.png)\n",
    "![](https://storage.googleapis.com/kaggle-media/Images/5dgai_2.png)\n",
    "![](https://storage.googleapis.com/kaggle-media/Images/5dgai_3.png)\n",
    "![](https://storage.googleapis.com/kaggle-media/Images/5dgai_4.png)"
   ]
  },
  {
   "cell_type": "markdown",
   "id": "433971b6",
   "metadata": {
    "id": "UAjUV3BsvFXQ",
    "papermill": {
     "duration": 0.011963,
     "end_time": "2025-04-03T06:00:13.991877",
     "exception": false,
     "start_time": "2025-04-03T06:00:13.979914",
     "status": "completed"
    },
    "tags": []
   },
   "source": [
    "### Install the SDK"
   ]
  },
  {
   "cell_type": "code",
   "execution_count": 2,
   "id": "9bfe1690",
   "metadata": {
    "execution": {
     "iopub.execute_input": "2025-04-03T06:00:14.018507Z",
     "iopub.status.busy": "2025-04-03T06:00:14.018106Z",
     "iopub.status.idle": "2025-04-03T06:00:33.854793Z",
     "shell.execute_reply": "2025-04-03T06:00:33.853233Z"
    },
    "id": "NzwzJFU9LqkJ",
    "papermill": {
     "duration": 19.852774,
     "end_time": "2025-04-03T06:00:33.857443",
     "exception": false,
     "start_time": "2025-04-03T06:00:14.004669",
     "status": "completed"
    },
    "tags": []
   },
   "outputs": [],
   "source": [
    "!pip uninstall -qy jupyterlab  # Remove unused packages from Kaggle's base image that conflict\n",
    "!pip install -U -q \"google-genai==1.7.0\""
   ]
  },
  {
   "cell_type": "markdown",
   "id": "2d9daf98",
   "metadata": {
    "papermill": {
     "duration": 0.012285,
     "end_time": "2025-04-03T06:00:33.881999",
     "exception": false,
     "start_time": "2025-04-03T06:00:33.869714",
     "status": "completed"
    },
    "tags": []
   },
   "source": [
    "Import the SDK and some helpers for rendering the output."
   ]
  },
  {
   "cell_type": "code",
   "execution_count": 3,
   "id": "03d9ca0b",
   "metadata": {
    "execution": {
     "iopub.execute_input": "2025-04-03T06:00:33.908655Z",
     "iopub.status.busy": "2025-04-03T06:00:33.908186Z",
     "iopub.status.idle": "2025-04-03T06:00:35.217146Z",
     "shell.execute_reply": "2025-04-03T06:00:35.216067Z"
    },
    "id": "5DwxYIRavMST",
    "papermill": {
     "duration": 1.325336,
     "end_time": "2025-04-03T06:00:35.219658",
     "exception": false,
     "start_time": "2025-04-03T06:00:33.894322",
     "status": "completed"
    },
    "tags": []
   },
   "outputs": [],
   "source": [
    "from google import genai\n",
    "from google.genai import types\n",
    "\n",
    "from IPython.display import HTML, Markdown, display"
   ]
  },
  {
   "cell_type": "markdown",
   "id": "e654d4f0",
   "metadata": {
    "papermill": {
     "duration": 0.012154,
     "end_time": "2025-04-03T06:00:35.244258",
     "exception": false,
     "start_time": "2025-04-03T06:00:35.232104",
     "status": "completed"
    },
    "tags": []
   },
   "source": [
    "Set up a retry helper. This allows you to \"Run all\" without worrying about per-minute quota."
   ]
  },
  {
   "cell_type": "code",
   "execution_count": 4,
   "id": "0377cd83",
   "metadata": {
    "execution": {
     "iopub.execute_input": "2025-04-03T06:00:35.271120Z",
     "iopub.status.busy": "2025-04-03T06:00:35.270586Z",
     "iopub.status.idle": "2025-04-03T06:00:35.458924Z",
     "shell.execute_reply": "2025-04-03T06:00:35.457955Z"
    },
    "papermill": {
     "duration": 0.20423,
     "end_time": "2025-04-03T06:00:35.461250",
     "exception": false,
     "start_time": "2025-04-03T06:00:35.257020",
     "status": "completed"
    },
    "tags": []
   },
   "outputs": [],
   "source": [
    "from google.api_core import retry\n",
    "\n",
    "\n",
    "is_retriable = lambda e: (isinstance(e, genai.errors.APIError) and e.code in {429, 503})\n",
    "\n",
    "genai.models.Models.generate_content = retry.Retry(\n",
    "    predicate=is_retriable)(genai.models.Models.generate_content)"
   ]
  },
  {
   "cell_type": "markdown",
   "id": "16d09979",
   "metadata": {
    "id": "DNEt2BCOvOJ1",
    "papermill": {
     "duration": 0.012044,
     "end_time": "2025-04-03T06:00:35.485643",
     "exception": false,
     "start_time": "2025-04-03T06:00:35.473599",
     "status": "completed"
    },
    "tags": []
   },
   "source": [
    "### Set up your API key\n",
    "\n",
    "To run the following cell, your API key must be stored it in a [Kaggle secret](https://www.kaggle.com/discussions/product-feedback/114053) named `GOOGLE_API_KEY`.\n",
    "\n",
    "If you don't already have an API key, you can grab one from [AI Studio](https://aistudio.google.com/app/apikey). You can find [detailed instructions in the docs](https://ai.google.dev/gemini-api/docs/api-key).\n",
    "\n",
    "To make the key available through Kaggle secrets, choose `Secrets` from the `Add-ons` menu and follow the instructions to add your key or enable it for this notebook."
   ]
  },
  {
   "cell_type": "code",
   "execution_count": 5,
   "id": "97f84421",
   "metadata": {
    "execution": {
     "iopub.execute_input": "2025-04-03T06:00:35.512156Z",
     "iopub.status.busy": "2025-04-03T06:00:35.511626Z",
     "iopub.status.idle": "2025-04-03T06:00:35.672487Z",
     "shell.execute_reply": "2025-04-03T06:00:35.671238Z"
    },
    "id": "SHl0bkPCvayd",
    "papermill": {
     "duration": 0.178681,
     "end_time": "2025-04-03T06:00:35.676601",
     "exception": false,
     "start_time": "2025-04-03T06:00:35.497920",
     "status": "completed"
    },
    "tags": []
   },
   "outputs": [],
   "source": [
    "from kaggle_secrets import UserSecretsClient\n",
    "\n",
    "GOOGLE_API_KEY = UserSecretsClient().get_secret(\"GOOGLE_API_KEY\")"
   ]
  },
  {
   "attachments": {
    "d2be9aab-2527-48af-b6cf-1f06cdd7c3a7.png": {
     "image/png": "[encoded data removed]"
    }
   },
   "cell_type": "markdown",
   "id": "5c29aac8",
   "metadata": {
    "id": "4e720472fd86",
    "papermill": {
     "duration": 0.017399,
     "end_time": "2025-04-03T06:00:35.712905",
     "exception": false,
     "start_time": "2025-04-03T06:00:35.695506",
     "status": "completed"
    },
    "tags": []
   },
   "source": [
    "If you received an error response along the lines of `No user secrets exist for kernel id ...`, then you need to add your API key via `Add-ons`, `Secrets` **and** enable it.\n",
    "\n",
    "![Screenshot of the checkbox to enable GOOGLE_API_KEY secret](https://storage.googleapis.com/kaggle-media/Images/5gdai_sc_3.png)"
   ]
  },
  {
   "cell_type": "markdown",
   "id": "02436c08",
   "metadata": {
    "id": "H_YXCYIKvyZJ",
    "papermill": {
     "duration": 0.014431,
     "end_time": "2025-04-03T06:00:35.747171",
     "exception": false,
     "start_time": "2025-04-03T06:00:35.732740",
     "status": "completed"
    },
    "tags": []
   },
   "source": [
    "### Run your first prompt\n",
    "\n",
    "In this step, you will test that your API key is set up correctly by making a request.\n",
    "\n",
    "The Python SDK uses a [`Client` object](https://googleapis.github.io/python-genai/genai.html#genai.client.Client) to make requests to the API. The client lets you control which back-end to use (between the Gemini API and Vertex AI) and handles authentication (the API key).\n",
    "\n",
    "The `gemini-2.0-flash` model has been selected here.\n",
    "\n",
    "**Note**: If you see a `TransportError` on this step, you may need to **🔁 Factory reset** the notebook one time."
   ]
  },
  {
   "cell_type": "code",
   "execution_count": 6,
   "id": "2c5ad827",
   "metadata": {
    "execution": {
     "iopub.execute_input": "2025-04-03T06:00:35.781367Z",
     "iopub.status.busy": "2025-04-03T06:00:35.780914Z",
     "iopub.status.idle": "2025-04-03T06:00:38.749149Z",
     "shell.execute_reply": "2025-04-03T06:00:38.748060Z"
    },
    "id": "BV1o0PmcvyJF",
    "papermill": {
     "duration": 2.987311,
     "end_time": "2025-04-03T06:00:38.751438",
     "exception": false,
     "start_time": "2025-04-03T06:00:35.764127",
     "status": "completed"
    },
    "tags": []
   },
   "outputs": [
    {
     "name": "stdout",
     "output_type": "stream",
     "text": [
      "Okay, imagine you have a really, really smart puppy, but it doesn't know anything at first. That puppy is like AI!\n",
      "\n",
      "AI stands for Artificial Intelligence.  \"Artificial\" means it's not real like a real puppy. It's made by people.  And \"Intelligence\" means it can learn and think, kind of.\n",
      "\n",
      "So, how does this AI puppy learn?  Well, you show it lots and lots and lots of pictures of different things.  Like, maybe you show it a million pictures of cats. You tell the AI, \"This is a cat!  This is a cat!  This is a cat!\"  After seeing so many cats, the AI starts to recognize what a cat looks like all on its own.  Then, when you show it a new picture, it can say, \"Hey!  That's a cat!\"\n",
      "\n",
      "That's how AI works! It learns from lots and lots of information.\n",
      "\n",
      "Here are some examples of AI you might already know:\n",
      "\n",
      "*   **Siri or Alexa:**  You can ask them questions and they try to understand what you're saying and give you answers.  They learned by listening to lots of people talk!\n",
      "*   **The game you play on your tablet:**  Sometimes, the game gets harder as you get better.  That's because the game is learning how you play and adjusting to challenge you.\n",
      "*   **The recommendations on YouTube:**  When YouTube suggests videos you might like, it's using AI to figure out what you like to watch.  It learns from what you've watched before!\n",
      "\n",
      "So, AI is like a super-smart computer program that can learn and get better at things, just like a really smart puppy! It helps us do things faster and easier. But remember, it's not real and needs lots of information to learn!\n",
      "\n"
     ]
    }
   ],
   "source": [
    "client = genai.Client(api_key=GOOGLE_API_KEY)\n",
    "\n",
    "response = client.models.generate_content(\n",
    "    model=\"gemini-2.0-flash\",\n",
    "    contents=\"Explain AI to me like I'm a kid.\")\n",
    "\n",
    "print(response.text)"
   ]
  },
  {
   "cell_type": "markdown",
   "id": "76339ab8",
   "metadata": {
    "id": "f60ed9d8ae41",
    "papermill": {
     "duration": 0.012552,
     "end_time": "2025-04-03T06:00:38.778600",
     "exception": false,
     "start_time": "2025-04-03T06:00:38.766048",
     "status": "completed"
    },
    "tags": []
   },
   "source": [
    "The response often comes back in markdown format, which you can render directly in this notebook."
   ]
  },
  {
   "cell_type": "code",
   "execution_count": 7,
   "id": "e0d3a46d",
   "metadata": {
    "execution": {
     "iopub.execute_input": "2025-04-03T06:00:38.805128Z",
     "iopub.status.busy": "2025-04-03T06:00:38.804776Z",
     "iopub.status.idle": "2025-04-03T06:00:38.813986Z",
     "shell.execute_reply": "2025-04-03T06:00:38.812735Z"
    },
    "id": "c933e5e460a5",
    "papermill": {
     "duration": 0.025342,
     "end_time": "2025-04-03T06:00:38.816406",
     "exception": false,
     "start_time": "2025-04-03T06:00:38.791064",
     "status": "completed"
    },
    "tags": []
   },
   "outputs": [
    {
     "data": {
      "text/markdown": [
       "Okay, imagine you have a really, really smart puppy, but it doesn't know anything at first. That puppy is like AI!\n",
       "\n",
       "AI stands for Artificial Intelligence.  \"Artificial\" means it's not real like a real puppy. It's made by people.  And \"Intelligence\" means it can learn and think, kind of.\n",
       "\n",
       "So, how does this AI puppy learn?  Well, you show it lots and lots and lots of pictures of different things.  Like, maybe you show it a million pictures of cats. You tell the AI, \"This is a cat!  This is a cat!  This is a cat!\"  After seeing so many cats, the AI starts to recognize what a cat looks like all on its own.  Then, when you show it a new picture, it can say, \"Hey!  That's a cat!\"\n",
       "\n",
       "That's how AI works! It learns from lots and lots of information.\n",
       "\n",
       "Here are some examples of AI you might already know:\n",
       "\n",
       "*   **Siri or Alexa:**  You can ask them questions and they try to understand what you're saying and give you answers.  They learned by listening to lots of people talk!\n",
       "*   **The game you play on your tablet:**  Sometimes, the game gets harder as you get better.  That's because the game is learning how you play and adjusting to challenge you.\n",
       "*   **The recommendations on YouTube:**  When YouTube suggests videos you might like, it's using AI to figure out what you like to watch.  It learns from what you've watched before!\n",
       "\n",
       "So, AI is like a super-smart computer program that can learn and get better at things, just like a really smart puppy! It helps us do things faster and easier. But remember, it's not real and needs lots of information to learn!\n"
      ],
      "text/plain": [
       "<IPython.core.display.Markdown object>"
      ]
     },
     "execution_count": 7,
     "metadata": {},
     "output_type": "execute_result"
    }
   ],
   "source": [
    "Markdown(response.text)"
   ]
  },
  {
   "cell_type": "markdown",
   "id": "4f8d3431",
   "metadata": {
    "id": "byx0pT9ZMW2Q",
    "papermill": {
     "duration": 0.012207,
     "end_time": "2025-04-03T06:00:38.841844",
     "exception": false,
     "start_time": "2025-04-03T06:00:38.829637",
     "status": "completed"
    },
    "tags": []
   },
   "source": [
    "### Start a chat\n",
    "\n",
    "The previous example uses a single-turn, text-in/text-out structure, but you can also set up a multi-turn chat structure too."
   ]
  },
  {
   "cell_type": "code",
   "execution_count": 8,
   "id": "d65e4f43",
   "metadata": {
    "execution": {
     "iopub.execute_input": "2025-04-03T06:00:38.869152Z",
     "iopub.status.busy": "2025-04-03T06:00:38.868734Z",
     "iopub.status.idle": "2025-04-03T06:00:39.301959Z",
     "shell.execute_reply": "2025-04-03T06:00:39.300767Z"
    },
    "id": "lV_S5ZL5MidD",
    "papermill": {
     "duration": 0.449448,
     "end_time": "2025-04-03T06:00:39.304305",
     "exception": false,
     "start_time": "2025-04-03T06:00:38.854857",
     "status": "completed"
    },
    "tags": []
   },
   "outputs": [
    {
     "name": "stdout",
     "output_type": "stream",
     "text": [
      "Greetings, Zlork! It's a pleasure to meet you. How can I help you today?\n",
      "\n"
     ]
    }
   ],
   "source": [
    "chat = client.chats.create(model='gemini-2.0-flash', history=[])\n",
    "response = chat.send_message('Hello! My name is Zlork.')\n",
    "print(response.text)"
   ]
  },
  {
   "cell_type": "code",
   "execution_count": 9,
   "id": "7aca54b3",
   "metadata": {
    "execution": {
     "iopub.execute_input": "2025-04-03T06:00:39.332815Z",
     "iopub.status.busy": "2025-04-03T06:00:39.332437Z",
     "iopub.status.idle": "2025-04-03T06:00:40.442608Z",
     "shell.execute_reply": "2025-04-03T06:00:40.441348Z"
    },
    "id": "7b0372c3c64a",
    "papermill": {
     "duration": 1.127633,
     "end_time": "2025-04-03T06:00:40.444710",
     "exception": false,
     "start_time": "2025-04-03T06:00:39.317077",
     "status": "completed"
    },
    "tags": []
   },
   "outputs": [
    {
     "name": "stdout",
     "output_type": "stream",
     "text": [
      "Okay, here's an interesting fact about dinosaurs:\n",
      "\n",
      "**Some dinosaurs swallowed stones, called gastroliths, to help them grind up plant matter in their stomachs.**\n",
      "\n",
      "Imagine they were using rocks as internal teeth! Since many plant-eating dinosaurs lacked the complex teeth needed to thoroughly chew tough vegetation, these stones helped break down their food more effectively, allowing them to extract more nutrients. This is similar to how some modern birds, like chickens, use grit.\n",
      "\n",
      "Pretty cool, right? Do you want to know another interesting dinosaur fact?\n",
      "\n"
     ]
    }
   ],
   "source": [
    "response = chat.send_message('Can you tell me something interesting about dinosaurs?')\n",
    "print(response.text)"
   ]
  },
  {
   "cell_type": "markdown",
   "id": "dd38a27f",
   "metadata": {
    "papermill": {
     "duration": 0.012402,
     "end_time": "2025-04-03T06:00:40.469908",
     "exception": false,
     "start_time": "2025-04-03T06:00:40.457506",
     "status": "completed"
    },
    "tags": []
   },
   "source": [
    "While you have the `chat` object alive, the conversation state\n",
    "persists. Confirm that by asking if it knows the user's name."
   ]
  },
  {
   "cell_type": "code",
   "execution_count": 10,
   "id": "5da34d14",
   "metadata": {
    "execution": {
     "iopub.execute_input": "2025-04-03T06:00:40.496886Z",
     "iopub.status.busy": "2025-04-03T06:00:40.496501Z",
     "iopub.status.idle": "2025-04-03T06:00:40.931946Z",
     "shell.execute_reply": "2025-04-03T06:00:40.930693Z"
    },
    "id": "d3f9591392a7",
    "papermill": {
     "duration": 0.451418,
     "end_time": "2025-04-03T06:00:40.934033",
     "exception": false,
     "start_time": "2025-04-03T06:00:40.482615",
     "status": "completed"
    },
    "tags": []
   },
   "outputs": [
    {
     "name": "stdout",
     "output_type": "stream",
     "text": [
      "Yes, your name is Zlork!\n",
      "\n"
     ]
    }
   ],
   "source": [
    "response = chat.send_message('Do you remember what my name is?')\n",
    "print(response.text)"
   ]
  },
  {
   "cell_type": "markdown",
   "id": "b334e9d8",
   "metadata": {
    "id": "2KAjpr1200sW",
    "papermill": {
     "duration": 0.012445,
     "end_time": "2025-04-03T06:00:40.959435",
     "exception": false,
     "start_time": "2025-04-03T06:00:40.946990",
     "status": "completed"
    },
    "tags": []
   },
   "source": [
    "### Choose a model\n",
    "\n",
    "The Gemini API provides access to a number of models from the Gemini model family. Read about the available models and their capabilities on the [model overview page](https://ai.google.dev/gemini-api/docs/models/gemini).\n",
    "\n",
    "In this step you'll use the API to list all of the available models."
   ]
  },
  {
   "cell_type": "code",
   "execution_count": 11,
   "id": "278026c4",
   "metadata": {
    "execution": {
     "iopub.execute_input": "2025-04-03T06:00:40.986540Z",
     "iopub.status.busy": "2025-04-03T06:00:40.986093Z",
     "iopub.status.idle": "2025-04-03T06:00:41.048627Z",
     "shell.execute_reply": "2025-04-03T06:00:41.047585Z"
    },
    "id": "uUUZa2uq2jDm",
    "papermill": {
     "duration": 0.079322,
     "end_time": "2025-04-03T06:00:41.051502",
     "exception": false,
     "start_time": "2025-04-03T06:00:40.972180",
     "status": "completed"
    },
    "tags": []
   },
   "outputs": [
    {
     "name": "stdout",
     "output_type": "stream",
     "text": [
      "models/chat-bison-001\n",
      "models/text-bison-001\n",
      "models/embedding-gecko-001\n",
      "models/gemini-1.0-pro-vision-latest\n",
      "models/gemini-pro-vision\n",
      "models/gemini-1.5-pro-latest\n",
      "models/gemini-1.5-pro-001\n",
      "models/gemini-1.5-pro-002\n",
      "models/gemini-1.5-pro\n",
      "models/gemini-1.5-flash-latest\n",
      "models/gemini-1.5-flash-001\n",
      "models/gemini-1.5-flash-001-tuning\n",
      "models/gemini-1.5-flash\n",
      "models/gemini-1.5-flash-002\n",
      "models/gemini-1.5-flash-8b\n",
      "models/gemini-1.5-flash-8b-001\n",
      "models/gemini-1.5-flash-8b-latest\n",
      "models/gemini-1.5-flash-8b-exp-0827\n",
      "models/gemini-1.5-flash-8b-exp-0924\n",
      "models/gemini-2.5-pro-exp-03-25\n",
      "models/gemini-2.0-flash-exp\n",
      "models/gemini-2.0-flash\n",
      "models/gemini-2.0-flash-001\n",
      "models/gemini-2.0-flash-exp-image-generation\n",
      "models/gemini-2.0-flash-lite-001\n",
      "models/gemini-2.0-flash-lite\n",
      "models/gemini-2.0-flash-lite-preview-02-05\n",
      "models/gemini-2.0-flash-lite-preview\n",
      "models/gemini-2.0-pro-exp\n",
      "models/gemini-2.0-pro-exp-02-05\n",
      "models/gemini-exp-1206\n",
      "models/gemini-2.0-flash-thinking-exp-01-21\n",
      "models/gemini-2.0-flash-thinking-exp\n",
      "models/gemini-2.0-flash-thinking-exp-1219\n",
      "models/learnlm-1.5-pro-experimental\n",
      "models/gemma-3-1b-it\n",
      "models/gemma-3-4b-it\n",
      "models/gemma-3-12b-it\n",
      "models/gemma-3-27b-it\n",
      "models/embedding-001\n",
      "models/text-embedding-004\n",
      "models/gemini-embedding-exp-03-07\n",
      "models/gemini-embedding-exp\n",
      "models/aqa\n",
      "models/imagen-3.0-generate-002\n"
     ]
    }
   ],
   "source": [
    "for model in client.models.list():\n",
    "  print(model.name)"
   ]
  },
  {
   "cell_type": "markdown",
   "id": "b2fb910a",
   "metadata": {
    "id": "rN49kSI54R1v",
    "papermill": {
     "duration": 0.012667,
     "end_time": "2025-04-03T06:00:41.077249",
     "exception": false,
     "start_time": "2025-04-03T06:00:41.064582",
     "status": "completed"
    },
    "tags": []
   },
   "source": [
    "The [`models.list`](https://ai.google.dev/api/models#method:-models.list) response also returns additional information about the model's capabilities, like the token limits and supported parameters."
   ]
  },
  {
   "cell_type": "code",
   "execution_count": 12,
   "id": "ee7b47de",
   "metadata": {
    "execution": {
     "iopub.execute_input": "2025-04-03T06:00:41.105006Z",
     "iopub.status.busy": "2025-04-03T06:00:41.104653Z",
     "iopub.status.idle": "2025-04-03T06:00:41.222266Z",
     "shell.execute_reply": "2025-04-03T06:00:41.221177Z"
    },
    "id": "k7JJ1K6j4Rl8",
    "papermill": {
     "duration": 0.134152,
     "end_time": "2025-04-03T06:00:41.224579",
     "exception": false,
     "start_time": "2025-04-03T06:00:41.090427",
     "status": "completed"
    },
    "tags": []
   },
   "outputs": [
    {
     "name": "stdout",
     "output_type": "stream",
     "text": [
      "{'description': 'Gemini 2.0 Flash',\n",
      " 'display_name': 'Gemini 2.0 Flash',\n",
      " 'input_token_limit': 1048576,\n",
      " 'name': 'models/gemini-2.0-flash',\n",
      " 'output_token_limit': 8192,\n",
      " 'supported_actions': ['generateContent', 'countTokens'],\n",
      " 'tuned_model_info': {},\n",
      " 'version': '2.0'}\n"
     ]
    }
   ],
   "source": [
    "from pprint import pprint\n",
    "\n",
    "for model in client.models.list():\n",
    "  if model.name == 'models/gemini-2.0-flash':\n",
    "    pprint(model.to_json_dict())\n",
    "    break"
   ]
  },
  {
   "cell_type": "markdown",
   "id": "5b3f4555",
   "metadata": {
    "id": "5rU_UBlZdooM",
    "papermill": {
     "duration": 0.012488,
     "end_time": "2025-04-03T06:00:41.250038",
     "exception": false,
     "start_time": "2025-04-03T06:00:41.237550",
     "status": "completed"
    },
    "tags": []
   },
   "source": [
    "## Explore generation parameters\n",
    "\n"
   ]
  },
  {
   "cell_type": "markdown",
   "id": "ee93eaa5",
   "metadata": {
    "id": "G7NfEizeipbW",
    "papermill": {
     "duration": 0.012364,
     "end_time": "2025-04-03T06:00:41.275193",
     "exception": false,
     "start_time": "2025-04-03T06:00:41.262829",
     "status": "completed"
    },
    "tags": []
   },
   "source": [
    "### Output length\n",
    "\n",
    "When generating text with an LLM, the output length affects cost and performance. Generating more tokens increases computation, leading to higher energy consumption, latency, and cost.\n",
    "\n",
    "To stop the model from generating tokens past a limit, you can specify the `max_output_tokens` parameter when using the Gemini API. Specifying this parameter does not influence the generation of the output tokens, so the output will not become more stylistically or textually succinct, but it will stop generating tokens once the specified length is reached. Prompt engineering may be required to generate a more complete output for your given limit."
   ]
  },
  {
   "cell_type": "code",
   "execution_count": 13,
   "id": "e3efd5e6",
   "metadata": {
    "execution": {
     "iopub.execute_input": "2025-04-03T06:00:41.303320Z",
     "iopub.status.busy": "2025-04-03T06:00:41.302621Z",
     "iopub.status.idle": "2025-04-03T06:00:42.910578Z",
     "shell.execute_reply": "2025-04-03T06:00:42.909345Z"
    },
    "id": "qVf23JsIi9ma",
    "papermill": {
     "duration": 1.625558,
     "end_time": "2025-04-03T06:00:42.913562",
     "exception": false,
     "start_time": "2025-04-03T06:00:41.288004",
     "status": "completed"
    },
    "tags": []
   },
   "outputs": [
    {
     "name": "stdout",
     "output_type": "stream",
     "text": [
      "## The Humble Olive: A Keystone Species in Modern Society\n",
      "\n",
      "The olive, that small, unassuming fruit borne by the hardy Olea europaea tree, might seem like a niche ingredient in modern society. However, beneath its briny surface lies a significance that extends far beyond a mere garnish. From its ancient roots in the Mediterranean basin to its modern ubiquity on dining tables and in cosmetic formulations worldwide, the olive has become a surprisingly crucial element in our modern lives, influencing our diets, health, economy, culture, and even our understanding of sustainability.\n",
      "\n",
      "One of the most prominent contributions of the olive lies in its nutritional value and impact on our diets. Olive oil, extracted from the flesh of the olive, is a cornerstone of the Mediterranean diet, a dietary pattern consistently linked to improved cardiovascular health, reduced risk of chronic diseases, and increased longevity. This \"liquid gold,\" rich in monounsaturated fats, particularly oleic acid, helps lower \"bad\" LDL cholesterol and raise \"good\" HDL\n"
     ]
    }
   ],
   "source": [
    "from google.genai import types\n",
    "\n",
    "short_config = types.GenerateContentConfig(max_output_tokens=200)\n",
    "\n",
    "response = client.models.generate_content(\n",
    "    model='gemini-2.0-flash',\n",
    "    config=short_config,\n",
    "    contents='Write a 1000 word essay on the importance of olives in modern society.')\n",
    "\n",
    "print(response.text)"
   ]
  },
  {
   "cell_type": "code",
   "execution_count": 14,
   "id": "3ebf027f",
   "metadata": {
    "execution": {
     "iopub.execute_input": "2025-04-03T06:00:42.958211Z",
     "iopub.status.busy": "2025-04-03T06:00:42.957292Z",
     "iopub.status.idle": "2025-04-03T06:00:43.848646Z",
     "shell.execute_reply": "2025-04-03T06:00:43.847568Z"
    },
    "id": "W-3kR2F5kdMR",
    "papermill": {
     "duration": 0.913939,
     "end_time": "2025-04-03T06:00:43.851337",
     "exception": false,
     "start_time": "2025-04-03T06:00:42.937398",
     "status": "completed"
    },
    "tags": []
   },
   "outputs": [
    {
     "name": "stdout",
     "output_type": "stream",
     "text": [
      "From sun-drenched groves, a humble grace,\n",
      "The olive comes to modern space.\n",
      "In salads bright, and oils so fine,\n",
      "A taste of health, almost divine.\n",
      "\n",
      "On pizzas spread, in tapenade,\n",
      "A culinary serenade.\n",
      "A symbol old, of peace and light,\n",
      "The olive shines, a future bright.\n",
      "\n"
     ]
    }
   ],
   "source": [
    "response = client.models.generate_content(\n",
    "    model='gemini-2.0-flash',\n",
    "    config=short_config,\n",
    "    contents='Write a short poem on the importance of olives in modern society.')\n",
    "\n",
    "print(response.text)"
   ]
  },
  {
   "cell_type": "markdown",
   "id": "7ddff512",
   "metadata": {
    "id": "3ZhDSLB6lqqB",
    "papermill": {
     "duration": 0.013043,
     "end_time": "2025-04-03T06:00:43.878052",
     "exception": false,
     "start_time": "2025-04-03T06:00:43.865009",
     "status": "completed"
    },
    "tags": []
   },
   "source": [
    "Explore with your own prompts. Try a prompt with a restrictive output limit and then adjust the prompt to work within that limit."
   ]
  },
  {
   "cell_type": "markdown",
   "id": "af99ffbf",
   "metadata": {
    "id": "alx-WaAvir_9",
    "papermill": {
     "duration": 0.01287,
     "end_time": "2025-04-03T06:00:43.904262",
     "exception": false,
     "start_time": "2025-04-03T06:00:43.891392",
     "status": "completed"
    },
    "tags": []
   },
   "source": [
    "### Temperature\n",
    "\n",
    "Temperature controls the degree of randomness in token selection. Higher temperatures result in a higher number of candidate tokens from which the next output token is selected, and can produce more diverse results, while lower temperatures have the opposite effect, such that a temperature of 0 results in greedy decoding, selecting the most probable token at each step.\n",
    "\n",
    "Temperature doesn't provide any guarantees of randomness, but it can be used to \"nudge\" the output somewhat."
   ]
  },
  {
   "cell_type": "code",
   "execution_count": 15,
   "id": "2515144c",
   "metadata": {
    "execution": {
     "iopub.execute_input": "2025-04-03T06:00:43.933222Z",
     "iopub.status.busy": "2025-04-03T06:00:43.932143Z",
     "iopub.status.idle": "2025-04-03T06:00:45.976229Z",
     "shell.execute_reply": "2025-04-03T06:00:45.974890Z"
    },
    "id": "SHraGMzqnZqt",
    "papermill": {
     "duration": 2.061252,
     "end_time": "2025-04-03T06:00:45.978676",
     "exception": false,
     "start_time": "2025-04-03T06:00:43.917424",
     "status": "completed"
    },
    "tags": []
   },
   "outputs": [
    {
     "name": "stdout",
     "output_type": "stream",
     "text": [
      "Orange.\n",
      " -------------------------\n",
      "Azure.\n",
      " -------------------------\n",
      "Magenta\n",
      " -------------------------\n",
      "Azure\n",
      " -------------------------\n",
      "Turquoise\n",
      " -------------------------\n"
     ]
    }
   ],
   "source": [
    "high_temp_config = types.GenerateContentConfig(temperature=2.0)\n",
    "\n",
    "\n",
    "for _ in range(5):\n",
    "  response = client.models.generate_content(\n",
    "      model='gemini-2.0-flash',\n",
    "      config=high_temp_config,\n",
    "      contents='Pick a random colour... (respond in a single word)')\n",
    "\n",
    "  if response.text:\n",
    "    print(response.text, '-' * 25)"
   ]
  },
  {
   "cell_type": "markdown",
   "id": "853a9326",
   "metadata": {
    "id": "z3J4pCTuof7e",
    "papermill": {
     "duration": 0.013304,
     "end_time": "2025-04-03T06:00:46.005703",
     "exception": false,
     "start_time": "2025-04-03T06:00:45.992399",
     "status": "completed"
    },
    "tags": []
   },
   "source": [
    "Now try the same prompt with temperature set to zero. Note that the output is not completely deterministic, as other parameters affect token selection, but the results will tend to be more stable."
   ]
  },
  {
   "cell_type": "code",
   "execution_count": 16,
   "id": "00ef9606",
   "metadata": {
    "execution": {
     "iopub.execute_input": "2025-04-03T06:00:46.038061Z",
     "iopub.status.busy": "2025-04-03T06:00:46.037689Z",
     "iopub.status.idle": "2025-04-03T06:00:48.022442Z",
     "shell.execute_reply": "2025-04-03T06:00:48.021250Z"
    },
    "id": "clymkWv-PfUZ",
    "papermill": {
     "duration": 2.001726,
     "end_time": "2025-04-03T06:00:48.024738",
     "exception": false,
     "start_time": "2025-04-03T06:00:46.023012",
     "status": "completed"
    },
    "tags": []
   },
   "outputs": [
    {
     "name": "stdout",
     "output_type": "stream",
     "text": [
      "Azure\n",
      " -------------------------\n",
      "Azure\n",
      " -------------------------\n",
      "Azure\n",
      " -------------------------\n",
      "Azure\n",
      " -------------------------\n",
      "Azure\n",
      " -------------------------\n"
     ]
    }
   ],
   "source": [
    "low_temp_config = types.GenerateContentConfig(temperature=0.0)\n",
    "\n",
    "for _ in range(5):\n",
    "  response = client.models.generate_content(\n",
    "      model='gemini-2.0-flash',\n",
    "      config=low_temp_config,\n",
    "      contents='Pick a random colour... (respond in a single word)')\n",
    "\n",
    "  if response.text:\n",
    "    print(response.text, '-' * 25)"
   ]
  },
  {
   "cell_type": "markdown",
   "id": "268472b0",
   "metadata": {
    "id": "St5nt3vzitsZ",
    "papermill": {
     "duration": 0.013319,
     "end_time": "2025-04-03T06:00:48.051812",
     "exception": false,
     "start_time": "2025-04-03T06:00:48.038493",
     "status": "completed"
    },
    "tags": []
   },
   "source": [
    "### Top-P\n",
    "\n",
    "Like temperature, the top-P parameter is also used to control the diversity of the model's output.\n",
    "\n",
    "Top-P defines the probability threshold that, once cumulatively exceeded, tokens stop being selected as candidates. A top-P of 0 is typically equivalent to greedy decoding, and a top-P of 1 typically selects every token in the model's vocabulary.\n",
    "\n",
    "You may also see top-K referenced in LLM literature. Top-K is not configurable in the Gemini 2.0 series of models, but can be changed in older models. Top-K is a positive integer that defines the number of most probable tokens from which to select the output token. A top-K of 1 selects a single token, performing greedy decoding.\n",
    "\n",
    "\n",
    "Run this example a number of times, change the settings and observe the change in output."
   ]
  },
  {
   "cell_type": "code",
   "execution_count": 17,
   "id": "9fcd9c73",
   "metadata": {
    "execution": {
     "iopub.execute_input": "2025-04-03T06:00:48.080916Z",
     "iopub.status.busy": "2025-04-03T06:00:48.080530Z",
     "iopub.status.idle": "2025-04-03T06:02:33.429952Z",
     "shell.execute_reply": "2025-04-03T06:02:33.428535Z"
    },
    "id": "lPlzpEavUV8F",
    "papermill": {
     "duration": 105.381347,
     "end_time": "2025-04-03T06:02:33.446892",
     "exception": false,
     "start_time": "2025-04-03T06:00:48.065545",
     "status": "completed"
    },
    "tags": []
   },
   "outputs": [
    {
     "name": "stdout",
     "output_type": "stream",
     "text": [
      "Whiskers twitched, amber eyes narrowed, Bartholomew Buttons, a ginger tabby of discerning taste and questionable bravery, surveyed his domain. His domain consisted of Mrs. Higgins’ floral armchair, the sunbeam-drenched window sill, and the strategically placed scratching post. Today, however, something felt… different. A rogue breeze, scented with unknown delights, wafted through the slightly ajar back door. Adventure, it seemed, was calling.\n",
      "\n",
      "Normally, Bartholomew was a creature of habit, content with naps and the occasional swat at a dangling toy. But that breeze! It spoke of rustling leaves, chirping birds, and the tantalizing possibility of a mouse, plump and unsuspecting. He hesitated for a heartbeat, then, with a flick of his tail and a silent promise to return before teatime, he slipped through the gap and into the unknown.\n",
      "\n",
      "The backyard was a jungle compared to Mrs. Higgins’ meticulously manicured living room. Tall grass tickled his belly, and the air hummed with the buzz of insects. He stalked through the foliage, ears perked, nose twitching, a miniature tiger on the prowl. He encountered a grumpy beetle, a dizzying array of butterflies, and a particularly suspicious earthworm, all of which he deemed unworthy of his attention.\n",
      "\n",
      "His quest led him to the back fence, a formidable barrier separating him from the forbidden world beyond. But Bartholomew was not easily deterred. He scaled it with practiced ease, claws digging into the weathered wood.\n",
      "\n",
      "On the other side lay a riot of color and sound. A bustling street, filled with roaring metal beasts and hurrying humans. He froze, overwhelmed. This was far more exciting, and far more terrifying, than he had imagined.\n",
      "\n",
      "He found refuge beneath a parked car, his heart thumping against his ribs. The smell of gasoline and hot asphalt was strangely intriguing. He watched the world go by, a furry observer in a metal cave.\n",
      "\n",
      "Then, he saw her. A little girl with bright pigtails and a mischievous grin. She noticed him crouching beneath the car and crouched down too, her eyes widening with delight. \"Oh, you poor little thing! Are you lost?\" she cooed, her voice as sweet as Mrs. Higgins’ cream.\n",
      "\n",
      "Bartholomew, despite his initial fear, found himself drawn to her. He emerged from his hiding place and tentatively rubbed against her hand. She giggled and scooped him into her arms, her touch surprisingly gentle.\n",
      "\n",
      "She carried him down the street, chattering all the while. He discovered that her name was Lily, and she had a dog named Sparky who loved to chase squirrels. He even got a taste of her tuna sandwich (which, he admitted to himself, was far superior to Mrs. Higgins’ bland salmon pate).\n",
      "\n",
      "But as the sun began to dip below the horizon, a pang of guilt gnawed at his adventurous spirit. Mrs. Higgins would be worried. He meowed softly, a signal that Lily, surprisingly astute for a human, understood.\n",
      "\n",
      "\"You want to go home, don't you?\" she said, her voice a little sad. She walked him back to the fence, the same spot he had bravely crossed.\n",
      "\n",
      "With a final cuddle and a promise to visit again, she gently set him down. He scaled the fence, his heart both relieved and a little heavy.\n",
      "\n",
      "He slipped back through the back door just as Mrs. Higgins was calling his name. She scooped him up in a hug, her face etched with worry. He purred loudly, nuzzling into her shoulder.\n",
      "\n",
      "As he settled into his favorite spot on the floral armchair, the scent of familiar comfort surrounding him, Bartholomew Buttons knew that he would never forget his adventure. He had faced the unknown, befriended a human child, and tasted tuna fit for a king. And though he loved his comfortable life with Mrs. Higgins, he knew, with a thrill, that the world was full of possibilities, just waiting to be explored. He just might have to wait until after teatime for the next one.\n",
      "\n"
     ]
    }
   ],
   "source": [
    "model_config = types.GenerateContentConfig(\n",
    "    # These are the default values for gemini-2.0-flash.\n",
    "    temperature=1.0,\n",
    "    top_p=0.95,\n",
    ")\n",
    "\n",
    "story_prompt = \"You are a creative writer. Write a short story about a cat who goes on an adventure.\"\n",
    "response = client.models.generate_content(\n",
    "    model='gemini-2.0-flash',\n",
    "    config=model_config,\n",
    "    contents=story_prompt)\n",
    "\n",
    "print(response.text)"
   ]
  },
  {
   "cell_type": "markdown",
   "id": "59bd791a",
   "metadata": {
    "id": "rMrYs1koY6DX",
    "papermill": {
     "duration": 0.014382,
     "end_time": "2025-04-03T06:02:33.476223",
     "exception": false,
     "start_time": "2025-04-03T06:02:33.461841",
     "status": "completed"
    },
    "tags": []
   },
   "source": [
    "## Prompting\n",
    "\n",
    "This section contains some prompts from the chapter for you to try out directly in the API. Try changing the text here to see how each prompt performs with different instructions, more examples, or any other changes you can think of."
   ]
  },
  {
   "cell_type": "markdown",
   "id": "0da9ae6d",
   "metadata": {
    "id": "hhj_tQidZJP7",
    "papermill": {
     "duration": 0.014503,
     "end_time": "2025-04-03T06:02:33.505825",
     "exception": false,
     "start_time": "2025-04-03T06:02:33.491322",
     "status": "completed"
    },
    "tags": []
   },
   "source": [
    "### Zero-shot\n",
    "\n",
    "Zero-shot prompts are prompts that describe the request for the model directly.\n",
    "\n",
    "<table align=left>\n",
    "  <td>\n",
    "    <a target=\"_blank\" href=\"https://aistudio.google.com/prompts/1gzKKgDHwkAvexG5Up0LMtl1-6jKMKe4g\"><img src=\"https://ai.google.dev/site-assets/images/marketing/home/icon-ais.png\" style=\"height: 24px\" height=24/> Open in AI Studio</a>\n",
    "  </td>\n",
    "</table>"
   ]
  },
  {
   "cell_type": "code",
   "execution_count": 18,
   "id": "ea1dc30a",
   "metadata": {
    "execution": {
     "iopub.execute_input": "2025-04-03T06:02:33.538013Z",
     "iopub.status.busy": "2025-04-03T06:02:33.537611Z",
     "iopub.status.idle": "2025-04-03T06:02:33.858186Z",
     "shell.execute_reply": "2025-04-03T06:02:33.856823Z"
    },
    "id": "1_t-cwnDZzbH",
    "papermill": {
     "duration": 0.340129,
     "end_time": "2025-04-03T06:02:33.861383",
     "exception": false,
     "start_time": "2025-04-03T06:02:33.521254",
     "status": "completed"
    },
    "tags": []
   },
   "outputs": [
    {
     "name": "stdout",
     "output_type": "stream",
     "text": [
      "POSITIVE\n",
      "\n"
     ]
    }
   ],
   "source": [
    "model_config = types.GenerateContentConfig(\n",
    "    temperature=0.1,\n",
    "    top_p=1,\n",
    "    max_output_tokens=5,\n",
    ")\n",
    "\n",
    "zero_shot_prompt = \"\"\"Classify movie reviews as POSITIVE, NEUTRAL or NEGATIVE.\n",
    "Review: \"Her\" is a disturbing study revealing the direction\n",
    "humanity is headed if AI is allowed to keep evolving,\n",
    "unchecked. I wish there were more movies like this masterpiece.\n",
    "Sentiment: \"\"\"\n",
    "\n",
    "response = client.models.generate_content(\n",
    "    model='gemini-2.0-flash',\n",
    "    config=model_config,\n",
    "    contents=zero_shot_prompt)\n",
    "\n",
    "print(response.text)"
   ]
  },
  {
   "cell_type": "markdown",
   "id": "a4d25f45",
   "metadata": {
    "id": "3b5568bdeb11",
    "papermill": {
     "duration": 0.016718,
     "end_time": "2025-04-03T06:02:33.894423",
     "exception": false,
     "start_time": "2025-04-03T06:02:33.877705",
     "status": "completed"
    },
    "tags": []
   },
   "source": [
    "#### Enum mode\n",
    "\n",
    "The models are trained to generate text, and while the Gemini 2.0 models are great at following instructions, other models can sometimes produce more text than you may wish for. In the preceding example, the model will output the label, but sometimes it can include a preceding \"Sentiment\" label, and without an output token limit, it may also add explanatory text afterwards. See [this prompt in AI Studio](https://aistudio.google.com/prompts/1gzKKgDHwkAvexG5Up0LMtl1-6jKMKe4g) for an example.\n",
    "\n",
    "The Gemini API has an [Enum mode](https://github.com/google-gemini/cookbook/blob/main/quickstarts/Enum.ipynb) feature that allows you to constrain the output to a fixed set of values."
   ]
  },
  {
   "cell_type": "code",
   "execution_count": 19,
   "id": "53bc4827",
   "metadata": {
    "execution": {
     "iopub.execute_input": "2025-04-03T06:02:33.926981Z",
     "iopub.status.busy": "2025-04-03T06:02:33.926153Z",
     "iopub.status.idle": "2025-04-03T06:02:34.404862Z",
     "shell.execute_reply": "2025-04-03T06:02:34.403494Z"
    },
    "id": "ad118a56c598",
    "papermill": {
     "duration": 0.497453,
     "end_time": "2025-04-03T06:02:34.407376",
     "exception": false,
     "start_time": "2025-04-03T06:02:33.909923",
     "status": "completed"
    },
    "tags": []
   },
   "outputs": [
    {
     "name": "stdout",
     "output_type": "stream",
     "text": [
      "positive\n"
     ]
    }
   ],
   "source": [
    "import enum\n",
    "\n",
    "class Sentiment(enum.Enum):\n",
    "    POSITIVE = \"positive\"\n",
    "    NEUTRAL = \"neutral\"\n",
    "    NEGATIVE = \"negative\"\n",
    "\n",
    "\n",
    "response = client.models.generate_content(\n",
    "    model='gemini-2.0-flash',\n",
    "    config=types.GenerateContentConfig(\n",
    "        response_mime_type=\"text/x.enum\",\n",
    "        response_schema=Sentiment\n",
    "    ),\n",
    "    contents=zero_shot_prompt)\n",
    "\n",
    "print(response.text)"
   ]
  },
  {
   "cell_type": "markdown",
   "id": "ddec8f38",
   "metadata": {
    "papermill": {
     "duration": 0.014192,
     "end_time": "2025-04-03T06:02:34.436732",
     "exception": false,
     "start_time": "2025-04-03T06:02:34.422540",
     "status": "completed"
    },
    "tags": []
   },
   "source": [
    "When using constrained output like an enum, the Python SDK will attempt to convert the model's text response into a Python object automatically. It's stored in the `response.parsed` field."
   ]
  },
  {
   "cell_type": "code",
   "execution_count": 20,
   "id": "ccf69950",
   "metadata": {
    "execution": {
     "iopub.execute_input": "2025-04-03T06:02:34.466997Z",
     "iopub.status.busy": "2025-04-03T06:02:34.466627Z",
     "iopub.status.idle": "2025-04-03T06:02:34.472468Z",
     "shell.execute_reply": "2025-04-03T06:02:34.471299Z"
    },
    "papermill": {
     "duration": 0.024294,
     "end_time": "2025-04-03T06:02:34.475264",
     "exception": false,
     "start_time": "2025-04-03T06:02:34.450970",
     "status": "completed"
    },
    "tags": []
   },
   "outputs": [
    {
     "name": "stdout",
     "output_type": "stream",
     "text": [
      "Sentiment.POSITIVE\n",
      "<enum 'Sentiment'>\n"
     ]
    }
   ],
   "source": [
    "enum_response = response.parsed\n",
    "print(enum_response)\n",
    "print(type(enum_response))"
   ]
  },
  {
   "cell_type": "markdown",
   "id": "700c1136",
   "metadata": {
    "id": "0udiSwNbv45W",
    "papermill": {
     "duration": 0.013739,
     "end_time": "2025-04-03T06:02:34.503683",
     "exception": false,
     "start_time": "2025-04-03T06:02:34.489944",
     "status": "completed"
    },
    "tags": []
   },
   "source": [
    "### One-shot and few-shot\n",
    "\n",
    "Providing an example of the expected response is known as a \"one-shot\" prompt. When you provide multiple examples, it is a \"few-shot\" prompt.\n",
    "\n",
    "<table align=left>\n",
    "  <td>\n",
    "    <a target=\"_blank\" href=\"https://aistudio.google.com/prompts/1jjWkjUSoMXmLvMJ7IzADr_GxHPJVV2bg\"><img src=\"https://ai.google.dev/site-assets/images/marketing/home/icon-ais.png\" style=\"height: 24px\" height=24/> Open in AI Studio</a>\n",
    "  </td>\n",
    "</table>\n"
   ]
  },
  {
   "cell_type": "code",
   "execution_count": 21,
   "id": "2939aae6",
   "metadata": {
    "execution": {
     "iopub.execute_input": "2025-04-03T06:02:34.533982Z",
     "iopub.status.busy": "2025-04-03T06:02:34.533610Z",
     "iopub.status.idle": "2025-04-03T06:02:35.460727Z",
     "shell.execute_reply": "2025-04-03T06:02:35.459359Z"
    },
    "id": "hd4mVUukwOKZ",
    "papermill": {
     "duration": 0.945034,
     "end_time": "2025-04-03T06:02:35.463145",
     "exception": false,
     "start_time": "2025-04-03T06:02:34.518111",
     "status": "completed"
    },
    "tags": []
   },
   "outputs": [
    {
     "name": "stdout",
     "output_type": "stream",
     "text": [
      "```json\n",
      "{\n",
      "\"size\": \"large\",\n",
      "\"type\": \"normal\",\n",
      "\"ingredients\": [\"cheese\", \"pineapple\"]\n",
      "}\n",
      "```\n",
      "\n"
     ]
    }
   ],
   "source": [
    "few_shot_prompt = \"\"\"Parse a customer's pizza order into valid JSON:\n",
    "\n",
    "EXAMPLE:\n",
    "I want a small pizza with cheese, tomato sauce, and pepperoni.\n",
    "JSON Response:\n",
    "```\n",
    "{\n",
    "\"size\": \"small\",\n",
    "\"type\": \"normal\",\n",
    "\"ingredients\": [\"cheese\", \"tomato sauce\", \"pepperoni\"]\n",
    "}\n",
    "```\n",
    "\n",
    "EXAMPLE:\n",
    "Can I get a large pizza with tomato sauce, basil and mozzarella\n",
    "JSON Response:\n",
    "```\n",
    "{\n",
    "\"size\": \"large\",\n",
    "\"type\": \"normal\",\n",
    "\"ingredients\": [\"tomato sauce\", \"basil\", \"mozzarella\"]\n",
    "}\n",
    "```\n",
    "\n",
    "ORDER:\n",
    "\"\"\"\n",
    "\n",
    "customer_order = \"Give me a large with cheese & pineapple\"\n",
    "\n",
    "response = client.models.generate_content(\n",
    "    model='gemini-2.0-flash',\n",
    "    config=types.GenerateContentConfig(\n",
    "        temperature=0.1,\n",
    "        top_p=1,\n",
    "        max_output_tokens=250,\n",
    "    ),\n",
    "    contents=[few_shot_prompt, customer_order])\n",
    "\n",
    "print(response.text)"
   ]
  },
  {
   "cell_type": "markdown",
   "id": "d3b95f48",
   "metadata": {
    "id": "021293096f08",
    "papermill": {
     "duration": 0.014501,
     "end_time": "2025-04-03T06:02:35.492109",
     "exception": false,
     "start_time": "2025-04-03T06:02:35.477608",
     "status": "completed"
    },
    "tags": []
   },
   "source": [
    "#### JSON mode\n",
    "\n",
    "To provide control over the schema, and to ensure that you only receive JSON (with no other text or markdown), you can use the Gemini API's [JSON mode](https://github.com/google-gemini/cookbook/blob/main/quickstarts/JSON_mode.ipynb). This forces the model to constrain decoding, such that token selection is guided by the supplied schema."
   ]
  },
  {
   "cell_type": "code",
   "execution_count": 22,
   "id": "723dbea4",
   "metadata": {
    "execution": {
     "iopub.execute_input": "2025-04-03T06:02:35.527800Z",
     "iopub.status.busy": "2025-04-03T06:02:35.527199Z",
     "iopub.status.idle": "2025-04-03T06:02:36.147563Z",
     "shell.execute_reply": "2025-04-03T06:02:36.146359Z"
    },
    "id": "50fbf0260912",
    "papermill": {
     "duration": 0.642096,
     "end_time": "2025-04-03T06:02:36.150100",
     "exception": false,
     "start_time": "2025-04-03T06:02:35.508004",
     "status": "completed"
    },
    "tags": []
   },
   "outputs": [
    {
     "name": "stdout",
     "output_type": "stream",
     "text": [
      "{\n",
      "  \"size\": \"large\",\n",
      "  \"ingredients\": [\"apple\", \"chocolate\"],\n",
      "  \"type\": \"dessert\"\n",
      "}\n"
     ]
    }
   ],
   "source": [
    "import typing_extensions as typing\n",
    "\n",
    "class PizzaOrder(typing.TypedDict):\n",
    "    size: str\n",
    "    ingredients: list[str]\n",
    "    type: str\n",
    "\n",
    "\n",
    "response = client.models.generate_content(\n",
    "    model='gemini-2.0-flash',\n",
    "    config=types.GenerateContentConfig(\n",
    "        temperature=0.1,\n",
    "        response_mime_type=\"application/json\",\n",
    "        response_schema=PizzaOrder,\n",
    "    ),\n",
    "    contents=\"Can I have a large dessert pizza with apple and chocolate\")\n",
    "\n",
    "print(response.text)"
   ]
  },
  {
   "cell_type": "markdown",
   "id": "a4b01512",
   "metadata": {
    "id": "4a93e338e57c",
    "papermill": {
     "duration": 0.014272,
     "end_time": "2025-04-03T06:02:36.178920",
     "exception": false,
     "start_time": "2025-04-03T06:02:36.164648",
     "status": "completed"
    },
    "tags": []
   },
   "source": [
    "### Chain of Thought (CoT)\n",
    "\n",
    "Direct prompting on LLMs can return answers quickly and (in terms of output token usage) efficiently, but they can be prone to hallucination. The answer may \"look\" correct (in terms of language and syntax) but is incorrect in terms of factuality and reasoning.\n",
    "\n",
    "Chain-of-Thought prompting is a technique where you instruct the model to output intermediate reasoning steps, and it typically gets better results, especially when combined with few-shot examples. It is worth noting that this technique doesn't completely eliminate hallucinations, and that it tends to cost more to run, due to the increased token count.\n",
    "\n",
    "Models like the Gemini family are trained to be \"chatty\" or \"thoughtful\" and will provide reasoning steps without prompting, so for this simple example you can ask the model to be more direct in the prompt to force a non-reasoning response. Try re-running this step if the model gets lucky and gets the answer correct on the first try."
   ]
  },
  {
   "cell_type": "code",
   "execution_count": 23,
   "id": "6666de03",
   "metadata": {
    "execution": {
     "iopub.execute_input": "2025-04-03T06:02:36.210220Z",
     "iopub.status.busy": "2025-04-03T06:02:36.209820Z",
     "iopub.status.idle": "2025-04-03T06:02:36.565587Z",
     "shell.execute_reply": "2025-04-03T06:02:36.564176Z"
    },
    "id": "5715555db1c1",
    "papermill": {
     "duration": 0.375138,
     "end_time": "2025-04-03T06:02:36.568530",
     "exception": false,
     "start_time": "2025-04-03T06:02:36.193392",
     "status": "completed"
    },
    "tags": []
   },
   "outputs": [
    {
     "name": "stdout",
     "output_type": "stream",
     "text": [
      "52\n",
      "\n"
     ]
    }
   ],
   "source": [
    "prompt = \"\"\"When I was 4 years old, my partner was 3 times my age. Now, I\n",
    "am 20 years old. How old is my partner? Return the answer directly.\"\"\"\n",
    "\n",
    "response = client.models.generate_content(\n",
    "    model='gemini-2.0-flash',\n",
    "    contents=prompt)\n",
    "\n",
    "print(response.text)"
   ]
  },
  {
   "cell_type": "markdown",
   "id": "2be68517",
   "metadata": {
    "id": "e12b19677bfd",
    "papermill": {
     "duration": 0.014618,
     "end_time": "2025-04-03T06:02:36.598209",
     "exception": false,
     "start_time": "2025-04-03T06:02:36.583591",
     "status": "completed"
    },
    "tags": []
   },
   "source": [
    "Now try the same approach, but indicate to the model that it should \"think step by step\"."
   ]
  },
  {
   "cell_type": "code",
   "execution_count": 24,
   "id": "c244ab93",
   "metadata": {
    "execution": {
     "iopub.execute_input": "2025-04-03T06:02:36.632828Z",
     "iopub.status.busy": "2025-04-03T06:02:36.632397Z",
     "iopub.status.idle": "2025-04-03T06:02:37.517421Z",
     "shell.execute_reply": "2025-04-03T06:02:37.516159Z"
    },
    "id": "ffd7536a481f",
    "papermill": {
     "duration": 0.905447,
     "end_time": "2025-04-03T06:02:37.519789",
     "exception": false,
     "start_time": "2025-04-03T06:02:36.614342",
     "status": "completed"
    },
    "tags": []
   },
   "outputs": [
    {
     "data": {
      "text/markdown": [
       "Here's how to solve the problem:\n",
       "\n",
       "1. **Find the age difference:** When you were 4, your partner was 3 times your age, meaning they were 4 * 3 = 12 years old.\n",
       "2. **Calculate the age difference:** The age difference between you and your partner is 12 - 4 = 8 years.\n",
       "3. **Determine the partner's current age:** Since the age difference remains constant, your partner is currently 20 + 8 = 28 years old.\n",
       "\n",
       "**Therefore, your partner is 28 years old.**\n"
      ],
      "text/plain": [
       "<IPython.core.display.Markdown object>"
      ]
     },
     "execution_count": 24,
     "metadata": {},
     "output_type": "execute_result"
    }
   ],
   "source": [
    "prompt = \"\"\"When I was 4 years old, my partner was 3 times my age. Now,\n",
    "I am 20 years old. How old is my partner? Let's think step by step.\"\"\"\n",
    "\n",
    "response = client.models.generate_content(\n",
    "    model='gemini-2.0-flash',\n",
    "    contents=prompt)\n",
    "\n",
    "Markdown(response.text)"
   ]
  },
  {
   "cell_type": "markdown",
   "id": "688b8f1f",
   "metadata": {
    "id": "oiLgBQJj0V53",
    "papermill": {
     "duration": 0.014412,
     "end_time": "2025-04-03T06:02:37.548886",
     "exception": false,
     "start_time": "2025-04-03T06:02:37.534474",
     "status": "completed"
    },
    "tags": []
   },
   "source": [
    "### ReAct: Reason and act\n",
    "\n",
    "In this example you will run a ReAct prompt directly in the Gemini API and perform the searching steps yourself. As this prompt follows a well-defined structure, there are frameworks available that wrap the prompt into easier-to-use APIs that make tool calls automatically, such as the LangChain example from the \"Prompting\" whitepaper.\n",
    "\n",
    "To try this out with the Wikipedia search engine, check out the [Searching Wikipedia with ReAct](https://github.com/google-gemini/cookbook/blob/main/examples/Search_Wikipedia_using_ReAct.ipynb) cookbook example.\n",
    "\n",
    "\n",
    "> Note: The prompt and in-context examples used here are from [https://github.com/ysymyth/ReAct](https://github.com/ysymyth/ReAct) which is published under an [MIT license](https://opensource.org/licenses/MIT), Copyright (c) 2023 Shunyu Yao.\n",
    "\n",
    "<table align=left>\n",
    "  <td>\n",
    "    <a target=\"_blank\" href=\"https://aistudio.google.com/prompts/18oo63Lwosd-bQ6Ay51uGogB3Wk3H8XMO\"><img src=\"https://ai.google.dev/site-assets/images/marketing/home/icon-ais.png\" style=\"height: 24px\" height=24/> Open in AI Studio</a>\n",
    "  </td>\n",
    "</table>\n"
   ]
  },
  {
   "cell_type": "code",
   "execution_count": 25,
   "id": "280b92f9",
   "metadata": {
    "execution": {
     "iopub.execute_input": "2025-04-03T06:02:37.580314Z",
     "iopub.status.busy": "2025-04-03T06:02:37.579862Z",
     "iopub.status.idle": "2025-04-03T06:02:37.588146Z",
     "shell.execute_reply": "2025-04-03T06:02:37.586825Z"
    },
    "id": "cBgyNJ5z0VSs",
    "papermill": {
     "duration": 0.026991,
     "end_time": "2025-04-03T06:02:37.590582",
     "exception": false,
     "start_time": "2025-04-03T06:02:37.563591",
     "status": "completed"
    },
    "tags": []
   },
   "outputs": [],
   "source": [
    "model_instructions = \"\"\"\n",
    "Solve a question answering task with interleaving Thought, Action, Observation steps. Thought can reason about the current situation,\n",
    "Observation is understanding relevant information from an Action's output and Action can be one of three types:\n",
    " (1) <search>entity</search>, which searches the exact entity on Wikipedia and returns the first paragraph if it exists. If not, it\n",
    "     will return some similar entities to search and you can try to search the information from those topics.\n",
    " (2) <lookup>keyword</lookup>, which returns the next sentence containing keyword in the current context. This only does exact matches,\n",
    "     so keep your searches short.\n",
    " (3) <finish>answer</finish>, which returns the answer and finishes the task.\n",
    "\"\"\"\n",
    "\n",
    "example1 = \"\"\"Question\n",
    "Musician and satirist Allie Goertz wrote a song about the \"The Simpsons\" character Milhouse, who Matt Groening named after who?\n",
    "\n",
    "Thought 1\n",
    "The question simplifies to \"The Simpsons\" character Milhouse is named after who. I only need to search Milhouse and find who it is named after.\n",
    "\n",
    "Action 1\n",
    "<search>Milhouse</search>\n",
    "\n",
    "Observation 1\n",
    "Milhouse Mussolini Van Houten is a recurring character in the Fox animated television series The Simpsons voiced by Pamela Hayden and created by Matt Groening.\n",
    "\n",
    "Thought 2\n",
    "The paragraph does not tell who Milhouse is named after, maybe I can look up \"named after\".\n",
    "\n",
    "Action 2\n",
    "<lookup>named after</lookup>\n",
    "\n",
    "Observation 2\n",
    "Milhouse was named after U.S. president Richard Nixon, whose middle name was Milhous.\n",
    "\n",
    "Thought 3\n",
    "Milhouse was named after U.S. president Richard Nixon, so the answer is Richard Nixon.\n",
    "\n",
    "Action 3\n",
    "<finish>Richard Nixon</finish>\n",
    "\"\"\"\n",
    "\n",
    "example2 = \"\"\"Question\n",
    "What is the elevation range for the area that the eastern sector of the Colorado orogeny extends into?\n",
    "\n",
    "Thought 1\n",
    "I need to search Colorado orogeny, find the area that the eastern sector of the Colorado orogeny extends into, then find the elevation range of the area.\n",
    "\n",
    "Action 1\n",
    "<search>Colorado orogeny</search>\n",
    "\n",
    "Observation 1\n",
    "The Colorado orogeny was an episode of mountain building (an orogeny) in Colorado and surrounding areas.\n",
    "\n",
    "Thought 2\n",
    "It does not mention the eastern sector. So I need to look up eastern sector.\n",
    "\n",
    "Action 2\n",
    "<lookup>eastern sector</lookup>\n",
    "\n",
    "Observation 2\n",
    "The eastern sector extends into the High Plains and is called the Central Plains orogeny.\n",
    "\n",
    "Thought 3\n",
    "The eastern sector of Colorado orogeny extends into the High Plains. So I need to search High Plains and find its elevation range.\n",
    "\n",
    "Action 3\n",
    "<search>High Plains</search>\n",
    "\n",
    "Observation 3\n",
    "High Plains refers to one of two distinct land regions\n",
    "\n",
    "Thought 4\n",
    "I need to instead search High Plains (United States).\n",
    "\n",
    "Action 4\n",
    "<search>High Plains (United States)</search>\n",
    "\n",
    "Observation 4\n",
    "The High Plains are a subregion of the Great Plains. From east to west, the High Plains rise in elevation from around 1,800 to 7,000 ft (550 to 2,130m).\n",
    "\n",
    "Thought 5\n",
    "High Plains rise in elevation from around 1,800 to 7,000 ft, so the answer is 1,800 to 7,000 ft.\n",
    "\n",
    "Action 5\n",
    "<finish>1,800 to 7,000 ft</finish>\n",
    "\"\"\"\n",
    "\n",
    "# Come up with more examples yourself, or take a look through https://github.com/ysymyth/ReAct/"
   ]
  },
  {
   "cell_type": "markdown",
   "id": "b10a4ad9",
   "metadata": {
    "id": "C3wbfstjTgey",
    "papermill": {
     "duration": 0.017131,
     "end_time": "2025-04-03T06:02:37.623930",
     "exception": false,
     "start_time": "2025-04-03T06:02:37.606799",
     "status": "completed"
    },
    "tags": []
   },
   "source": [
    "To capture a single step at a time, while ignoring any hallucinated Observation steps, you will use `stop_sequences` to end the generation process. The steps are `Thought`, `Action`, `Observation`, in that order."
   ]
  },
  {
   "cell_type": "code",
   "execution_count": 26,
   "id": "8190c108",
   "metadata": {
    "execution": {
     "iopub.execute_input": "2025-04-03T06:02:37.660885Z",
     "iopub.status.busy": "2025-04-03T06:02:37.660470Z",
     "iopub.status.idle": "2025-04-03T06:02:38.168893Z",
     "shell.execute_reply": "2025-04-03T06:02:38.167714Z"
    },
    "id": "8mxrXRkRTdXm",
    "papermill": {
     "duration": 0.529944,
     "end_time": "2025-04-03T06:02:38.171322",
     "exception": false,
     "start_time": "2025-04-03T06:02:37.641378",
     "status": "completed"
    },
    "tags": []
   },
   "outputs": [
    {
     "name": "stdout",
     "output_type": "stream",
     "text": [
      "Thought 1\n",
      "I need to find the Transformers NLP paper, then find the list of authors, and then find the youngest author.\n",
      "\n",
      "Action 1\n",
      "<search>Transformers NLP paper</search>\n",
      "\n"
     ]
    }
   ],
   "source": [
    "question = \"\"\"Question\n",
    "Who was the youngest author listed on the transformers NLP paper?\n",
    "\"\"\"\n",
    "\n",
    "# You will perform the Action; so generate up to, but not including, the Observation.\n",
    "react_config = types.GenerateContentConfig(\n",
    "    stop_sequences=[\"\\nObservation\"],\n",
    "    system_instruction=model_instructions + example1 + example2,\n",
    ")\n",
    "\n",
    "# Create a chat that has the model instructions and examples pre-seeded.\n",
    "react_chat = client.chats.create(\n",
    "    model='gemini-2.0-flash',\n",
    "    config=react_config,\n",
    ")\n",
    "\n",
    "resp = react_chat.send_message(question)\n",
    "print(resp.text)"
   ]
  },
  {
   "cell_type": "markdown",
   "id": "f9cbf1e5",
   "metadata": {
    "id": "aW2PIdLbVv3l",
    "papermill": {
     "duration": 0.014636,
     "end_time": "2025-04-03T06:02:38.200941",
     "exception": false,
     "start_time": "2025-04-03T06:02:38.186305",
     "status": "completed"
    },
    "tags": []
   },
   "source": [
    "Now you can perform this research yourself and supply it back to the model."
   ]
  },
  {
   "cell_type": "code",
   "execution_count": 27,
   "id": "4a0a2bb5",
   "metadata": {
    "execution": {
     "iopub.execute_input": "2025-04-03T06:02:38.232385Z",
     "iopub.status.busy": "2025-04-03T06:02:38.231990Z",
     "iopub.status.idle": "2025-04-03T06:02:39.233451Z",
     "shell.execute_reply": "2025-04-03T06:02:39.231983Z"
    },
    "id": "mLMc0DZaV9g2",
    "papermill": {
     "duration": 1.020455,
     "end_time": "2025-04-03T06:02:39.236152",
     "exception": false,
     "start_time": "2025-04-03T06:02:38.215697",
     "status": "completed"
    },
    "tags": []
   },
   "outputs": [
    {
     "name": "stdout",
     "output_type": "stream",
     "text": [
      "Thought 2\n",
      "The observation lists the authors as: Ashish Vaswani, Noam Shazeer, Niki Parmar, Jakob Uszkoreit, Llion Jones, Aidan N. Gomez, Lukasz Kaiser, Illia Polosukhin. I need to find the youngest of these. Since I can't find their ages directly, I should search for each of them to see if any are particularly young or notable for their youth.\n",
      "\n",
      "Action 2\n",
      "<search>Ashish Vaswani</search>\n",
      "\n"
     ]
    }
   ],
   "source": [
    "observation = \"\"\"Observation 1\n",
    "[1706.03762] Attention Is All You Need\n",
    "Ashish Vaswani, Noam Shazeer, Niki Parmar, Jakob Uszkoreit, Llion Jones, Aidan N. Gomez, Lukasz Kaiser, Illia Polosukhin\n",
    "We propose a new simple network architecture, the Transformer, based solely on attention mechanisms, dispensing with recurrence and convolutions entirely.\n",
    "\"\"\"\n",
    "resp = react_chat.send_message(observation)\n",
    "print(resp.text)"
   ]
  },
  {
   "cell_type": "markdown",
   "id": "e4f8653e",
   "metadata": {
    "id": "bo0tzf4nX6dA",
    "papermill": {
     "duration": 0.016576,
     "end_time": "2025-04-03T06:02:39.267686",
     "exception": false,
     "start_time": "2025-04-03T06:02:39.251110",
     "status": "completed"
    },
    "tags": []
   },
   "source": [
    "This process repeats until the `<finish>` action is reached. You can continue running this yourself if you like, or try the [Wikipedia example](https://github.com/google-gemini/cookbook/blob/main/examples/Search_Wikipedia_using_ReAct.ipynb) to see a fully automated ReAct system at work."
   ]
  },
  {
   "cell_type": "markdown",
   "id": "ced0de4f",
   "metadata": {
    "papermill": {
     "duration": 0.014433,
     "end_time": "2025-04-03T06:02:39.297396",
     "exception": false,
     "start_time": "2025-04-03T06:02:39.282963",
     "status": "completed"
    },
    "tags": []
   },
   "source": [
    "## Thinking mode\n",
    "\n",
    "The experiemental Gemini Flash 2.0 \"Thinking\" model has been trained to generate the \"thinking process\" the model goes through as part of its response. As a result, the Flash Thinking model is capable of stronger reasoning capabilities in its responses.\n",
    "\n",
    "Using a \"thinking mode\" model can provide you with high-quality responses without needing specialised prompting like the previous approaches. One reason this technique is effective is that you induce the model to generate relevant information (\"brainstorming\", or \"thoughts\") that is then used as part of the context in which the final response is generated.\n",
    "\n",
    "Note that when you use the API, you get the final response from the model, but the thoughts are not captured. To see the intermediate thoughts, try out [the thinking mode model in AI Studio](https://aistudio.google.com/prompts/new_chat?model=gemini-2.0-flash-thinking-exp-01-21).\n",
    "\n",
    "<table align=left>\n",
    "  <td>\n",
    "    <a target=\"_blank\" href=\"https://aistudio.google.com/prompts/1Z991SV7lZZZqioOiqIUPv9a9ix-ws4zk\"><img src=\"https://ai.google.dev/site-assets/images/marketing/home/icon-ais.png\" style=\"height: 24px\" height=24/> Open in AI Studio</a>\n",
    "  </td>\n",
    "</table>"
   ]
  },
  {
   "cell_type": "code",
   "execution_count": 28,
   "id": "9fc7c25d",
   "metadata": {
    "execution": {
     "iopub.execute_input": "2025-04-03T06:02:39.328691Z",
     "iopub.status.busy": "2025-04-03T06:02:39.328189Z",
     "iopub.status.idle": "2025-04-03T06:02:46.526865Z",
     "shell.execute_reply": "2025-04-03T06:02:46.525515Z"
    },
    "papermill": {
     "duration": 7.217261,
     "end_time": "2025-04-03T06:02:46.529329",
     "exception": false,
     "start_time": "2025-04-03T06:02:39.312068",
     "status": "completed"
    },
    "tags": []
   },
   "outputs": [
    {
     "data": {
      "text/markdown": [
       "Based on the information available, **Aidan N. Gomez** is widely considered the youngest author listed on the \"Attention is All You Need\" paper, which introduced the Transformer architecture.\n",
       "\n",
       "Here's why:\n",
       "\n",
       "* **\"Attention is All You Need\" Authors:** The authors of the paper are: Ashish Vaswani, Noam Shazeer, Niki Parmar, Jakob Uszkoreit, Llion Jones, Aidan N. Gomez, Łukasz Kaiser, and Illia Polosukhin.\n",
       "* **Aidan N. Gomez's Age:**  While precise birthdates for all authors are not readily available publicly, Aidan N. Gomez is known to be significantly younger than the other authors.  He was a PhD student at the University of Oxford at the time of publication (2017).  It's estimated he was around **22 years old** when the paper was published.\n",
       "* **Other Authors' Experience:** The other authors were generally more established researchers at Google Brain and the University of Toronto, suggesting they were further along in their careers and likely older.\n",
       "\n",
       "**Therefore, while it's impossible to definitively say without knowing the exact birthdates of every author, Aidan N. Gomez is very likely the youngest author on the \"Attention is All You Need\" paper, the foundational paper for Transformers in NLP.**\n",
       "\n",
       "It's worth noting that being the \"youngest\" doesn't diminish anyone's contribution.  Aidan N. Gomez, along with all the authors, made a groundbreaking contribution to the field of NLP with this paper."
      ],
      "text/plain": [
       "<IPython.core.display.Markdown object>"
      ]
     },
     "execution_count": 28,
     "metadata": {},
     "output_type": "execute_result"
    }
   ],
   "source": [
    "import io\n",
    "from IPython.display import Markdown, clear_output\n",
    "\n",
    "\n",
    "response = client.models.generate_content_stream(\n",
    "    model='gemini-2.0-flash-thinking-exp',\n",
    "    contents='Who was the youngest author listed on the transformers NLP paper?',\n",
    ")\n",
    "\n",
    "buf = io.StringIO()\n",
    "for chunk in response:\n",
    "    buf.write(chunk.text)\n",
    "    # Display the response as it is streamed\n",
    "    print(chunk.text, end='')\n",
    "\n",
    "# And then render the finished response as formatted markdown.\n",
    "clear_output()\n",
    "Markdown(buf.getvalue())"
   ]
  },
  {
   "cell_type": "markdown",
   "id": "0e0d0e8f",
   "metadata": {
    "id": "jPiZ_eIIaVPt",
    "papermill": {
     "duration": 0.014464,
     "end_time": "2025-04-03T06:02:46.558626",
     "exception": false,
     "start_time": "2025-04-03T06:02:46.544162",
     "status": "completed"
    },
    "tags": []
   },
   "source": [
    "## Code prompting"
   ]
  },
  {
   "cell_type": "markdown",
   "id": "7416492b",
   "metadata": {
    "id": "ZinKamwXeR6C",
    "papermill": {
     "duration": 0.016133,
     "end_time": "2025-04-03T06:02:46.589428",
     "exception": false,
     "start_time": "2025-04-03T06:02:46.573295",
     "status": "completed"
    },
    "tags": []
   },
   "source": [
    "### Generating code\n",
    "\n",
    "The Gemini family of models can be used to generate code, configuration and scripts. Generating code can be helpful when learning to code, learning a new language or for rapidly generating a first draft.\n",
    "\n",
    "It's important to be aware that since LLMs can make mistakes, and can repeat training data, it's essential to read and test your code first, and comply with any relevant licenses.\n",
    "\n",
    "<table align=left>\n",
    "  <td>\n",
    "    <a target=\"_blank\" href=\"https://aistudio.google.com/prompts/1YX71JGtzDjXQkgdes8bP6i3oH5lCRKxv\"><img src=\"https://ai.google.dev/site-assets/images/marketing/home/icon-ais.png\" style=\"height: 24px\" height=24/> Open in AI Studio</a>\n",
    "  </td>\n",
    "</table>"
   ]
  },
  {
   "cell_type": "code",
   "execution_count": 29,
   "id": "e6a271f3",
   "metadata": {
    "execution": {
     "iopub.execute_input": "2025-04-03T06:02:46.625564Z",
     "iopub.status.busy": "2025-04-03T06:02:46.624847Z",
     "iopub.status.idle": "2025-04-03T06:02:47.158656Z",
     "shell.execute_reply": "2025-04-03T06:02:47.157221Z"
    },
    "id": "fOQP9pqmeUO1",
    "papermill": {
     "duration": 0.556834,
     "end_time": "2025-04-03T06:02:47.161426",
     "exception": false,
     "start_time": "2025-04-03T06:02:46.604592",
     "status": "completed"
    },
    "tags": []
   },
   "outputs": [
    {
     "data": {
      "text/markdown": [
       "```python\n",
       "def factorial(n):\n",
       "  \"\"\"\n",
       "  Calculates the factorial of a number.\n",
       "  \"\"\"\n",
       "  if n == 0:\n",
       "    return 1\n",
       "  else:\n",
       "    return n * factorial(n-1)\n",
       "```\n"
      ],
      "text/plain": [
       "<IPython.core.display.Markdown object>"
      ]
     },
     "execution_count": 29,
     "metadata": {},
     "output_type": "execute_result"
    }
   ],
   "source": [
    "# The Gemini models love to talk, so it helps to specify they stick to the code if that\n",
    "# is all that you want.\n",
    "code_prompt = \"\"\"\n",
    "Write a Python function to calculate the factorial of a number. No explanation, provide only the code.\n",
    "\"\"\"\n",
    "\n",
    "response = client.models.generate_content(\n",
    "    model='gemini-2.0-flash',\n",
    "    config=types.GenerateContentConfig(\n",
    "        temperature=1,\n",
    "        top_p=1,\n",
    "        max_output_tokens=1024,\n",
    "    ),\n",
    "    contents=code_prompt)\n",
    "\n",
    "Markdown(response.text)"
   ]
  },
  {
   "cell_type": "markdown",
   "id": "a4aeb939",
   "metadata": {
    "id": "wlBMWSFhgVRQ",
    "papermill": {
     "duration": 0.015463,
     "end_time": "2025-04-03T06:02:47.194112",
     "exception": false,
     "start_time": "2025-04-03T06:02:47.178649",
     "status": "completed"
    },
    "tags": []
   },
   "source": [
    "### Code execution\n",
    "\n",
    "The Gemini API can automatically run generated code too, and will return the output.\n",
    "\n",
    "<table align=left>\n",
    "  <td>\n",
    "    <a target=\"_blank\" href=\"https://aistudio.google.com/prompts/11veFr_VYEwBWcLkhNLr-maCG0G8sS_7Z\"><img src=\"https://ai.google.dev/site-assets/images/marketing/home/icon-ais.png\" style=\"height: 24px\" height=24/> Open in AI Studio</a>\n",
    "  </td>\n",
    "</table>"
   ]
  },
  {
   "cell_type": "code",
   "execution_count": 30,
   "id": "68e05144",
   "metadata": {
    "execution": {
     "iopub.execute_input": "2025-04-03T06:02:47.226899Z",
     "iopub.status.busy": "2025-04-03T06:02:47.226503Z",
     "iopub.status.idle": "2025-04-03T06:02:49.047667Z",
     "shell.execute_reply": "2025-04-03T06:02:49.045822Z"
    },
    "id": "jT3OfWYfhjRL",
    "papermill": {
     "duration": 1.841101,
     "end_time": "2025-04-03T06:02:49.050324",
     "exception": false,
     "start_time": "2025-04-03T06:02:47.209223",
     "status": "completed"
    },
    "tags": []
   },
   "outputs": [
    {
     "name": "stdout",
     "output_type": "stream",
     "text": [
      "{'text': 'Okay, I understand. First, I will identify the first 14 odd prime '\n",
      "         'numbers.  Then, I will calculate their sum using a python tool.\\n'\n",
      "         '\\n'\n",
      "         'The first few prime numbers are 2, 3, 5, 7, 11, 13, 17, 19, 23, 29, '\n",
      "         '31, 37, 41, 43, 47, 53...\\n'\n",
      "         '\\n'\n",
      "         'Since we want only the odd primes, we exclude 2. Therefore, the '\n",
      "         'first 14 odd primes are: 3, 5, 7, 11, 13, 17, 19, 23, 29, 31, 37, '\n",
      "         '41, 43, 47.\\n'\n",
      "         '\\n'\n",
      "         \"Now, let's calculate their sum.\\n\"\n",
      "         '\\n'}\n",
      "-----\n",
      "{'executable_code': {'code': 'numbers = [3, 5, 7, 11, 13, 17, 19, 23, 29, 31, '\n",
      "                             '37, 41, 43, 47]\\n'\n",
      "                             'total = sum(numbers)\\n'\n",
      "                             'print(total)\\n',\n",
      "                     'language': 'PYTHON'}}\n",
      "-----\n",
      "{'code_execution_result': {'outcome': 'OUTCOME_OK', 'output': '326\\n'}}\n",
      "-----\n",
      "{'text': 'The sum of the first 14 odd prime numbers is 326.\\n'}\n",
      "-----\n"
     ]
    }
   ],
   "source": [
    "from pprint import pprint\n",
    "\n",
    "config = types.GenerateContentConfig(\n",
    "    tools=[types.Tool(code_execution=types.ToolCodeExecution())],\n",
    ")\n",
    "\n",
    "code_exec_prompt = \"\"\"\n",
    "Generate the first 14 odd prime numbers, then calculate their sum.\n",
    "\"\"\"\n",
    "\n",
    "response = client.models.generate_content(\n",
    "    model='gemini-2.0-flash',\n",
    "    config=config,\n",
    "    contents=code_exec_prompt)\n",
    "\n",
    "for part in response.candidates[0].content.parts:\n",
    "  pprint(part.to_json_dict())\n",
    "  print(\"-----\")"
   ]
  },
  {
   "cell_type": "markdown",
   "id": "ffd98a94",
   "metadata": {
    "id": "ZspT1GSkjG6d",
    "papermill": {
     "duration": 0.01734,
     "end_time": "2025-04-03T06:02:49.086875",
     "exception": false,
     "start_time": "2025-04-03T06:02:49.069535",
     "status": "completed"
    },
    "tags": []
   },
   "source": [
    "This response contains multiple parts, including an opening and closing text part that represent regular responses, an `executable_code` part that represents generated code and a `code_execution_result` part that represents the results from running the generated code.\n",
    "\n",
    "You can explore them individually."
   ]
  },
  {
   "cell_type": "code",
   "execution_count": 31,
   "id": "58ba590f",
   "metadata": {
    "execution": {
     "iopub.execute_input": "2025-04-03T06:02:49.125109Z",
     "iopub.status.busy": "2025-04-03T06:02:49.124735Z",
     "iopub.status.idle": "2025-04-03T06:02:49.144479Z",
     "shell.execute_reply": "2025-04-03T06:02:49.142085Z"
    },
    "papermill": {
     "duration": 0.043796,
     "end_time": "2025-04-03T06:02:49.148970",
     "exception": false,
     "start_time": "2025-04-03T06:02:49.105174",
     "status": "completed"
    },
    "tags": []
   },
   "outputs": [
    {
     "data": {
      "text/markdown": [
       "Okay, I understand. First, I will identify the first 14 odd prime numbers.  Then, I will calculate their sum using a python tool.\n",
       "\n",
       "The first few prime numbers are 2, 3, 5, 7, 11, 13, 17, 19, 23, 29, 31, 37, 41, 43, 47, 53...\n",
       "\n",
       "Since we want only the odd primes, we exclude 2. Therefore, the first 14 odd primes are: 3, 5, 7, 11, 13, 17, 19, 23, 29, 31, 37, 41, 43, 47.\n",
       "\n",
       "Now, let's calculate their sum.\n",
       "\n"
      ],
      "text/plain": [
       "<IPython.core.display.Markdown object>"
      ]
     },
     "metadata": {},
     "output_type": "display_data"
    },
    {
     "data": {
      "text/markdown": [
       "```python\n",
       "numbers = [3, 5, 7, 11, 13, 17, 19, 23, 29, 31, 37, 41, 43, 47]\n",
       "total = sum(numbers)\n",
       "print(total)\n",
       "\n",
       "```"
      ],
      "text/plain": [
       "<IPython.core.display.Markdown object>"
      ]
     },
     "metadata": {},
     "output_type": "display_data"
    },
    {
     "data": {
      "text/markdown": [
       "```\n",
       "326\n",
       "\n",
       "```"
      ],
      "text/plain": [
       "<IPython.core.display.Markdown object>"
      ]
     },
     "metadata": {},
     "output_type": "display_data"
    },
    {
     "data": {
      "text/markdown": [
       "The sum of the first 14 odd prime numbers is 326.\n"
      ],
      "text/plain": [
       "<IPython.core.display.Markdown object>"
      ]
     },
     "metadata": {},
     "output_type": "display_data"
    }
   ],
   "source": [
    "for part in response.candidates[0].content.parts:\n",
    "    if part.text:\n",
    "        display(Markdown(part.text))\n",
    "    elif part.executable_code:\n",
    "        display(Markdown(f'```python\\n{part.executable_code.code}\\n```'))\n",
    "    elif part.code_execution_result:\n",
    "        if part.code_execution_result.outcome != 'OUTCOME_OK':\n",
    "            display(Markdown(f'## Status {part.code_execution_result.outcome}'))\n",
    "\n",
    "        display(Markdown(f'```\\n{part.code_execution_result.output}\\n```'))"
   ]
  },
  {
   "cell_type": "markdown",
   "id": "9b582f7b",
   "metadata": {
    "id": "1gUX8QzCj4d5",
    "papermill": {
     "duration": 0.020316,
     "end_time": "2025-04-03T06:02:49.188694",
     "exception": false,
     "start_time": "2025-04-03T06:02:49.168378",
     "status": "completed"
    },
    "tags": []
   },
   "source": [
    "### Explaining code\n",
    "\n",
    "The Gemini family of models can explain code to you too. In this example, you pass a [bash script](https://github.com/magicmonty/bash-git-prompt) and ask some questions.\n",
    "\n",
    "<table align=left>\n",
    "  <td>\n",
    "    <a target=\"_blank\" href=\"https://aistudio.google.com/prompts/1N7LGzWzCYieyOf_7bAG4plrmkpDNmUyb\"><img src=\"https://ai.google.dev/site-assets/images/marketing/home/icon-ais.png\" style=\"height: 24px\" height=24/> Open in AI Studio</a>\n",
    "  </td>\n",
    "</table>"
   ]
  },
  {
   "cell_type": "code",
   "execution_count": 32,
   "id": "83ed3cc4",
   "metadata": {
    "execution": {
     "iopub.execute_input": "2025-04-03T06:02:49.229498Z",
     "iopub.status.busy": "2025-04-03T06:02:49.229002Z",
     "iopub.status.idle": "2025-04-03T06:02:52.153462Z",
     "shell.execute_reply": "2025-04-03T06:02:52.151418Z"
    },
    "id": "7_jPMMoxkIEb",
    "papermill": {
     "duration": 2.946909,
     "end_time": "2025-04-03T06:02:52.156538",
     "exception": false,
     "start_time": "2025-04-03T06:02:49.209629",
     "status": "completed"
    },
    "tags": []
   },
   "outputs": [
    {
     "data": {
      "text/markdown": [
       "This file is a Bash script designed to enhance your command-line prompt with information about the Git repository you're currently working in. In simpler terms, it makes your prompt show you things like:\n",
       "\n",
       "*   **The current branch:** Which branch of the Git repository are you on?\n",
       "*   **The status of the repository:** Are there uncommitted changes, staged files, or conflicts?\n",
       "*   **Upstream/remote tracking:** Is your local branch ahead, behind, or diverged from the remote?\n",
       "*   **Virtual Environment Name:** Shows the name of any active virtual environment for the project (e.g. Python virtualenv, Node environment, or Conda)\n",
       "\n",
       "**What it is:**\n",
       "\n",
       "*   A Bash (and Zsh compatible) script.\n",
       "*   A collection of functions that determine and format Git repository status.\n",
       "*   A system for customizing the colors and symbols used in the prompt.\n",
       "\n",
       "**Why you would use it:**\n",
       "\n",
       "*   **To quickly see the state of your Git repository without running Git commands manually.** This saves you time and keeps you informed.\n",
       "*   **To make your command-line more informative and visually appealing.** The colors and symbols make it easier to understand the Git status at a glance.\n",
       "*   **To enhance productivity** by making your prompt a mini-dashboard for your Git workflow.\n",
       "*   **To show virtual environment status** in the prompt as well, to keep track of which environment is currently active.\n",
       "\n",
       "To use this script, you would typically source it in your `.bashrc` (or `.zshrc` for Zsh) file. This means adding a line like `source /path/to/this/script.sh` to your shell's configuration file. After restarting your terminal or running `source ~/.bashrc` (or `source ~/.zshrc`), your prompt will be updated with Git information when you are in a Git repository."
      ],
      "text/plain": [
       "<IPython.core.display.Markdown object>"
      ]
     },
     "execution_count": 32,
     "metadata": {},
     "output_type": "execute_result"
    }
   ],
   "source": [
    "file_contents = !curl https://raw.githubusercontent.com/magicmonty/bash-git-prompt/refs/heads/master/gitprompt.sh\n",
    "\n",
    "explain_prompt = f\"\"\"\n",
    "Please explain what this file does at a very high level. What is it, and why would I use it?\n",
    "\n",
    "```\n",
    "{file_contents}\n",
    "```\n",
    "\"\"\"\n",
    "\n",
    "response = client.models.generate_content(\n",
    "    model='gemini-2.0-flash',\n",
    "    contents=explain_prompt)\n",
    "\n",
    "Markdown(response.text)"
   ]
  },
  {
   "cell_type": "markdown",
   "id": "1c260773",
   "metadata": {
    "id": "2a8266d97ce5",
    "papermill": {
     "duration": 0.021484,
     "end_time": "2025-04-03T06:02:52.196231",
     "exception": false,
     "start_time": "2025-04-03T06:02:52.174747",
     "status": "completed"
    },
    "tags": []
   },
   "source": [
    "## Learn more\n",
    "\n",
    "To learn more about prompting in depth:\n",
    "\n",
    "* Check out the whitepaper issued with today's content,\n",
    "* Try out the apps listed at the top of this notebook ([TextFX](https://textfx.withgoogle.com/), [SQL Talk](https://sql-talk-r5gdynozbq-uc.a.run.app/) and [NotebookLM](https://notebooklm.google/)),\n",
    "* Read the [Introduction to Prompting](https://ai.google.dev/gemini-api/docs/prompting-intro) from the Gemini API docs,\n",
    "* Explore the Gemini API's [prompt gallery](https://ai.google.dev/gemini-api/prompts) and try them out in AI Studio,\n",
    "* Check out the Gemini API cookbook for [inspirational examples](https://github.com/google-gemini/cookbook/blob/main/examples/) and [educational quickstarts](https://github.com/google-gemini/cookbook/blob/main/quickstarts/).\n",
    "\n",
    "Be sure to check out the codelabs on day 3 too, where you will explore some more advanced prompting with code execution.\n",
    "\n",
    "And please share anything exciting you have tried in the Discord!\n",
    "\n",
    "*- [Mark McD](https://linktr.ee/markmcd)*"
   ]
  }
 ],
 "metadata": {
  "colab": {
   "name": "day-1-prompting.ipynb",
   "toc_visible": true
  },
  "kaggle": {
   "accelerator": "none",
   "dataSources": [],
   "dockerImageVersionId": 30786,
   "isGpuEnabled": false,
   "isInternetEnabled": true,
   "language": "python",
   "sourceType": "notebook"
  },
  "kernelspec": {
   "display_name": "Python 3",
   "language": "python",
   "name": "python3"
  },
  "language_info": {
   "codemirror_mode": {
    "name": "ipython",
    "version": 3
   },
   "file_extension": ".py",
   "mimetype": "text/x-python",
   "name": "python",
   "nbconvert_exporter": "python",
   "pygments_lexer": "ipython3",
   "version": "3.10.14"
  },
  "papermill": {
   "default_parameters": {},
   "duration": 162.808174,
   "end_time": "2025-04-03T06:02:53.041857",
   "environment_variables": {},
   "exception": null,
   "input_path": "__notebook__.ipynb",
   "output_path": "__notebook__.ipynb",
   "parameters": {},
   "start_time": "2025-04-03T06:00:10.233683",
   "version": "2.6.0"
  }
 },
 "nbformat": 4,
 "nbformat_minor": 5
}
